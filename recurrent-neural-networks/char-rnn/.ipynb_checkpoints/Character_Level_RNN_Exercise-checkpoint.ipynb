{
 "cells": [
  {
   "cell_type": "markdown",
   "metadata": {
    "heading_collapsed": true
   },
   "source": [
    "# Character-Level LSTM in PyTorch\n",
    "\n",
    "In this notebook, I'll construct a character-level LSTM with PyTorch. The network will train character by character on some text, then generate new text character by character. As an example, I will train on Anna Karenina. **This model will be able to generate new text based on the text from the book!**\n",
    "\n",
    "This network is based off of Andrej Karpathy's [post on RNNs](http://karpathy.github.io/2015/05/21/rnn-effectiveness/) and [implementation in Torch](https://github.com/karpathy/char-rnn). Below is the general architecture of the character-wise RNN.\n",
    "\n",
    "<img src=\"assets/charseq.jpeg\" width=\"500\">"
   ]
  },
  {
   "cell_type": "markdown",
   "metadata": {
    "hidden": true
   },
   "source": [
    "First let's load in our required resources for data loading and model creation."
   ]
  },
  {
   "cell_type": "code",
   "execution_count": 1,
   "metadata": {
    "ExecuteTime": {
     "end_time": "2019-02-06T01:27:04.545930Z",
     "start_time": "2019-02-06T01:27:03.146894Z"
    },
    "hidden": true,
    "tags": [
     "#imports"
    ]
   },
   "outputs": [
    {
     "data": {
      "text/plain": [
       "'1.0.0'"
      ]
     },
     "execution_count": 1,
     "metadata": {},
     "output_type": "execute_result"
    }
   ],
   "source": [
    "import numpy as np\n",
    "import math\n",
    "import torch\n",
    "from torch import nn\n",
    "from torch.utils.cpp_extension import load\n",
    "import torch.nn.functional as F\n",
    "from collections import OrderedDict\n",
    "from time import sleep\n",
    "\n",
    "torch.__version__"
   ]
  },
  {
   "cell_type": "markdown",
   "metadata": {
    "heading_collapsed": true,
    "hidden": true
   },
   "source": [
    "## Custom C++ & CUDA modules"
   ]
  },
  {
   "cell_type": "code",
   "execution_count": 2,
   "metadata": {
    "hidden": true,
    "scrolled": true
   },
   "outputs": [
    {
     "name": "stderr",
     "output_type": "stream",
     "text": [
      "c:\\users\\0107w\\anaconda3\\envs\\pytorch\\lib\\site-packages\\torch\\utils\\cpp_extension.py:92: UserWarning: Error checking compiler version: Command '['c++']' returned non-zero exit status 1.\n",
      "  warnings.warn('Error checking compiler version: {}'.format(error))\n",
      "c:\\users\\0107w\\anaconda3\\envs\\pytorch\\lib\\site-packages\\torch\\utils\\cpp_extension.py:118: UserWarning: \n",
      "\n",
      "                               !! WARNING !!\n",
      "\n",
      "!!!!!!!!!!!!!!!!!!!!!!!!!!!!!!!!!!!!!!!!!!!!!!!!!!!!!!!!!!!!!!!!!!!!!!!!!!!!!!!\n",
      "Your compiler (c++) may be ABI-incompatible with PyTorch!\n",
      "Please use a compiler that is ABI-compatible with GCC 4.9 and above.\n",
      "See https://gcc.gnu.org/onlinedocs/libstdc++/manual/abi.html.\n",
      "\n",
      "See https://gist.github.com/goldsborough/d466f43e8ffc948ff92de7486c5216d6\n",
      "for instructions on how to install GCC 4.9 or higher.\n",
      "!!!!!!!!!!!!!!!!!!!!!!!!!!!!!!!!!!!!!!!!!!!!!!!!!!!!!!!!!!!!!!!!!!!!!!!!!!!!!!!\n",
      "\n",
      "                              !! WARNING !!\n",
      "\n",
      "  warnings.warn(ABI_INCOMPATIBILITY_WARNING.format(compiler))\n"
     ]
    }
   ],
   "source": [
    "import peephole_lstm_classes"
   ]
  },
  {
   "cell_type": "code",
   "execution_count": 3,
   "metadata": {
    "hidden": true
   },
   "outputs": [],
   "source": [
    "dropout = 0.\n",
    "class PeepholeNetworkCPP(nn.Module):\n",
    "    def __init__(self):\n",
    "        super().__init__()\n",
    "        self.lstm0 = peephole_lstm_classes.PeepholeLSTMCell(129, 300)\n",
    "        self.lstm1 = peephole_lstm_classes.PeepholeLSTMCell(300, 300)\n",
    "        self.lstm2 = peephole_lstm_classes.PeepholeLSTMCell(300, 300)\n",
    "        self.fc = nn.Linear(300, 129)\n",
    "    def forward(self, x, states):\n",
    "        output = x.new_empty(x.size(0), x.size(1), 129)\n",
    "        hc1, hc2, hc3 = ((states[0][i], states[1][i]) for i in range(states[0].size(0)))\n",
    "        for i, seq_batch in enumerate(x.transpose(0, 1)):\n",
    "            hc1 = self.lstm0(seq_batch, hc1)\n",
    "            #states = self.lstm0(seq_batch, states)\n",
    "            hc2 = self.lstm1(F.dropout(hc1[0], p=0, training=self.training), hc2)\n",
    "            hc3 = self.lstm2(F.dropout(hc2[0], p=0, training=self.training), hc3)\n",
    "            output[:, i, :] = self.fc(F.dropout(hc3[0], p=0, training=self.training))\n",
    "            #output[:, i, :] = self.fc(F.dropout(states[0], p=0, training=self.training))\n",
    "        new_states = (torch.cat((hc1[0], hc2[0], hc3[0])), torch.cat((hc1[1], hc2[1], hc3[1])))\n",
    "        return output, new_states\n",
    "        #return output, states\n",
    "class PeepholeNetworkTorch(nn.Module):\n",
    "    def __init__(self):\n",
    "        super().__init__()\n",
    "        self.lstm0 = peephole_lstm_classes.PeepholeLSTMCellTorch(129, 300)\n",
    "        self.lstm1 = peephole_lstm_classes.PeepholeLSTMCellTorch(300, 300)\n",
    "        self.lstm2 = peephole_lstm_classes.PeepholeLSTMCellTorch(300, 300)\n",
    "        self.fc = nn.Linear(300, 129)\n",
    "    def forward(self, x, states):\n",
    "        output = x.new_empty(x.size(0), x.size(1), 129)\n",
    "        hc1, hc2, hc3 = ((states[0][i], states[1][i]) for i in range(states[0].size(0)))\n",
    "        for i, seq_batch in enumerate(x.transpose(0, 1)):\n",
    "            hc1 = self.lstm0(seq_batch, hc1)\n",
    "            #states = self.lstm0(seq_batch, states)\n",
    "            hc2 = self.lstm1(F.dropout(hc1[0], p=0, training=self.training), hc2)\n",
    "            hc3 = self.lstm2(F.dropout(hc2[0], p=0, training=self.training), hc3)\n",
    "            output[:, i, :] = self.fc(F.dropout(hc3[0], p=0, training=self.training))\n",
    "            #output[:, i, :] = self.fc(F.dropout(states[0], p=0, training=self.training))\n",
    "        new_states = (torch.cat((hc1[0], hc2[0], hc3[0])), torch.cat((hc1[1], hc2[1], hc3[1])))\n",
    "        return output, new_states\n",
    "        #return output, states\n",
    "class PeepholeLoopTorch(nn.Module):\n",
    "    def __init__(self):\n",
    "        super().__init__()\n",
    "        self.lstm0 = peephole_lstm_classes.PeepholeLSTMTorch(129, 300, 0)\n",
    "        self.lstm1 = peephole_lstm_classes.PeepholeLSTMTorch(300, 300, 0)\n",
    "        self.lstm2 = peephole_lstm_classes.PeepholeLSTMTorch(300, 300, 0)\n",
    "        self.fc = nn.Linear(300, 129)\n",
    "    def forward(self, x, states):\n",
    "        hc1, hc2, hc3 = ((states[0][i], states[1][i]) for i in range(states[0].size(0)))\n",
    "        x, hc1 = self.lstm0(x, hc1)\n",
    "        x, hc2 = self.lstm1(x, hc2)\n",
    "        x, hc3 = self.lstm2(x, hc3)\n",
    "        x = self.fc(x)\n",
    "        new_states = (torch.cat((hc1[0], hc2[0], hc3[0])), torch.cat((hc1[1], hc2[1], hc3[1])))\n",
    "        return x, new_states\n",
    "class PeepholeLoop(nn.Module):\n",
    "    def __init__(self):\n",
    "        super().__init__()\n",
    "        self.lstm0 = peephole_lstm_classes.PeepholeLSTM(129, 300, 0)\n",
    "        self.lstm1 = peephole_lstm_classes.PeepholeLSTM(300, 300, 0)\n",
    "        self.lstm2 = peephole_lstm_classes.PeepholeLSTM(300, 300, 0)\n",
    "        self.fc = nn.Linear(300, 129)\n",
    "    def forward(self, x, states):\n",
    "        hc1, hc2, hc3 = ((states[0][i], states[1][i]) for i in range(states[0].size(0)))\n",
    "        x, hc1 = self.lstm0(x, hc1)\n",
    "        #x, states = self.lstm0(x, states)\n",
    "        x, hc2 = self.lstm1(x, hc2)\n",
    "        x, hc3 = self.lstm2(x, hc3)\n",
    "        x = self.fc(x)\n",
    "        new_states = (torch.cat((hc1[0], hc2[0], hc3[0])), torch.cat((hc1[1], hc2[1], hc3[1])))\n",
    "        return x, new_states\n",
    "        #return x, states\n",
    "class PeepholeNormTorch(nn.Module):\n",
    "    def __init__(self):\n",
    "        super().__init__()\n",
    "        self.lstm0 = peephole_lstm_classes.PeepholeNormLSTMTorch(129, 300, 0)\n",
    "        self.lstm1 = peephole_lstm_classes.PeepholeNormLSTMTorch(300, 300, 0)\n",
    "        self.lstm2 = peephole_lstm_classes.PeepholeNormLSTMTorch(300, 300, 0)\n",
    "        self.fc = nn.Linear(300, 129)\n",
    "    def forward(self, x, states):\n",
    "        hc1, hc2, hc3 = ((states[0][i], states[1][i]) for i in range(states[0].size(0)))\n",
    "        x, hc1 = self.lstm0(x, hc1)\n",
    "        x, hc2 = self.lstm1(x, hc2)\n",
    "        x, hc3 = self.lstm2(x, hc3)\n",
    "        x = self.fc(x)\n",
    "        new_states = (torch.cat((hc1[0], hc2[0], hc3[0])), torch.cat((hc1[1], hc2[1], hc3[1])))\n",
    "        return x, new_states\n",
    "\n",
    "\n",
    "device = ['cpu', 'cuda:0'][1]\n",
    "\n",
    "# model_cpp = peephole_lstm_cell_classes.PeepholeLSTMCell(129, 300)\n",
    "# model_torch = peephole_lstm_cell_classes.PeepholeLSTMCellTorch(129, 300)\n",
    "model_cpp = PeepholeNetworkCPP()\n",
    "model_torch = PeepholeNetworkTorch()\n",
    "model_torch_loop = PeepholeLoopTorch()\n",
    "model_loop = PeepholeLoop()\n",
    "\n",
    "model_norm_torch = PeepholeNormTorch()\n",
    "\n",
    "for module_name in ('lstm0', 'lstm1', 'lstm2', 'fc'):\n",
    "#for module_name in ('lstm0', 'fc'):\n",
    "    copyfrom = getattr(model_cpp, module_name)\n",
    "    if module_name != 'fc':\n",
    "        mod = getattr(model_torch, module_name)\n",
    "        mod.weight_ih.data = copyfrom.weight_ih.data\n",
    "        mod.weight_hh.data = copyfrom.weight_hh.data\n",
    "        mod.weight_ch.data = copyfrom.weight_ch.data\n",
    "        mod.bias.data = copyfrom.bias.data\n",
    "        mod = getattr(model_loop, module_name)\n",
    "        mod.weight_ih.data = copyfrom.weight_ih.data\n",
    "        mod.weight_hh.data = copyfrom.weight_hh.data\n",
    "        mod.weight_ch.data = copyfrom.weight_ch.data\n",
    "        mod.bias.data = copyfrom.bias.data\n",
    "        mod = getattr(model_torch_loop, module_name)\n",
    "        mod.weight_ih.data = copyfrom.weight_ih.data\n",
    "        mod.weight_hh.data = copyfrom.weight_hh.data\n",
    "        mod.weight_ch.data = copyfrom.weight_ch.data\n",
    "        mod.bias.data = copyfrom.bias.data\n",
    "    else:\n",
    "        mod = getattr(model_torch, module_name)\n",
    "        mod.weight.data = copyfrom.weight.data\n",
    "        mod.bias.data = copyfrom.bias.data\n",
    "        mod = getattr(model_loop, module_name)\n",
    "        mod.weight.data = copyfrom.weight.data\n",
    "        mod.bias.data = copyfrom.bias.data\n",
    "        mod = getattr(model_torch_loop, module_name)\n",
    "        mod.weight.data = copyfrom.weight.data\n",
    "        mod.bias.data = copyfrom.bias.data\n",
    "\n",
    "model_cpp.to(device)\n",
    "model_torch.to(device)\n",
    "model_torch_loop.to(device)\n",
    "model_loop.to(device)\n",
    "model_norm_torch.to(device)\n",
    "\n",
    "batch_size = 32\n",
    "seq_length = 1\n",
    "\n",
    "play_input = torch.randn(batch_size, seq_length, 129).to(device)\n",
    "play_states = (torch.zeros(3, batch_size, 300).to(device), torch.zeros(3, batch_size, 300).to(device))\n",
    "#play_states = torch.zeros(4, 600).to(device).chunk(dim=1, chunks=2)\n",
    "\n",
    "# print(model_cpp)\n",
    "# print(model_torch)\n",
    "# print(model_torch_loop)\n",
    "# print(model_loop)\n",
    "# print(model_norm_torch)"
   ]
  },
  {
   "cell_type": "code",
   "execution_count": 6,
   "metadata": {
    "hidden": true,
    "scrolled": true
   },
   "outputs": [
    {
     "data": {
      "text/plain": [
       "NormalizedPeepholeLSTM(input_size=129, hidden_size=300, dropout=0.0, momentum=0.1, eps=1e-08)"
      ]
     },
     "execution_count": 6,
     "metadata": {},
     "output_type": "execute_result"
    }
   ],
   "source": [
    "n0 = peephole_lstm_classes.PeepholeNormLSTMTorch(129, 300, dropout=0., momentum=0.1, eps=1e-8)\n",
    "n1 = peephole_lstm_classes.NormalizedPeepholeLSTM(129, 300, dropout=0., momentum=0.1, eps=1e-8)\n",
    "\n",
    "for params in zip(n0.parameters(), n1.parameters()):\n",
    "    params[0].data = params[1].data\n",
    "\n",
    "n0.cuda()\n",
    "n1.cuda()\n",
    "\n",
    "# print(n0.running_var_tanh_cell)\n",
    "# print(n1.running_var_tanh_cell)\n",
    "# print(\"#####################################################\")\n",
    "# print(n0(play_input, (play_states[0][0], play_states[1][0])))\n",
    "# print('-----------------------------------------------------')\n",
    "# print(n1(play_input, (play_states[0][0], play_states[1][0])))\n",
    "# print(\"#####################################################\")\n",
    "# print(n0.running_var_tanh_cell)\n",
    "# print(n1.running_var_tanh_cell)"
   ]
  },
  {
   "cell_type": "code",
   "execution_count": 7,
   "metadata": {
    "hidden": true,
    "scrolled": false
   },
   "outputs": [
    {
     "name": "stdout",
     "output_type": "stream",
     "text": [
      "tensor(-2.6410, device='cuda:0', grad_fn=<SumBackward0>)\n",
      "tensor(-2.6410, device='cuda:0', grad_fn=<SumBackward0>)\n",
      "\n",
      "tensor([[  0.0000,   0.0000,   0.0000,  ...,   0.0000,   0.0000,   0.0000],\n",
      "        [  0.0000,   0.0000,   0.0000,  ...,   0.0000,   0.0000,   0.0000],\n",
      "        [  0.0000,   0.0000,   0.0000,  ...,   0.0000,   0.0000,   0.0000],\n",
      "        ...,\n",
      "        [ -0.9028,  -0.7898,   1.1119,  ...,  -1.9372,   3.4961,   1.6380],\n",
      "        [  6.0501,   7.9203,   2.0289,  ...,   7.1978,  -5.3366,   6.3599],\n",
      "        [ 21.1133, -19.8142,   6.5822,  ...,  10.6429,   0.4151,  -5.9493]],\n",
      "       device='cuda:0')\n",
      "tensor([[  0.0000,   0.0000,   0.0000,  ...,   0.0000,   0.0000,   0.0000],\n",
      "        [  0.0000,   0.0000,   0.0000,  ...,   0.0000,   0.0000,   0.0000],\n",
      "        [  0.0000,   0.0000,   0.0000,  ...,   0.0000,   0.0000,   0.0000],\n",
      "        ...,\n",
      "        [ -0.9028,  -0.7898,   1.1119,  ...,  -1.9372,   3.4961,   1.6379],\n",
      "        [  6.0501,   7.9203,   2.0289,  ...,   7.1978,  -5.3366,   6.3599],\n",
      "        [ 21.1133, -19.8142,   6.5822,  ...,  10.6429,   0.4151,  -5.9493]],\n",
      "       device='cuda:0')\n",
      "tensor([[[-0.2479, -0.9770, -0.5136,  ..., -0.4343,  1.7343, -0.0279]],\n",
      "\n",
      "        [[ 0.4815,  0.5167,  0.5479,  ..., -0.6478, -0.0401, -0.3096]],\n",
      "\n",
      "        [[-0.1281, -0.0473,  0.2143,  ..., -0.1022,  0.8218, -0.9438]],\n",
      "\n",
      "        ...,\n",
      "\n",
      "        [[-0.3425, -0.0305, -0.9640,  ..., -0.1809,  0.8595,  0.3845]],\n",
      "\n",
      "        [[ 0.1896, -0.1417,  1.0448,  ...,  0.1464, -0.2985, -0.1564]],\n",
      "\n",
      "        [[-0.3682,  0.0681, -0.3280,  ...,  0.2884, -0.6389, -0.7788]]],\n",
      "       device='cuda:0')\n",
      "tensor([[[-0.2479, -0.9770, -0.5136,  ..., -0.4343,  1.7343, -0.0279]],\n",
      "\n",
      "        [[ 0.4815,  0.5167,  0.5479,  ..., -0.6478, -0.0401, -0.3096]],\n",
      "\n",
      "        [[-0.1281, -0.0473,  0.2143,  ..., -0.1022,  0.8218, -0.9438]],\n",
      "\n",
      "        ...,\n",
      "\n",
      "        [[-0.3425, -0.0305, -0.9640,  ..., -0.1809,  0.8595,  0.3845]],\n",
      "\n",
      "        [[ 0.1896, -0.1417,  1.0448,  ...,  0.1464, -0.2985, -0.1564]],\n",
      "\n",
      "        [[-0.3682,  0.0681, -0.3280,  ...,  0.2884, -0.6389, -0.7788]]],\n",
      "       device='cuda:0')\n"
     ]
    }
   ],
   "source": [
    "n0.zero_grad()\n",
    "n1.zero_grad()\n",
    "p0, p1 = play_input.clone().requires_grad_(True), play_input.clone().requires_grad_(True)\n",
    "noise = torch.randn(batch_size, 1, 300, device=device)\n",
    "\n",
    "t = n0(p0, (play_states[0][0], play_states[1][0]))[0].mul(noise).sum()\n",
    "print(t)\n",
    "t.backward()\n",
    "t = n1(p1, (play_states[0][0], play_states[1][0]))[0].mul(noise).sum()\n",
    "print(t)\n",
    "t.backward()\n",
    "print()\n",
    "\n",
    "print(n0.weight_ih.grad[::50])\n",
    "print(n1.weight_ih.grad[::50])\n",
    "print(p0.grad)\n",
    "print(p1.grad)"
   ]
  },
  {
   "cell_type": "code",
   "execution_count": 12,
   "metadata": {
    "hidden": true
   },
   "outputs": [
    {
     "name": "stdout",
     "output_type": "stream",
     "text": [
      "2.12 ms ± 267 µs per loop (mean ± std. dev. of 1000 runs, 1 loop each)\n"
     ]
    }
   ],
   "source": [
    "%%timeit -n 1 -r 200\n",
    "n0(play_input, (play_states[0][0], play_states[1][0]))"
   ]
  },
  {
   "cell_type": "code",
   "execution_count": 11,
   "metadata": {
    "hidden": true
   },
   "outputs": [
    {
     "name": "stdout",
     "output_type": "stream",
     "text": [
      "8.76 ms ± 1.06 ms per loop (mean ± std. dev. of 1000 runs, 1 loop each)\n"
     ]
    }
   ],
   "source": [
    "%%timeit -n 1 -r 200\n",
    "n1(play_input, (play_states[0][0], play_states[1][0]))"
   ]
  },
  {
   "cell_type": "code",
   "execution_count": 14,
   "metadata": {
    "hidden": true
   },
   "outputs": [
    {
     "name": "stdout",
     "output_type": "stream",
     "text": [
      "4.34 ms ± 971 µs per loop (mean ± std. dev. of 200 runs, 1 loop each)\n"
     ]
    }
   ],
   "source": [
    "%%timeit -n 1 -r 200 out = n0(play_input, (play_states[0][0], play_states[1][0]))[0]\n",
    "n0.zero_grad()\n",
    "out.pow(2).sum().backward()"
   ]
  },
  {
   "cell_type": "code",
   "execution_count": 15,
   "metadata": {
    "hidden": true
   },
   "outputs": [
    {
     "name": "stdout",
     "output_type": "stream",
     "text": [
      "8.63 ms ± 879 µs per loop (mean ± std. dev. of 200 runs, 1 loop each)\n"
     ]
    }
   ],
   "source": [
    "%%timeit -n 1 -r 200 out = n1(play_input, (play_states[0][0], play_states[1][0]))[0]\n",
    "n1.zero_grad()\n",
    "out.pow(2).sum().backward()"
   ]
  },
  {
   "cell_type": "markdown",
   "metadata": {
    "hidden": true
   },
   "source": [
    "Vanila PyTorch implementation"
   ]
  },
  {
   "cell_type": "code",
   "execution_count": 4,
   "metadata": {
    "hidden": true,
    "scrolled": false
   },
   "outputs": [
    {
     "name": "stdout",
     "output_type": "stream",
     "text": [
      "493 ms ± 50.8 ms per loop (mean ± std. dev. of 30 runs, 1 loop each)\n"
     ]
    }
   ],
   "source": [
    "%%timeit -n 1 -r 30\n",
    "out = model_torch(play_input, play_states)[0]"
   ]
  },
  {
   "cell_type": "code",
   "execution_count": 5,
   "metadata": {
    "hidden": true
   },
   "outputs": [
    {
     "name": "stdout",
     "output_type": "stream",
     "text": [
      "896 ms ± 24.6 ms per loop (mean ± std. dev. of 30 runs, 1 loop each)\n"
     ]
    }
   ],
   "source": [
    "%%timeit -n 1 -r 30 out = model_torch(play_input, play_states)[0]\n",
    "model_torch.zero_grad()\n",
    "out.pow(2).sum().backward()"
   ]
  },
  {
   "cell_type": "code",
   "execution_count": 6,
   "metadata": {
    "hidden": true,
    "scrolled": true
   },
   "outputs": [
    {
     "name": "stdout",
     "output_type": "stream",
     "text": [
      "(tensor([[[ 0.0562,  0.0598,  0.0121,  ..., -0.0333, -0.0352, -0.0040],\n",
      "         [ 0.0576,  0.0620,  0.0103,  ..., -0.0361, -0.0360, -0.0049],\n",
      "         [ 0.0576,  0.0631,  0.0094,  ..., -0.0379, -0.0359, -0.0053],\n",
      "         ...,\n",
      "         [ 0.0582,  0.0649,  0.0088,  ..., -0.0394, -0.0347, -0.0060],\n",
      "         [ 0.0579,  0.0650,  0.0090,  ..., -0.0392, -0.0347, -0.0060],\n",
      "         [ 0.0577,  0.0653,  0.0091,  ..., -0.0389, -0.0349, -0.0060]],\n",
      "\n",
      "        [[ 0.0558,  0.0600,  0.0130,  ..., -0.0329, -0.0354, -0.0040],\n",
      "         [ 0.0575,  0.0622,  0.0111,  ..., -0.0361, -0.0365, -0.0049],\n",
      "         [ 0.0582,  0.0637,  0.0100,  ..., -0.0380, -0.0373, -0.0052],\n",
      "         ...,\n",
      "         [ 0.0575,  0.0636,  0.0074,  ..., -0.0397, -0.0349, -0.0064],\n",
      "         [ 0.0578,  0.0634,  0.0074,  ..., -0.0398, -0.0345, -0.0064],\n",
      "         [ 0.0578,  0.0635,  0.0078,  ..., -0.0394, -0.0345, -0.0066]],\n",
      "\n",
      "        [[ 0.0560,  0.0601,  0.0124,  ..., -0.0335, -0.0353, -0.0036],\n",
      "         [ 0.0578,  0.0626,  0.0106,  ..., -0.0368, -0.0363, -0.0041],\n",
      "         [ 0.0581,  0.0638,  0.0096,  ..., -0.0388, -0.0362, -0.0045],\n",
      "         ...,\n",
      "         [ 0.0581,  0.0648,  0.0097,  ..., -0.0386, -0.0355, -0.0060],\n",
      "         [ 0.0584,  0.0648,  0.0097,  ..., -0.0386, -0.0356, -0.0061],\n",
      "         [ 0.0588,  0.0646,  0.0093,  ..., -0.0389, -0.0355, -0.0063]],\n",
      "\n",
      "        ...,\n",
      "\n",
      "        [[ 0.0562,  0.0598,  0.0120,  ..., -0.0334, -0.0352, -0.0038],\n",
      "         [ 0.0576,  0.0618,  0.0097,  ..., -0.0365, -0.0356, -0.0046],\n",
      "         [ 0.0583,  0.0630,  0.0083,  ..., -0.0376, -0.0356, -0.0052],\n",
      "         ...,\n",
      "         [ 0.0583,  0.0653,  0.0087,  ..., -0.0396, -0.0368, -0.0064],\n",
      "         [ 0.0586,  0.0657,  0.0090,  ..., -0.0400, -0.0363, -0.0064],\n",
      "         [ 0.0587,  0.0653,  0.0091,  ..., -0.0403, -0.0358, -0.0065]],\n",
      "\n",
      "        [[ 0.0559,  0.0600,  0.0123,  ..., -0.0334, -0.0346, -0.0035],\n",
      "         [ 0.0571,  0.0621,  0.0103,  ..., -0.0367, -0.0350, -0.0043],\n",
      "         [ 0.0577,  0.0632,  0.0096,  ..., -0.0385, -0.0357, -0.0047],\n",
      "         ...,\n",
      "         [ 0.0587,  0.0648,  0.0088,  ..., -0.0384, -0.0357, -0.0059],\n",
      "         [ 0.0583,  0.0646,  0.0087,  ..., -0.0389, -0.0352, -0.0060],\n",
      "         [ 0.0578,  0.0646,  0.0091,  ..., -0.0391, -0.0353, -0.0058]],\n",
      "\n",
      "        [[ 0.0562,  0.0597,  0.0120,  ..., -0.0337, -0.0347, -0.0039],\n",
      "         [ 0.0576,  0.0618,  0.0103,  ..., -0.0369, -0.0352, -0.0042],\n",
      "         [ 0.0582,  0.0631,  0.0092,  ..., -0.0385, -0.0354, -0.0043],\n",
      "         ...,\n",
      "         [ 0.0590,  0.0656,  0.0086,  ..., -0.0385, -0.0355, -0.0052],\n",
      "         [ 0.0589,  0.0651,  0.0083,  ..., -0.0385, -0.0356, -0.0052],\n",
      "         [ 0.0584,  0.0646,  0.0080,  ..., -0.0387, -0.0355, -0.0053]]],\n",
      "       device='cuda:0', grad_fn=<CopySlices>), (tensor([[ 0.0896,  0.0295,  0.0670,  ...,  0.0288,  0.0340, -0.0334],\n",
      "        [ 0.0865, -0.0257, -0.1103,  ..., -0.0421,  0.0467,  0.0578],\n",
      "        [-0.0170,  0.1020,  0.0433,  ...,  0.0383,  0.0466, -0.0079],\n",
      "        ...,\n",
      "        [-0.0140, -0.0079, -0.0111,  ..., -0.0038,  0.0007, -0.0025],\n",
      "        [-0.0150, -0.0087, -0.0110,  ..., -0.0010,  0.0004, -0.0019],\n",
      "        [-0.0177, -0.0078, -0.0106,  ..., -0.0037,  0.0015, -0.0039]],\n",
      "       device='cuda:0', grad_fn=<CatBackward>), tensor([[ 0.1589,  0.0538,  0.1500,  ...,  0.0568,  0.0660, -0.0603],\n",
      "        [ 0.1673, -0.0582, -0.2065,  ..., -0.0805,  0.0851,  0.0947],\n",
      "        [-0.0365,  0.2087,  0.0801,  ...,  0.1028,  0.1008, -0.0149],\n",
      "        ...,\n",
      "        [-0.0280, -0.0160, -0.0225,  ..., -0.0076,  0.0014, -0.0049],\n",
      "        [-0.0301, -0.0177, -0.0223,  ..., -0.0020,  0.0007, -0.0038],\n",
      "        [-0.0354, -0.0159, -0.0216,  ..., -0.0074,  0.0031, -0.0077]],\n",
      "       device='cuda:0', grad_fn=<CatBackward>)))\n",
      "tensor(-0.0486, device='cuda:0')\n"
     ]
    }
   ],
   "source": [
    "model_torch.eval()\n",
    "model_torch.zero_grad()\n",
    "out = model_torch(play_input, play_states)\n",
    "print(out)\n",
    "out[0].pow(2).mean().backward()\n",
    "print(model_torch.lstm0.weight_ih.grad.data.sum().add(model_torch.lstm0.weight_hh.grad.data.sum()).add(model_torch.lstm0.weight_ch.grad.data.sum()).mul(10000))"
   ]
  },
  {
   "cell_type": "code",
   "execution_count": 7,
   "metadata": {
    "hidden": true
   },
   "outputs": [],
   "source": [
    "sleep(3)\n",
    "torch.cuda.empty_cache()"
   ]
  },
  {
   "cell_type": "markdown",
   "metadata": {
    "hidden": true
   },
   "source": [
    "Loop within each module"
   ]
  },
  {
   "cell_type": "code",
   "execution_count": 8,
   "metadata": {
    "hidden": true,
    "scrolled": false
   },
   "outputs": [
    {
     "name": "stdout",
     "output_type": "stream",
     "text": [
      "404 ms ± 19.2 ms per loop (mean ± std. dev. of 30 runs, 1 loop each)\n"
     ]
    }
   ],
   "source": [
    "%%timeit -n 1 -r 30\n",
    "out = model_torch_loop(play_input, play_states)[0]"
   ]
  },
  {
   "cell_type": "code",
   "execution_count": 9,
   "metadata": {
    "hidden": true
   },
   "outputs": [
    {
     "name": "stdout",
     "output_type": "stream",
     "text": [
      "896 ms ± 34.6 ms per loop (mean ± std. dev. of 30 runs, 1 loop each)\n"
     ]
    }
   ],
   "source": [
    "%%timeit -n 1 -r 30 out = model_torch_loop(play_input, play_states)[0]\n",
    "model_torch_loop.zero_grad()\n",
    "out.pow(2).sum().backward()"
   ]
  },
  {
   "cell_type": "code",
   "execution_count": 10,
   "metadata": {
    "hidden": true,
    "scrolled": true
   },
   "outputs": [
    {
     "name": "stdout",
     "output_type": "stream",
     "text": [
      "(tensor([[[ 0.0562,  0.0598,  0.0121,  ..., -0.0333, -0.0352, -0.0040],\n",
      "         [ 0.0576,  0.0620,  0.0103,  ..., -0.0361, -0.0360, -0.0049],\n",
      "         [ 0.0576,  0.0631,  0.0094,  ..., -0.0379, -0.0359, -0.0053],\n",
      "         ...,\n",
      "         [ 0.0582,  0.0649,  0.0088,  ..., -0.0394, -0.0347, -0.0060],\n",
      "         [ 0.0579,  0.0650,  0.0090,  ..., -0.0392, -0.0347, -0.0060],\n",
      "         [ 0.0577,  0.0653,  0.0091,  ..., -0.0389, -0.0349, -0.0060]],\n",
      "\n",
      "        [[ 0.0558,  0.0600,  0.0130,  ..., -0.0329, -0.0354, -0.0040],\n",
      "         [ 0.0575,  0.0622,  0.0111,  ..., -0.0361, -0.0365, -0.0049],\n",
      "         [ 0.0582,  0.0637,  0.0100,  ..., -0.0380, -0.0373, -0.0052],\n",
      "         ...,\n",
      "         [ 0.0575,  0.0636,  0.0074,  ..., -0.0397, -0.0349, -0.0064],\n",
      "         [ 0.0578,  0.0634,  0.0074,  ..., -0.0398, -0.0345, -0.0064],\n",
      "         [ 0.0578,  0.0635,  0.0078,  ..., -0.0394, -0.0345, -0.0066]],\n",
      "\n",
      "        [[ 0.0560,  0.0601,  0.0124,  ..., -0.0335, -0.0353, -0.0036],\n",
      "         [ 0.0578,  0.0626,  0.0106,  ..., -0.0368, -0.0363, -0.0041],\n",
      "         [ 0.0581,  0.0638,  0.0096,  ..., -0.0388, -0.0362, -0.0045],\n",
      "         ...,\n",
      "         [ 0.0581,  0.0648,  0.0097,  ..., -0.0386, -0.0355, -0.0060],\n",
      "         [ 0.0584,  0.0648,  0.0097,  ..., -0.0386, -0.0356, -0.0061],\n",
      "         [ 0.0588,  0.0646,  0.0093,  ..., -0.0389, -0.0355, -0.0063]],\n",
      "\n",
      "        ...,\n",
      "\n",
      "        [[ 0.0562,  0.0598,  0.0120,  ..., -0.0334, -0.0352, -0.0038],\n",
      "         [ 0.0576,  0.0618,  0.0097,  ..., -0.0365, -0.0356, -0.0046],\n",
      "         [ 0.0583,  0.0630,  0.0083,  ..., -0.0376, -0.0356, -0.0052],\n",
      "         ...,\n",
      "         [ 0.0583,  0.0653,  0.0087,  ..., -0.0396, -0.0368, -0.0064],\n",
      "         [ 0.0586,  0.0657,  0.0090,  ..., -0.0400, -0.0363, -0.0064],\n",
      "         [ 0.0587,  0.0653,  0.0091,  ..., -0.0403, -0.0358, -0.0065]],\n",
      "\n",
      "        [[ 0.0559,  0.0600,  0.0123,  ..., -0.0334, -0.0346, -0.0035],\n",
      "         [ 0.0571,  0.0621,  0.0103,  ..., -0.0367, -0.0350, -0.0043],\n",
      "         [ 0.0577,  0.0632,  0.0096,  ..., -0.0385, -0.0357, -0.0047],\n",
      "         ...,\n",
      "         [ 0.0587,  0.0648,  0.0088,  ..., -0.0384, -0.0357, -0.0059],\n",
      "         [ 0.0583,  0.0646,  0.0087,  ..., -0.0389, -0.0352, -0.0060],\n",
      "         [ 0.0578,  0.0646,  0.0091,  ..., -0.0391, -0.0353, -0.0058]],\n",
      "\n",
      "        [[ 0.0562,  0.0597,  0.0120,  ..., -0.0337, -0.0347, -0.0039],\n",
      "         [ 0.0576,  0.0618,  0.0103,  ..., -0.0369, -0.0352, -0.0042],\n",
      "         [ 0.0582,  0.0631,  0.0092,  ..., -0.0385, -0.0354, -0.0043],\n",
      "         ...,\n",
      "         [ 0.0590,  0.0656,  0.0086,  ..., -0.0385, -0.0355, -0.0052],\n",
      "         [ 0.0589,  0.0651,  0.0083,  ..., -0.0385, -0.0356, -0.0052],\n",
      "         [ 0.0584,  0.0646,  0.0080,  ..., -0.0387, -0.0355, -0.0053]]],\n",
      "       device='cuda:0', grad_fn=<ThAddBackward>), (tensor([[ 0.0896,  0.0295,  0.0670,  ...,  0.0288,  0.0340, -0.0334],\n",
      "        [ 0.0865, -0.0257, -0.1103,  ..., -0.0421,  0.0467,  0.0578],\n",
      "        [-0.0170,  0.1020,  0.0433,  ...,  0.0383,  0.0466, -0.0079],\n",
      "        ...,\n",
      "        [-0.0140, -0.0079, -0.0111,  ..., -0.0038,  0.0007, -0.0025],\n",
      "        [-0.0150, -0.0087, -0.0110,  ..., -0.0010,  0.0004, -0.0019],\n",
      "        [-0.0177, -0.0078, -0.0106,  ..., -0.0037,  0.0015, -0.0039]],\n",
      "       device='cuda:0', grad_fn=<CatBackward>), tensor([[ 0.1589,  0.0538,  0.1500,  ...,  0.0568,  0.0660, -0.0603],\n",
      "        [ 0.1673, -0.0582, -0.2065,  ..., -0.0805,  0.0851,  0.0947],\n",
      "        [-0.0365,  0.2087,  0.0801,  ...,  0.1028,  0.1008, -0.0149],\n",
      "        ...,\n",
      "        [-0.0280, -0.0160, -0.0225,  ..., -0.0076,  0.0014, -0.0049],\n",
      "        [-0.0301, -0.0177, -0.0223,  ..., -0.0020,  0.0007, -0.0038],\n",
      "        [-0.0354, -0.0159, -0.0216,  ..., -0.0074,  0.0031, -0.0077]],\n",
      "       device='cuda:0', grad_fn=<CatBackward>)))\n",
      "tensor(-0.0486, device='cuda:0')\n"
     ]
    }
   ],
   "source": [
    "model_torch_loop.eval()\n",
    "model_torch_loop.zero_grad()\n",
    "out = model_torch_loop(play_input, play_states)\n",
    "print(out)\n",
    "out[0].pow(2).mean().backward()\n",
    "print(model_torch_loop.lstm0.weight_ih.grad.data.sum().add(model_torch_loop.lstm0.weight_hh.grad.data.sum()).add(model_torch_loop.lstm0.weight_ch.grad.data.sum()).mul(10000))"
   ]
  },
  {
   "cell_type": "code",
   "execution_count": 11,
   "metadata": {
    "hidden": true
   },
   "outputs": [],
   "source": [
    "sleep(3)\n",
    "torch.cuda.empty_cache()"
   ]
  },
  {
   "cell_type": "markdown",
   "metadata": {
    "hidden": true
   },
   "source": [
    "Single Peephole LSTM Cell C++ (Loop implemented with Python)"
   ]
  },
  {
   "cell_type": "code",
   "execution_count": 12,
   "metadata": {
    "hidden": true
   },
   "outputs": [
    {
     "name": "stdout",
     "output_type": "stream",
     "text": [
      "418 ms ± 29.8 ms per loop (mean ± std. dev. of 30 runs, 1 loop each)\n"
     ]
    }
   ],
   "source": [
    "%%timeit -n 1 -r 30\n",
    "out = model_cpp(play_input, play_states)[0]"
   ]
  },
  {
   "cell_type": "code",
   "execution_count": 13,
   "metadata": {
    "hidden": true
   },
   "outputs": [
    {
     "name": "stdout",
     "output_type": "stream",
     "text": [
      "805 ms ± 29.9 ms per loop (mean ± std. dev. of 30 runs, 1 loop each)\n"
     ]
    }
   ],
   "source": [
    "%%timeit -n 1 -r 30 out = model_cpp(play_input, play_states)[0]\n",
    "model_cpp.zero_grad()\n",
    "out.pow(2).sum().backward()"
   ]
  },
  {
   "cell_type": "code",
   "execution_count": 14,
   "metadata": {
    "hidden": true,
    "scrolled": true
   },
   "outputs": [
    {
     "name": "stdout",
     "output_type": "stream",
     "text": [
      "(tensor([[[ 0.0562,  0.0598,  0.0121,  ..., -0.0333, -0.0352, -0.0040],\n",
      "         [ 0.0576,  0.0620,  0.0103,  ..., -0.0361, -0.0360, -0.0049],\n",
      "         [ 0.0576,  0.0631,  0.0094,  ..., -0.0379, -0.0359, -0.0053],\n",
      "         ...,\n",
      "         [ 0.0582,  0.0649,  0.0088,  ..., -0.0394, -0.0347, -0.0060],\n",
      "         [ 0.0579,  0.0650,  0.0090,  ..., -0.0392, -0.0347, -0.0060],\n",
      "         [ 0.0577,  0.0653,  0.0091,  ..., -0.0389, -0.0349, -0.0060]],\n",
      "\n",
      "        [[ 0.0558,  0.0600,  0.0130,  ..., -0.0329, -0.0354, -0.0040],\n",
      "         [ 0.0575,  0.0622,  0.0111,  ..., -0.0361, -0.0365, -0.0049],\n",
      "         [ 0.0582,  0.0637,  0.0100,  ..., -0.0380, -0.0373, -0.0052],\n",
      "         ...,\n",
      "         [ 0.0575,  0.0636,  0.0074,  ..., -0.0397, -0.0349, -0.0064],\n",
      "         [ 0.0578,  0.0634,  0.0074,  ..., -0.0398, -0.0345, -0.0064],\n",
      "         [ 0.0578,  0.0635,  0.0078,  ..., -0.0394, -0.0345, -0.0066]],\n",
      "\n",
      "        [[ 0.0560,  0.0601,  0.0124,  ..., -0.0335, -0.0353, -0.0036],\n",
      "         [ 0.0578,  0.0626,  0.0106,  ..., -0.0368, -0.0363, -0.0041],\n",
      "         [ 0.0581,  0.0638,  0.0096,  ..., -0.0388, -0.0362, -0.0045],\n",
      "         ...,\n",
      "         [ 0.0581,  0.0648,  0.0097,  ..., -0.0386, -0.0355, -0.0060],\n",
      "         [ 0.0584,  0.0648,  0.0097,  ..., -0.0386, -0.0356, -0.0061],\n",
      "         [ 0.0588,  0.0646,  0.0093,  ..., -0.0389, -0.0355, -0.0063]],\n",
      "\n",
      "        ...,\n",
      "\n",
      "        [[ 0.0562,  0.0598,  0.0120,  ..., -0.0334, -0.0352, -0.0038],\n",
      "         [ 0.0576,  0.0618,  0.0097,  ..., -0.0365, -0.0356, -0.0046],\n",
      "         [ 0.0583,  0.0630,  0.0083,  ..., -0.0376, -0.0356, -0.0052],\n",
      "         ...,\n",
      "         [ 0.0583,  0.0653,  0.0087,  ..., -0.0396, -0.0368, -0.0064],\n",
      "         [ 0.0586,  0.0657,  0.0090,  ..., -0.0400, -0.0363, -0.0064],\n",
      "         [ 0.0587,  0.0653,  0.0091,  ..., -0.0403, -0.0358, -0.0065]],\n",
      "\n",
      "        [[ 0.0559,  0.0600,  0.0123,  ..., -0.0334, -0.0346, -0.0035],\n",
      "         [ 0.0571,  0.0621,  0.0103,  ..., -0.0367, -0.0350, -0.0043],\n",
      "         [ 0.0577,  0.0632,  0.0096,  ..., -0.0385, -0.0357, -0.0047],\n",
      "         ...,\n",
      "         [ 0.0587,  0.0648,  0.0088,  ..., -0.0384, -0.0357, -0.0059],\n",
      "         [ 0.0583,  0.0646,  0.0087,  ..., -0.0389, -0.0352, -0.0060],\n",
      "         [ 0.0578,  0.0646,  0.0091,  ..., -0.0391, -0.0353, -0.0058]],\n",
      "\n",
      "        [[ 0.0562,  0.0597,  0.0120,  ..., -0.0337, -0.0347, -0.0039],\n",
      "         [ 0.0576,  0.0618,  0.0103,  ..., -0.0369, -0.0352, -0.0042],\n",
      "         [ 0.0582,  0.0631,  0.0092,  ..., -0.0385, -0.0354, -0.0043],\n",
      "         ...,\n",
      "         [ 0.0590,  0.0656,  0.0086,  ..., -0.0385, -0.0355, -0.0052],\n",
      "         [ 0.0589,  0.0651,  0.0083,  ..., -0.0385, -0.0356, -0.0052],\n",
      "         [ 0.0584,  0.0646,  0.0080,  ..., -0.0387, -0.0355, -0.0053]]],\n",
      "       device='cuda:0', grad_fn=<CopySlices>), (tensor([[ 0.0896,  0.0295,  0.0670,  ...,  0.0288,  0.0340, -0.0334],\n",
      "        [ 0.0865, -0.0257, -0.1103,  ..., -0.0421,  0.0467,  0.0578],\n",
      "        [-0.0170,  0.1020,  0.0433,  ...,  0.0383,  0.0466, -0.0079],\n",
      "        ...,\n",
      "        [-0.0140, -0.0079, -0.0111,  ..., -0.0038,  0.0007, -0.0025],\n",
      "        [-0.0150, -0.0087, -0.0110,  ..., -0.0010,  0.0004, -0.0019],\n",
      "        [-0.0177, -0.0078, -0.0106,  ..., -0.0037,  0.0015, -0.0039]],\n",
      "       device='cuda:0', grad_fn=<CatBackward>), tensor([[ 0.1589,  0.0538,  0.1500,  ...,  0.0568,  0.0660, -0.0603],\n",
      "        [ 0.1673, -0.0582, -0.2065,  ..., -0.0805,  0.0851,  0.0947],\n",
      "        [-0.0365,  0.2087,  0.0801,  ...,  0.1028,  0.1008, -0.0149],\n",
      "        ...,\n",
      "        [-0.0280, -0.0160, -0.0225,  ..., -0.0076,  0.0014, -0.0049],\n",
      "        [-0.0301, -0.0177, -0.0223,  ..., -0.0020,  0.0007, -0.0038],\n",
      "        [-0.0354, -0.0159, -0.0216,  ..., -0.0074,  0.0031, -0.0077]],\n",
      "       device='cuda:0', grad_fn=<CatBackward>)))\n",
      "tensor(-0.0486, device='cuda:0')\n"
     ]
    }
   ],
   "source": [
    "model_cpp.eval()\n",
    "model_cpp.zero_grad()\n",
    "out = model_cpp(play_input, play_states)\n",
    "print(out)\n",
    "out[0].pow(2).mean().backward()\n",
    "print(model_cpp.lstm0.weight_ih.grad.data.sum().add(model_cpp.lstm0.weight_hh.grad.data.sum()).add(model_cpp.lstm0.weight_ch.grad.data.sum()).mul(10000))"
   ]
  },
  {
   "cell_type": "code",
   "execution_count": 15,
   "metadata": {
    "hidden": true
   },
   "outputs": [],
   "source": [
    "sleep(3)\n",
    "torch.cuda.empty_cache()"
   ]
  },
  {
   "cell_type": "markdown",
   "metadata": {
    "hidden": true
   },
   "source": [
    "For-Loop implemented inside C++"
   ]
  },
  {
   "cell_type": "markdown",
   "metadata": {
    "hidden": true
   },
   "source": [
    "Custom Kernal"
   ]
  },
  {
   "cell_type": "code",
   "execution_count": 16,
   "metadata": {
    "hidden": true
   },
   "outputs": [
    {
     "name": "stdout",
     "output_type": "stream",
     "text": [
      "65.7 ms ± 7.98 ms per loop (mean ± std. dev. of 30 runs, 1 loop each)\n"
     ]
    }
   ],
   "source": [
    "%%timeit -n 1 -r 30\n",
    "out = model_loop(play_input, play_states)[0]"
   ]
  },
  {
   "cell_type": "code",
   "execution_count": 17,
   "metadata": {
    "hidden": true
   },
   "outputs": [
    {
     "name": "stdout",
     "output_type": "stream",
     "text": [
      "51.3 ms ± 1.73 ms per loop (mean ± std. dev. of 30 runs, 1 loop each)\n"
     ]
    }
   ],
   "source": [
    "%%timeit -n 1 -r 30 out = model_loop(play_input, play_states)[0]\n",
    "model_loop.zero_grad()\n",
    "out.pow(2).sum().backward()"
   ]
  },
  {
   "cell_type": "code",
   "execution_count": 18,
   "metadata": {
    "hidden": true,
    "scrolled": true
   },
   "outputs": [
    {
     "name": "stdout",
     "output_type": "stream",
     "text": [
      "(tensor([[[ 0.0562,  0.0598,  0.0121,  ..., -0.0333, -0.0352, -0.0040],\n",
      "         [ 0.0576,  0.0620,  0.0103,  ..., -0.0361, -0.0360, -0.0049],\n",
      "         [ 0.0576,  0.0631,  0.0094,  ..., -0.0379, -0.0359, -0.0053],\n",
      "         ...,\n",
      "         [ 0.0582,  0.0649,  0.0088,  ..., -0.0394, -0.0347, -0.0060],\n",
      "         [ 0.0579,  0.0650,  0.0090,  ..., -0.0392, -0.0347, -0.0060],\n",
      "         [ 0.0577,  0.0653,  0.0091,  ..., -0.0389, -0.0349, -0.0060]],\n",
      "\n",
      "        [[ 0.0558,  0.0600,  0.0130,  ..., -0.0329, -0.0354, -0.0040],\n",
      "         [ 0.0575,  0.0622,  0.0111,  ..., -0.0361, -0.0365, -0.0049],\n",
      "         [ 0.0582,  0.0637,  0.0100,  ..., -0.0380, -0.0373, -0.0052],\n",
      "         ...,\n",
      "         [ 0.0575,  0.0636,  0.0074,  ..., -0.0397, -0.0349, -0.0064],\n",
      "         [ 0.0578,  0.0634,  0.0074,  ..., -0.0398, -0.0345, -0.0064],\n",
      "         [ 0.0578,  0.0635,  0.0078,  ..., -0.0394, -0.0345, -0.0066]],\n",
      "\n",
      "        [[ 0.0560,  0.0601,  0.0124,  ..., -0.0335, -0.0353, -0.0036],\n",
      "         [ 0.0578,  0.0626,  0.0106,  ..., -0.0368, -0.0363, -0.0041],\n",
      "         [ 0.0581,  0.0638,  0.0096,  ..., -0.0388, -0.0362, -0.0045],\n",
      "         ...,\n",
      "         [ 0.0581,  0.0648,  0.0097,  ..., -0.0386, -0.0355, -0.0060],\n",
      "         [ 0.0584,  0.0648,  0.0097,  ..., -0.0386, -0.0356, -0.0061],\n",
      "         [ 0.0588,  0.0646,  0.0093,  ..., -0.0389, -0.0355, -0.0063]],\n",
      "\n",
      "        ...,\n",
      "\n",
      "        [[ 0.0562,  0.0598,  0.0120,  ..., -0.0334, -0.0352, -0.0038],\n",
      "         [ 0.0576,  0.0618,  0.0097,  ..., -0.0365, -0.0356, -0.0046],\n",
      "         [ 0.0583,  0.0630,  0.0083,  ..., -0.0376, -0.0356, -0.0052],\n",
      "         ...,\n",
      "         [ 0.0583,  0.0653,  0.0087,  ..., -0.0396, -0.0368, -0.0064],\n",
      "         [ 0.0586,  0.0657,  0.0090,  ..., -0.0400, -0.0363, -0.0064],\n",
      "         [ 0.0587,  0.0653,  0.0091,  ..., -0.0403, -0.0358, -0.0065]],\n",
      "\n",
      "        [[ 0.0559,  0.0600,  0.0123,  ..., -0.0334, -0.0346, -0.0035],\n",
      "         [ 0.0571,  0.0621,  0.0103,  ..., -0.0367, -0.0350, -0.0043],\n",
      "         [ 0.0577,  0.0632,  0.0096,  ..., -0.0385, -0.0357, -0.0047],\n",
      "         ...,\n",
      "         [ 0.0587,  0.0648,  0.0088,  ..., -0.0384, -0.0357, -0.0059],\n",
      "         [ 0.0583,  0.0646,  0.0087,  ..., -0.0389, -0.0352, -0.0060],\n",
      "         [ 0.0578,  0.0646,  0.0091,  ..., -0.0391, -0.0353, -0.0058]],\n",
      "\n",
      "        [[ 0.0562,  0.0597,  0.0120,  ..., -0.0337, -0.0347, -0.0039],\n",
      "         [ 0.0576,  0.0618,  0.0103,  ..., -0.0369, -0.0352, -0.0042],\n",
      "         [ 0.0582,  0.0631,  0.0092,  ..., -0.0385, -0.0354, -0.0043],\n",
      "         ...,\n",
      "         [ 0.0590,  0.0656,  0.0086,  ..., -0.0385, -0.0355, -0.0052],\n",
      "         [ 0.0589,  0.0651,  0.0083,  ..., -0.0385, -0.0356, -0.0052],\n",
      "         [ 0.0584,  0.0646,  0.0080,  ..., -0.0387, -0.0355, -0.0053]]],\n",
      "       device='cuda:0', grad_fn=<ThAddBackward>), (tensor([[ 0.0896,  0.0295,  0.0670,  ...,  0.0288,  0.0340, -0.0334],\n",
      "        [ 0.0865, -0.0257, -0.1103,  ..., -0.0421,  0.0467,  0.0578],\n",
      "        [-0.0170,  0.1020,  0.0433,  ...,  0.0383,  0.0466, -0.0079],\n",
      "        ...,\n",
      "        [-0.0140, -0.0079, -0.0111,  ..., -0.0038,  0.0007, -0.0025],\n",
      "        [-0.0150, -0.0087, -0.0110,  ..., -0.0010,  0.0004, -0.0019],\n",
      "        [-0.0177, -0.0078, -0.0106,  ..., -0.0037,  0.0015, -0.0039]],\n",
      "       device='cuda:0', grad_fn=<CatBackward>), tensor([[ 0.1589,  0.0538,  0.1500,  ...,  0.0568,  0.0660, -0.0603],\n",
      "        [ 0.1673, -0.0582, -0.2065,  ..., -0.0805,  0.0851,  0.0947],\n",
      "        [-0.0365,  0.2087,  0.0801,  ...,  0.1028,  0.1008, -0.0149],\n",
      "        ...,\n",
      "        [-0.0280, -0.0160, -0.0225,  ..., -0.0076,  0.0014, -0.0049],\n",
      "        [-0.0301, -0.0177, -0.0223,  ..., -0.0020,  0.0007, -0.0038],\n",
      "        [-0.0354, -0.0159, -0.0216,  ..., -0.0074,  0.0031, -0.0077]],\n",
      "       device='cuda:0', grad_fn=<CatBackward>)))\n",
      "tensor(-0.0486, device='cuda:0')\n"
     ]
    }
   ],
   "source": [
    "model_loop.eval()\n",
    "model_loop.zero_grad()\n",
    "out = model_loop(play_input, play_states)\n",
    "print(out)\n",
    "out[0].pow(2).mean().backward()\n",
    "print(model_loop.lstm0.weight_ih.grad.data.sum().add(model_loop.lstm0.weight_hh.grad.data.sum()).add(model_loop.lstm0.weight_ch.grad.data.sum()).mul(10000))"
   ]
  },
  {
   "cell_type": "code",
   "execution_count": 19,
   "metadata": {
    "hidden": true
   },
   "outputs": [],
   "source": [
    "sleep(3)\n",
    "torch.cuda.empty_cache()"
   ]
  },
  {
   "cell_type": "markdown",
   "metadata": {
    "hidden": true
   },
   "source": [
    "Normalized - Torch"
   ]
  },
  {
   "cell_type": "code",
   "execution_count": 4,
   "metadata": {
    "hidden": true,
    "scrolled": false
   },
   "outputs": [
    {
     "name": "stdout",
     "output_type": "stream",
     "text": [
      "487 ms ± 60.6 ms per loop (mean ± std. dev. of 30 runs, 1 loop each)\n"
     ]
    }
   ],
   "source": [
    "%%timeit -n 1 -r 30\n",
    "out = model_norm_torch(play_input, play_states)[0]"
   ]
  },
  {
   "cell_type": "code",
   "execution_count": 5,
   "metadata": {
    "hidden": true
   },
   "outputs": [
    {
     "name": "stdout",
     "output_type": "stream",
     "text": [
      "918 ms ± 44.6 ms per loop (mean ± std. dev. of 30 runs, 1 loop each)\n"
     ]
    }
   ],
   "source": [
    "%%timeit -n 1 -r 30 out = model_norm_torch(play_input, play_states)[0]\n",
    "model_norm_torch.zero_grad()\n",
    "out.pow(2).sum().backward()"
   ]
  },
  {
   "cell_type": "code",
   "execution_count": 6,
   "metadata": {
    "hidden": true,
    "scrolled": true
   },
   "outputs": [
    {
     "name": "stdout",
     "output_type": "stream",
     "text": [
      "(tensor([[[-0.0704, -0.0244,  0.0305,  ..., -0.0407,  0.0059, -0.0575],\n",
      "         [-0.0381,  0.0100,  0.0460,  ..., -0.0236,  0.0547, -0.0603],\n",
      "         [-0.0108,  0.0340,  0.0947,  ...,  0.0006,  0.0875, -0.0402],\n",
      "         ...,\n",
      "         [-0.2807, -0.1009,  0.0343,  ...,  0.0449, -0.1193, -0.0647],\n",
      "         [-0.2771, -0.0293, -0.0023,  ...,  0.0099, -0.1284, -0.1171],\n",
      "         [-0.3189, -0.0023, -0.0334,  ..., -0.0255, -0.0703, -0.1567]],\n",
      "\n",
      "        [[-0.0681, -0.0217,  0.0038,  ..., -0.0490,  0.0505, -0.0682],\n",
      "         [-0.1424, -0.0186, -0.0091,  ..., -0.0620,  0.0914, -0.0968],\n",
      "         [-0.1891,  0.0523, -0.0042,  ..., -0.0220,  0.0909, -0.0717],\n",
      "         ...,\n",
      "         [ 0.2524,  0.0960,  0.3093,  ...,  0.0566,  0.0381, -0.1388],\n",
      "         [ 0.2102,  0.0286,  0.2966,  ...,  0.0631,  0.0219, -0.1538],\n",
      "         [ 0.1145, -0.0168,  0.2166,  ...,  0.0050, -0.0295, -0.1838]],\n",
      "\n",
      "        [[-0.0538, -0.0228,  0.0727,  ..., -0.0062,  0.0874, -0.0723],\n",
      "         [-0.0777, -0.0269,  0.0551,  ...,  0.0322,  0.0342, -0.0616],\n",
      "         [-0.0856, -0.0225,  0.0017,  ...,  0.0504, -0.0354, -0.0803],\n",
      "         ...,\n",
      "         [ 0.0683, -0.1027,  0.3336,  ..., -0.0808, -0.1171, -0.2741],\n",
      "         [ 0.0494, -0.1561,  0.3146,  ...,  0.0002,  0.0044, -0.2854],\n",
      "         [-0.0958, -0.1578,  0.1785,  ...,  0.1258,  0.1305, -0.2821]],\n",
      "\n",
      "        ...,\n",
      "\n",
      "        [[-0.0306, -0.0161, -0.0313,  ..., -0.0454, -0.0427, -0.0488],\n",
      "         [-0.0123,  0.0048, -0.1046,  ...,  0.0468, -0.0672,  0.0115],\n",
      "         [ 0.0347,  0.0261, -0.1936,  ...,  0.0260, -0.0556,  0.0643],\n",
      "         ...,\n",
      "         [-0.1514,  0.2704,  0.1843,  ..., -0.1508,  0.0848, -0.1464],\n",
      "         [-0.1234,  0.1080,  0.1219,  ..., -0.1203,  0.0760, -0.0912],\n",
      "         [-0.0965, -0.0359,  0.1091,  ..., -0.0354,  0.0936, -0.0089]],\n",
      "\n",
      "        [[-0.0505, -0.0288,  0.1256,  ...,  0.0272,  0.0162, -0.0320],\n",
      "         [-0.1151, -0.0652,  0.1303,  ...,  0.0722,  0.0219, -0.0263],\n",
      "         [-0.1231, -0.1130,  0.0516,  ...,  0.0881,  0.0671,  0.0318],\n",
      "         ...,\n",
      "         [ 0.1948, -0.0779,  0.1741,  ..., -0.0253,  0.0174,  0.0158],\n",
      "         [ 0.1995, -0.0167,  0.1570,  ...,  0.0049, -0.0422,  0.0379],\n",
      "         [ 0.1648, -0.0282,  0.1804,  ...,  0.0227, -0.1694,  0.0127]],\n",
      "\n",
      "        [[-0.0438,  0.0071,  0.0068,  ..., -0.0337,  0.0160, -0.0741],\n",
      "         [ 0.0189,  0.0088,  0.0314,  ..., -0.0244,  0.0188, -0.0513],\n",
      "         [ 0.1032, -0.0339,  0.0356,  ..., -0.0625,  0.0570, -0.0354],\n",
      "         ...,\n",
      "         [ 0.4504,  0.0177,  0.0498,  ..., -0.0353,  0.1917,  0.1410],\n",
      "         [ 0.5086,  0.1060,  0.1304,  ...,  0.0204,  0.1802,  0.0187],\n",
      "         [ 0.4902,  0.1875,  0.1483,  ..., -0.0138,  0.1341, -0.0291]]],\n",
      "       device='cuda:0', grad_fn=<ThAddBackward>), (tensor([[-0.0550, -0.3711, -0.5293,  ..., -0.0014, -0.0221,  0.1068],\n",
      "        [ 0.0617, -0.0535,  0.0187,  ..., -0.0062,  0.4434, -0.0039],\n",
      "        [ 0.0449, -0.7554,  0.1010,  ..., -0.0186, -0.1459,  0.0034],\n",
      "        ...,\n",
      "        [ 0.0199, -0.0166, -0.0061,  ...,  0.0024,  0.0514,  0.1356],\n",
      "        [-0.3616, -0.2052,  0.0026,  ...,  0.0500, -0.2868, -0.2885],\n",
      "        [-0.3496,  0.1983,  0.0127,  ..., -0.0197, -0.0785,  0.1368]],\n",
      "       device='cuda:0', grad_fn=<CatBackward>), tensor([[-0.0974, -0.4103, -0.2775,  ...,  0.0409, -0.0814,  0.0812],\n",
      "        [ 0.1037, -0.0771,  0.0375,  ..., -0.0356,  0.5613,  0.0199],\n",
      "        [ 0.0743, -0.7633,  0.1208,  ..., -0.2051, -0.1950,  0.0237],\n",
      "        ...,\n",
      "        [ 0.0379, -0.0032, -0.0971,  ...,  0.0113,  0.0332,  0.3511],\n",
      "        [-1.0637, -0.3408,  0.0772,  ...,  1.5727, -0.2354, -0.8120],\n",
      "        [-0.9379,  0.4414,  0.1771,  ..., -0.2113, -0.1176,  0.7713]],\n",
      "       device='cuda:0', grad_fn=<CatBackward>)))\n",
      "tensor(-1110.4403, device='cuda:0')\n"
     ]
    }
   ],
   "source": [
    "model_norm_torch.eval()\n",
    "model_norm_torch.zero_grad()\n",
    "out = model_norm_torch(play_input, play_states)\n",
    "print(out)\n",
    "out[0].pow(2).mean().backward()\n",
    "print(model_norm_torch.lstm0.weight_ih.grad.data.sum().add(model_norm_torch.lstm0.weight_hh.grad.data.sum()).add(model_norm_torch.lstm0.weight_ch.grad.data.sum()).mul(10000))"
   ]
  },
  {
   "cell_type": "code",
   "execution_count": 7,
   "metadata": {
    "hidden": true
   },
   "outputs": [],
   "source": [
    "sleep(3)\n",
    "torch.cuda.empty_cache()"
   ]
  },
  {
   "cell_type": "markdown",
   "metadata": {
    "hidden": true
   },
   "source": [
    "## Load in Data\n",
    "\n",
    "Then, we'll load the Anna Karenina text file and convert it into integers for our network to use. "
   ]
  },
  {
   "cell_type": "code",
   "execution_count": 2,
   "metadata": {
    "ExecuteTime": {
     "end_time": "2019-02-06T01:27:04.568942Z",
     "start_time": "2019-02-06T01:27:04.549893Z"
    },
    "hidden": true,
    "tags": [
     "#read-text",
     "=>imports"
    ]
   },
   "outputs": [],
   "source": [
    "# open text file and read in data as `text`\n",
    "with open('data/anna.txt', 'r') as f:\n",
    "    text = f.read()"
   ]
  },
  {
   "cell_type": "markdown",
   "metadata": {
    "hidden": true
   },
   "source": [
    "Let's check out the first 100 characters, make sure everything is peachy. According to the [American Book Review](http://americanbookreview.org/100bestlines.asp), this is the 6th best first line of a book ever."
   ]
  },
  {
   "cell_type": "code",
   "execution_count": 3,
   "metadata": {
    "ExecuteTime": {
     "end_time": "2019-02-06T01:27:04.578894Z",
     "start_time": "2019-02-06T01:27:04.571899Z"
    },
    "hidden": true,
    "tags": [
     "#print-text",
     "=>read-text"
    ]
   },
   "outputs": [
    {
     "data": {
      "text/plain": [
       "'Chapter 1\\n\\n\\nHappy families are all alike; every unhappy family is unhappy in its own\\nway.\\n\\nEverythin'"
      ]
     },
     "execution_count": 3,
     "metadata": {},
     "output_type": "execute_result"
    }
   ],
   "source": [
    "text[:100]"
   ]
  },
  {
   "cell_type": "markdown",
   "metadata": {
    "hidden": true
   },
   "source": [
    "### Tokenization\n",
    "\n",
    "In the cells, below, I'm creating a couple **dictionaries** to convert the characters to and from integers. Encoding the characters as integers makes it easier to use as input in the network."
   ]
  },
  {
   "cell_type": "code",
   "execution_count": 4,
   "metadata": {
    "ExecuteTime": {
     "end_time": "2019-02-06T01:27:04.872933Z",
     "start_time": "2019-02-06T01:27:04.584901Z"
    },
    "hidden": true,
    "tags": [
     "#dicts-and-encodes",
     "=>print-text"
    ]
   },
   "outputs": [],
   "source": [
    "# encode the text and map each character to an integer and vice versa\n",
    "\n",
    "# we create two dictionaries:\n",
    "# 1. int2char, which maps integers to characters\n",
    "# 2. char2int, which maps characters to unique integers\n",
    "chars = tuple(set(text))\n",
    "int2char = dict(enumerate(chars))\n",
    "char2int = {ch: ii for ii, ch in int2char.items()}\n",
    "\n",
    "# encode the text\n",
    "encoded = np.array([char2int[ch] for ch in text])"
   ]
  },
  {
   "cell_type": "markdown",
   "metadata": {
    "hidden": true
   },
   "source": [
    "And we can see those same characters from above, encoded as integers."
   ]
  },
  {
   "cell_type": "code",
   "execution_count": 5,
   "metadata": {
    "ExecuteTime": {
     "end_time": "2019-02-06T01:27:04.881898Z",
     "start_time": "2019-02-06T01:27:04.875922Z"
    },
    "hidden": true,
    "tags": [
     "#encoded-print",
     "=>dicts-and-encodes"
    ]
   },
   "outputs": [
    {
     "data": {
      "text/plain": [
       "array([22, 15, 70, 66, 64,  8,  2, 65, 45, 24, 24, 24, 21, 70, 66, 66,  1,\n",
       "       65, 61, 70, 73, 12, 72, 12,  8, 74, 65, 70,  2,  8, 65, 70, 72, 72,\n",
       "       65, 70, 72, 12, 17,  8, 38, 65,  8, 76,  8,  2,  1, 65, 31, 56, 15,\n",
       "       70, 66, 66,  1, 65, 61, 70, 73, 12, 72,  1, 65, 12, 74, 65, 31, 56,\n",
       "       15, 70, 66, 66,  1, 65, 12, 56, 65, 12, 64, 74, 65, 46, 13, 56, 24,\n",
       "       13, 70,  1, 51, 24, 24, 39, 76,  8,  2,  1, 64, 15, 12, 56])"
      ]
     },
     "execution_count": 5,
     "metadata": {},
     "output_type": "execute_result"
    }
   ],
   "source": [
    "encoded[:100]"
   ]
  },
  {
   "cell_type": "markdown",
   "metadata": {
    "hidden": true
   },
   "source": [
    "## Pre-processing the data\n",
    "\n",
    "As you can see in our char-RNN image above, our LSTM expects an input that is **one-hot encoded** meaning that each character is converted into an integer (via our created dictionary) and *then* converted into a column vector where only it's corresponding integer index will have the value of 1 and the rest of the vector will be filled with 0's. Since we're one-hot encoding the data, let's make a function to do that!\n"
   ]
  },
  {
   "cell_type": "code",
   "execution_count": 6,
   "metadata": {
    "ExecuteTime": {
     "end_time": "2019-02-06T01:27:04.890898Z",
     "start_time": "2019-02-06T01:27:04.884935Z"
    },
    "hidden": true,
    "tags": [
     "#one-hot-implementation",
     "=>encoded-print"
    ]
   },
   "outputs": [],
   "source": [
    "def one_hot_encode(arr, n_labels):\n",
    "    \n",
    "    # Initialize the the encoded array\n",
    "    one_hot = np.zeros((np.multiply(*arr.shape), n_labels), dtype=np.float32)\n",
    "    \n",
    "    # Fill the appropriate elements with ones\n",
    "    one_hot[np.arange(one_hot.shape[0]), arr.flatten()] = 1.\n",
    "    \n",
    "    # Finally reshape it to get back to the original array\n",
    "    one_hot = one_hot.reshape((*arr.shape, n_labels))\n",
    "    \n",
    "    return one_hot"
   ]
  },
  {
   "cell_type": "code",
   "execution_count": 7,
   "metadata": {
    "ExecuteTime": {
     "end_time": "2019-02-06T01:27:04.908893Z",
     "start_time": "2019-02-06T01:27:04.893892Z"
    },
    "hidden": true,
    "tags": [
     "#one-hot-test",
     "=>one-hot-implementation"
    ]
   },
   "outputs": [
    {
     "name": "stdout",
     "output_type": "stream",
     "text": [
      "[[[0. 0. 0. 1. 0. 0. 0. 0.]\n",
      "  [0. 0. 0. 0. 0. 1. 0. 0.]\n",
      "  [0. 1. 0. 0. 0. 0. 0. 0.]]]\n"
     ]
    }
   ],
   "source": [
    "# check that the function works as expected\n",
    "test_seq = np.array([[3, 5, 1]])\n",
    "one_hot = one_hot_encode(test_seq, 8)\n",
    "\n",
    "print(one_hot)"
   ]
  },
  {
   "cell_type": "markdown",
   "metadata": {
    "hidden": true
   },
   "source": [
    "## Making training mini-batches\n",
    "\n",
    "\n",
    "To train on this data, we also want to create mini-batches for training. Remember that we want our batches to be multiple sequences of some desired number of sequence steps. Considering a simple example, our batches would look like this:\n",
    "\n",
    "<img src=\"assets/sequence_batching@1x.png\" width=500px>\n",
    "\n",
    "\n",
    "<br>\n",
    "\n",
    "In this example, we'll take the encoded characters (passed in as the `arr` parameter) and split them into multiple sequences, given by `batch_size`. Each of our sequences will be `seq_length` long.\n",
    "\n",
    "### Creating Batches\n",
    "\n",
    "**1. The first thing we need to do is discard some of the text so we only have completely full mini-batches. **\n",
    "\n",
    "Each batch contains $N \\times M$ characters, where $N$ is the batch size (the number of sequences in a batch) and $M$ is the seq_length or number of time steps in a sequence. Then, to get the total number of batches, $K$, that we can make from the array `arr`, you divide the length of `arr` by the number of characters per batch. Once you know the number of batches, you can get the total number of characters to keep from `arr`, $N * M * K$.\n",
    "\n",
    "**2. After that, we need to split `arr` into $N$ batches. ** \n",
    "\n",
    "You can do this using `arr.reshape(size)` where `size` is a tuple containing the dimensions sizes of the reshaped array. We know we want $N$ sequences in a batch, so let's make that the size of the first dimension. For the second dimension, you can use `-1` as a placeholder in the size, it'll fill up the array with the appropriate data for you. After this, you should have an array that is $N \\times (M * K)$.\n",
    "\n",
    "**3. Now that we have this array, we can iterate through it to get our mini-batches. **\n",
    "\n",
    "The idea is each batch is a $N \\times M$ window on the $N \\times (M * K)$ array. For each subsequent batch, the window moves over by `seq_length`. We also want to create both the input and target arrays. Remember that the targets are just the inputs shifted over by one character. The way I like to do this window is use `range` to take steps of size `n_steps` from $0$ to `arr.shape[1]`, the total number of tokens in each sequence. That way, the integers you get from `range` always point to the start of a batch, and each window is `seq_length` wide.\n",
    "\n",
    "> **TODO:** Write the code for creating batches in the function below. The exercises in this notebook _will not be easy_. I've provided a notebook with solutions alongside this notebook. If you get stuck, checkout the solutions. The most important thing is that you don't copy and paste the code into here, **type out the solution code yourself.**"
   ]
  },
  {
   "cell_type": "code",
   "execution_count": 8,
   "metadata": {
    "ExecuteTime": {
     "end_time": "2019-02-06T01:27:04.920910Z",
     "start_time": "2019-02-06T01:27:04.911929Z"
    },
    "hidden": true,
    "tags": [
     "#get-batches-implementation",
     "=>one-hot-test"
    ]
   },
   "outputs": [],
   "source": [
    "def get_batches(arr, batch_size, seq_length):\n",
    "    '''Create a generator that returns batches of size\n",
    "       batch_size x seq_length from arr.\n",
    "       \n",
    "       Arguments\n",
    "       ---------\n",
    "       arr: Array you want to make batches from\n",
    "       batch_size: Batch size, the number of sequences per batch\n",
    "       seq_length: Number of encoded chars in a sequence\n",
    "    '''\n",
    "    \n",
    "    ## TODO: Get the number of batches we can make\n",
    "#     n_batches = ((len(arr) - batch_size) // seq_length) // batch_size\n",
    "    n_batches = ((len(arr) - 1) // seq_length) // batch_size\n",
    "    \n",
    "    ## TODO: Keep only enough characters to make full batches\n",
    "#     arr = arr[:batch_size * (seq_length * n_batches + 1)]\n",
    "    arr = np.concatenate([arr[seq * seq_length * n_batches:(seq + 1) * seq_length * n_batches + 1]\n",
    "                          for seq in range(batch_size)])\n",
    "    \n",
    "    ## TODO: Reshape into batch_size rows\n",
    "    arr = arr.reshape((batch_size, seq_length * n_batches + 1))\n",
    "    \n",
    "    ## TODO: Iterate over the batches using a window of size seq_length\n",
    "#     for n in range(0, arr.shape[1], seq_length):\n",
    "    for n in range(0, arr.shape[1] - 1, seq_length):\n",
    "        # The features\n",
    "        x = arr[:, n:n +  seq_length]\n",
    "        # The targets, shifted by one\n",
    "        y = arr[:, n + 1:n + seq_length + 1]\n",
    "        yield x, y"
   ]
  },
  {
   "cell_type": "markdown",
   "metadata": {
    "hidden": true
   },
   "source": [
    "### Test Your Implementation\n",
    "\n",
    "Now I'll make some data sets and we can check out what's going on as we batch data. Here, as an example, I'm going to use a batch size of 8 and 50 sequence steps."
   ]
  },
  {
   "cell_type": "code",
   "execution_count": 9,
   "metadata": {
    "ExecuteTime": {
     "end_time": "2019-02-06T01:27:04.935895Z",
     "start_time": "2019-02-06T01:27:04.923898Z"
    },
    "hidden": true,
    "tags": [
     "#get-batches-test",
     "=>get-batches-implementation"
    ]
   },
   "outputs": [],
   "source": [
    "batches = get_batches(encoded, 8, 50)\n",
    "x, y = next(batches)"
   ]
  },
  {
   "cell_type": "code",
   "execution_count": 10,
   "metadata": {
    "ExecuteTime": {
     "end_time": "2019-02-06T01:27:04.947908Z",
     "start_time": "2019-02-06T01:27:04.938892Z"
    },
    "hidden": true,
    "tags": [
     "#get-batches-test-print",
     "=>get-batches-test"
    ]
   },
   "outputs": [
    {
     "name": "stdout",
     "output_type": "stream",
     "text": [
      "x\n",
      " [[22 15 70 66 64  8  2 65 45 24]\n",
      " [74 46 56 65 64 15 70 64 65 70]\n",
      " [ 8 56  9 65 46  2 65 70 65 61]\n",
      " [74 65 64 15  8 65 14 15 12  8]\n",
      " [65 74 70 13 65 15  8  2 65 64]\n",
      " [14 31 74 74 12 46 56 65 70 56]\n",
      " [65 18 56 56 70 65 15 70  9 65]\n",
      " [43 75 72 46 56 74 17  1 51 65]]\n",
      "\n",
      "y\n",
      " [[15 70 66 64  8  2 65 45 24 24]\n",
      " [46 56 65 64 15 70 64 65 70 64]\n",
      " [56  9 65 46  2 65 70 65 61 46]\n",
      " [65 64 15  8 65 14 15 12  8 61]\n",
      " [74 70 13 65 15  8  2 65 64  8]\n",
      " [31 74 74 12 46 56 65 70 56  9]\n",
      " [18 56 56 70 65 15 70  9 65 74]\n",
      " [75 72 46 56 74 17  1 51 65 28]]\n"
     ]
    }
   ],
   "source": [
    "# printing out the first 10 items in a sequence\n",
    "print('x\\n', x[:10, :10])\n",
    "print('\\ny\\n', y[:10, :10])"
   ]
  },
  {
   "cell_type": "markdown",
   "metadata": {
    "hidden": true
   },
   "source": [
    "If you implemented `get_batches` correctly, the above output should look something like \n",
    "```\n",
    "x\n",
    " [[25  8 60 11 45 27 28 73  1  2]\n",
    " [17  7 20 73 45  8 60 45 73 60]\n",
    " [27 20 80 73  7 28 73 60 73 65]\n",
    " [17 73 45  8 27 73 66  8 46 27]\n",
    " [73 17 60 12 73  8 27 28 73 45]\n",
    " [66 64 17 17 46  7 20 73 60 20]\n",
    " [73 76 20 20 60 73  8 60 80 73]\n",
    " [47 35 43  7 20 17 24 50 37 73]]\n",
    "\n",
    "y\n",
    " [[ 8 60 11 45 27 28 73  1  2  2]\n",
    " [ 7 20 73 45  8 60 45 73 60 45]\n",
    " [20 80 73  7 28 73 60 73 65  7]\n",
    " [73 45  8 27 73 66  8 46 27 65]\n",
    " [17 60 12 73  8 27 28 73 45 27]\n",
    " [64 17 17 46  7 20 73 60 20 80]\n",
    " [76 20 20 60 73  8 60 80 73 17]\n",
    " [35 43  7 20 17 24 50 37 73 36]]\n",
    " ```\n",
    " although the exact numbers may be different. Check to make sure the data is shifted over one step for `y`."
   ]
  },
  {
   "cell_type": "markdown",
   "metadata": {},
   "source": [
    "# DO IT ALL (Runs all the previous cells except for the custom modules)"
   ]
  },
  {
   "cell_type": "code",
   "execution_count": 11,
   "metadata": {
    "ExecuteTime": {
     "end_time": "2019-02-06T01:27:04.955895Z",
     "start_time": "2019-02-06T01:27:04.950896Z"
    },
    "tags": [
     "#RUN-EVERYTHING",
     "=>get-batches-test-print"
    ]
   },
   "outputs": [
    {
     "name": "stdout",
     "output_type": "stream",
     "text": [
      "DONE\n"
     ]
    }
   ],
   "source": [
    "print(\"DONE\")"
   ]
  },
  {
   "cell_type": "markdown",
   "metadata": {},
   "source": [
    "---\n",
    "## Defining the network with PyTorch\n",
    "\n",
    "Below is where you'll define the network.\n",
    "\n",
    "<img src=\"assets/charRNN.png\" width=500px>\n",
    "\n",
    "Next, you'll use PyTorch to define the architecture of the network. We start by defining the layers and operations we want. Then, define a method for the forward pass. You've also been given a method for predicting characters."
   ]
  },
  {
   "cell_type": "markdown",
   "metadata": {},
   "source": [
    "### Model Structure\n",
    "\n",
    "In `__init__` the suggested structure is as follows:\n",
    "* Create and store the necessary dictionaries (this has been done for you)\n",
    "* Define an LSTM layer that takes as params: an input size (the number of characters), a hidden layer size `n_hidden`, a number of layers `n_layers`, a dropout probability `drop_prob`, and a batch_first boolean (True, since we are batching)\n",
    "* Define a dropout layer with `dropout_prob`\n",
    "* Define a fully-connected layer with params: input size `n_hidden` and output size (the number of characters)\n",
    "* Finally, initialize the weights (again, this has been given)\n",
    "\n",
    "Note that some parameters have been named and given in the `__init__` function, and we use them and store them by doing something like `self.drop_prob = drop_prob`."
   ]
  },
  {
   "cell_type": "markdown",
   "metadata": {},
   "source": [
    "---\n",
    "### LSTM Inputs/Outputs\n",
    "\n",
    "You can create a basic [LSTM layer](https://pytorch.org/docs/stable/nn.html#lstm) as follows\n",
    "\n",
    "```python\n",
    "self.lstm = nn.LSTM(input_size, n_hidden, n_layers, \n",
    "                            dropout=drop_prob, batch_first=True)\n",
    "```\n",
    "\n",
    "where `input_size` is the number of characters this cell expects to see as sequential input, and `n_hidden` is the number of units in the hidden layers in the cell. And we can add dropout by adding a dropout parameter with a specified probability; this will automatically add dropout to the inputs or outputs. Finally, in the `forward` function, we can stack up the LSTM cells into layers using `.view`. With this, you pass in a list of cells and it will send the output of one cell into the next cell.\n",
    "\n",
    "We also need to create an initial hidden state of all zeros. This is done like so\n",
    "\n",
    "```python\n",
    "self.init_hidden()\n",
    "```"
   ]
  },
  {
   "cell_type": "code",
   "execution_count": 12,
   "metadata": {
    "ExecuteTime": {
     "end_time": "2019-02-06T01:27:06.012513Z",
     "start_time": "2019-02-06T01:27:06.008504Z"
    }
   },
   "outputs": [
    {
     "name": "stdout",
     "output_type": "stream",
     "text": [
      "Training on GPU!\n"
     ]
    }
   ],
   "source": [
    "# check if GPU is available\n",
    "train_on_gpu = torch.cuda.is_available()\n",
    "if(train_on_gpu):\n",
    "    print('Training on GPU!')\n",
    "else: \n",
    "    print('No GPU available, training on CPU; consider making n_epochs very small.')\n",
    "# train_on_gpu = False"
   ]
  },
  {
   "cell_type": "code",
   "execution_count": 13,
   "metadata": {
    "code_folding": [
     0
    ]
   },
   "outputs": [],
   "source": [
    "class CharRNN(nn.Module):\n",
    "    \n",
    "    def __init__(self, tokens, n_hidden=256, n_layers=2,\n",
    "                               drop_prob=0.5, lr=0.001):\n",
    "        super().__init__()\n",
    "        self.drop_prob = drop_prob\n",
    "        self.n_layers = n_layers\n",
    "        self.n_hidden = n_hidden\n",
    "        self.lr = lr\n",
    "        \n",
    "        # creating character dictionaries\n",
    "        self.chars = tokens\n",
    "        self.int2char = dict(enumerate(self.chars))\n",
    "        self.char2int = {ch: ii for ii, ch in self.int2char.items()}\n",
    "        \n",
    "        ## TODO: define the layers of the model\n",
    "        self.lstm = nn.LSTM(input_size=len(tokens), hidden_size=n_hidden, num_layers=n_layers,\n",
    "                            batch_first=True, dropout=drop_prob)\n",
    "        self.fc = nn.Linear(in_features=n_hidden, out_features=len(tokens))\n",
    "    \n",
    "    def forward(self, x, hidden):\n",
    "        ''' Forward pass through the network. \n",
    "            These inputs are x, and the hidden/cell state `hidden`. '''\n",
    "                \n",
    "        ## TODO: Get the outputs and the new hidden state from the lstm\n",
    "        out, hidden = self.lstm(x, hidden)\n",
    "        out = self.fc(out)\n",
    "        \n",
    "        # return the final output and the hidden state\n",
    "        return out, hidden\n",
    "    \n",
    "    \n",
    "    def init_hidden(self, batch_size, cuda=True):\n",
    "        ''' Initializes hidden state '''\n",
    "        # Create two new tensors with sizes n_layers x batch_size x n_hidden,\n",
    "        # initialized to zero, for hidden state and cell state of LSTM\n",
    "        weight = next(self.parameters()).data\n",
    "        \n",
    "        if cuda:\n",
    "            hidden = (weight.new(self.n_layers, batch_size, self.n_hidden).zero_().cuda(),\n",
    "                  weight.new(self.n_layers, batch_size, self.n_hidden).zero_().cuda())\n",
    "        else:\n",
    "            hidden = (weight.new(self.n_layers, batch_size, self.n_hidden).zero_(),\n",
    "                      weight.new(self.n_layers, batch_size, self.n_hidden).zero_())\n",
    "        \n",
    "        return hidden"
   ]
  },
  {
   "cell_type": "code",
   "execution_count": 14,
   "metadata": {
    "code_folding": [
     0
    ]
   },
   "outputs": [],
   "source": [
    "class CharRNN(nn.Module):\n",
    "    \n",
    "    def __init__(self, tokens, n_hidden=256, n_layers=2,\n",
    "                               drop_prob=0., lr=0.001):\n",
    "        super().__init__()\n",
    "        self.drop_prob = drop_prob\n",
    "        self.n_hidden = n_hidden\n",
    "        self.n_layers = n_layers\n",
    "        self.lr = lr\n",
    "        \n",
    "        # creating character dictionaries\n",
    "        self.chars = tokens\n",
    "        self.int2char = dict(enumerate(self.chars))\n",
    "        self.char2int = {ch: ii for ii, ch in self.int2char.items()}\n",
    "        \n",
    "        ## TODO: define the layers of the model\n",
    "        in_size = len(tokens)\n",
    "        for i in range(n_layers):\n",
    "            self.add_module(f'lstm{i}', peephole_lstm_classes.PeepholeLSTM(in_size, n_hidden, drop_prob))\n",
    "            in_size = n_hidden\n",
    "        #self.lstm = peephole_lstm_classes.PeepholeLSTM(len(tokens), n_hidden, drop_prob)\n",
    "        self.fc = nn.Linear(in_features=in_size, out_features=len(tokens))\n",
    "    \n",
    "    def forward(self, x, hidden):\n",
    "        ''' Forward pass through the network. \n",
    "            These inputs are x, and the hidden/cell state `hidden`. '''\n",
    "                \n",
    "        ## TODO: Get the outputs and the new hidden state from the lstm\n",
    "        new_hidden = (torch.zeros_like(hidden[0]), torch.zeros_like(hidden[1]))\n",
    "        for i in range(self.n_layers):\n",
    "            x, hc = self.__getattr__(f'lstm{i}')(x, (hidden[0][i], hidden[1][i]))\n",
    "            new_hidden[0][i], new_hidden[1][i] = hc[0], hc[1]\n",
    "        x = self.fc(x)\n",
    "        \n",
    "        # return the final output and the hidden state\n",
    "        return x, new_hidden\n",
    "    \n",
    "    \n",
    "    def init_hidden(self, batch_size, cuda=True):\n",
    "        ''' Initializes hidden state '''\n",
    "        # Create two new tensors with sizes n_layers x batch_size x n_hidden,\n",
    "        # initialized to zero, for hidden state and cell state of LSTM\n",
    "        weight = next(self.parameters()).data\n",
    "        \n",
    "        if cuda:\n",
    "            hidden = (weight.new_zeros(self.n_layers, batch_size, self.n_hidden).cuda(),\n",
    "                      weight.new_zeros(self.n_layers, batch_size, self.n_hidden).cuda())\n",
    "        else:\n",
    "            hidden = (weight.new_zeros(self.n_layers, batch_size, self.n_hidden),\n",
    "                      weight.new_zeros(self.n_layers, batch_size, self.n_hidden))\n",
    "        \n",
    "        return hidden"
   ]
  },
  {
   "cell_type": "code",
   "execution_count": 15,
   "metadata": {
    "code_folding": [
     0
    ]
   },
   "outputs": [],
   "source": [
    "class MyCharRNN(nn.Module):\n",
    "    \n",
    "    class PeepholeLSTMCell(nn.Module):\n",
    "        \n",
    "        def __init__(self, input_size, hidden_size, dropout=0):\n",
    "            assert isinstance(input_size, int) and input_size >= 1\n",
    "            assert isinstance(hidden_size, int) and hidden_size >= 1\n",
    "            assert isinstance(dropout, (int, float)) and 0 <= dropout <= 1\n",
    "\n",
    "            super().__init__()\n",
    "\n",
    "            self.input_size = input_size\n",
    "            self.hidden_size = hidden_size\n",
    "            self.dropout = dropout\n",
    "            \n",
    "            self.weight_ih = nn.Parameter(torch.empty(4*hidden_size, input_size))\n",
    "            self.weight_hh = nn.Parameter(torch.empty(4*hidden_size, hidden_size))\n",
    "            self.weight_ch = nn.Parameter(torch.empty(3*hidden_size, hidden_size))\n",
    "            self.bias = nn.Parameter(torch.empty(4*hidden_size))\n",
    "            \n",
    "            self.reset_parameters()\n",
    "            \n",
    "        def reset_parameters(self):\n",
    "            stdv = 1. / np.sqrt(self.input_size + 2 * self.hidden_size)\n",
    "            self.weight_ih.data.uniform_(-stdv, stdv)\n",
    "            self.weight_hh.data.uniform_(-stdv, stdv)\n",
    "            self.weight_ch.data.uniform_(-stdv, stdv)\n",
    "            self.bias.data.uniform_(-stdv, stdv)\n",
    "            \n",
    "        def forward(self, input, hc=None):\n",
    "            if hc is None:\n",
    "                hc = input.new_zeros(input.size(1), 2 * self.hidden_size, requires_grad=False).chunk(chunks=2, dim=1)\n",
    "\n",
    "            for i, h in enumerate((hc[0], hc[1])):\n",
    "                if input.size(0) != h.size(0):\n",
    "                    raise RuntimeError(f\"Input batch size {input.size(0)} doesn't match hidden{i} batch size {h.size(0)}\")\n",
    "                if h.size(1) != self.hidden_size:\n",
    "                    raise RuntimeError(f\"hidden{i} has inconsistent hidden_size: got {h.size(1)}, expected {self.hidden_size}\")\n",
    "            \n",
    "            gates = torch.addmm(self.bias, input, self.weight_ih.t())\n",
    "            gates += torch.mm(hc[0], self.weight_hc.t())\n",
    "            gates[:, :3*self.hidden_size] += torch.mm(hc[1], self.weight_ch.t())\n",
    "            \n",
    "            sig_gates = gates[:, :3 * self.hidden_size].sigmoid().chunk(chunks=3, dim=1)\n",
    "            tanh_gate = gates[:, 3 * self.hidden_size:].tanh()\n",
    "            \n",
    "            c = sig_gates[0] * hc[1] + sig_gates[1] * tanh_gate\n",
    "            h = sig_gates[2] * torch.tanh(c)\n",
    "            output = F.dropout(h, p=self.dropout, training=self.training, inplace=False)\n",
    "            \n",
    "            return output, (h, c)\n",
    "            \n",
    "        def __repr__(self):\n",
    "            return f\"PeepholeLSTMCell(input_size={self.input_size}, hidden_size={self.hidden_size}, dropout={self.dropout})\"\n",
    "        \n",
    "        def extra_repr(self):\n",
    "            return ''\n",
    "\n",
    "    def __init__(self, tokens, n_hidden=256, n_layers=2, drop_prob=0.5, lr=0.001):\n",
    "        super().__init__()\n",
    "        self.drop_prob = drop_prob\n",
    "        self.n_layers = n_layers\n",
    "        self.n_hidden = n_hidden\n",
    "        self.lr = lr\n",
    "\n",
    "        # creating character dictionaries\n",
    "        self.chars = tokens\n",
    "        self.int2char = dict(enumerate(self.chars))\n",
    "        self.char2int = {ch: ii for ii, ch in self.int2char.items()}\n",
    "\n",
    "        ## TODO: define the layers of the model\n",
    "        self.peephole_lstm0 = self.PeepholeLSTMCell(input_size=len(tokens), hidden_size=n_hidden, dropout=drop_prob)\n",
    "        for n in range(1, n_layers):\n",
    "            self.add_module(f\"peephole_lstm{n}\", self.PeepholeLSTMCell(input_size=n_hidden, hidden_size=n_hidden, dropout=drop_prob))\n",
    "        self.fc = nn.Linear(in_features=n_hidden, out_features=len(tokens))\n",
    "    \n",
    "    def forward(self, x, hidden=None):\n",
    "        ''' Forward pass through the network. \n",
    "            These inputs are x, and the hidden/cell state `hidden`. '''\n",
    "        if len(x.size()) != 3:\n",
    "            raise RuntimeError(f\"Invalid dimensions {x.size()} for the input tensor. \"\n",
    "                               \"A 3D tensor with dimensions [batch_size, sequence_length, n_features] is expected.\")\n",
    "        if hidden is None:\n",
    "            hidden = x.new_zeros(self.n_layers, x.size(0), 2 * self.hidden_size, requires_grad=False).chunk(chunks=2, dim=2)\n",
    "                \n",
    "        ## TODO: Get the outputs and the new hidden state from the lstm\n",
    "        out = x.transpose(0, 1)\n",
    "        new_hidden = torch.empty_like(hidden[0])\n",
    "        new_cell = torch.empty_like(hidden[1])\n",
    "        for l in range(self.n_layers):\n",
    "            outs = []\n",
    "            h = hidden[0][l]\n",
    "            c = hidden[1][l]\n",
    "            for step_batch in out:\n",
    "                out, (h, c) = self.__getattr__(f\"peephole_lstm{l}\")(step_batch, (h, c))\n",
    "                outs.append(out)\n",
    "            out = torch.stack(outs)\n",
    "            new_hidden[l] = h\n",
    "            new_cell[l] = c\n",
    "\n",
    "        out = out.transpose(0, 1).contiguous()\n",
    "\n",
    "        out = self.fc(out)\n",
    "        hidden = (new_hidden, new_cell)\n",
    "        \n",
    "        # return the final output and the hidden state\n",
    "        return out, hidden\n",
    "    \n",
    "    def init_hidden(self, batch_size, cuda=True):\n",
    "        ''' Initializes hidden state '''\n",
    "        # Create two new tensors with sizes n_layers x batch_size x n_hidden,\n",
    "        # initialized to zero, for hidden state and cell state of LSTM\n",
    "        weight = next(self.parameters()).data\n",
    "        \n",
    "        if cuda:\n",
    "            hidden = (weight.new(self.n_layers, batch_size, self.n_hidden).zero_().cuda(),\n",
    "                      weight.new(self.n_layers, batch_size, self.n_hidden).zero_().cuda())\n",
    "        else:\n",
    "            hidden = (weight.new(self.n_layers, batch_size, self.n_hidden).zero_(),\n",
    "                      weight.new(self.n_layers, batch_size, self.n_hidden).zero_())\n",
    "        \n",
    "        return hidden"
   ]
  },
  {
   "cell_type": "code",
   "execution_count": 13,
   "metadata": {
    "ExecuteTime": {
     "end_time": "2019-02-06T01:27:08.208272Z",
     "start_time": "2019-02-06T01:27:07.720035Z"
    },
    "code_folding": [
     0,
     27,
     43,
     105
    ]
   },
   "outputs": [
    {
     "name": "stderr",
     "output_type": "stream",
     "text": [
      "C:\\Users\\0107w\\Anaconda3\\envs\\pytorch1.0\\lib\\site-packages\\torch\\utils\\cpp_extension.py:184: UserWarning: Error checking compiler version for c++: Command 'c++' returned non-zero exit status 1.\n",
      "  warnings.warn('Error checking compiler version for {}: {}'.format(compiler, error))\n"
     ]
    }
   ],
   "source": [
    "class LNPeepholeLSTMTorch(nn.Module):\n",
    "    def __init__(self, input_size, hidden_size, batch_first=False, dropout=0., dropout_on_output=True, eps=1e-05):\n",
    "        if not 0 <= dropout <= 1:\n",
    "            raise ValueError(f\"Invalid dropout value : {dropout} dropout must be in range [0, 1].\")\n",
    "        super(LNPeepholeLSTMTorch, self).__init__()\n",
    "\n",
    "        self.input_size = input_size\n",
    "        self.hidden_size = hidden_size\n",
    "        self.batch_first = bool(batch_first)\n",
    "        self.dropout = float(dropout)\n",
    "        self.dropout_on_output = bool(dropout_on_output)\n",
    "        self.eps = eps\n",
    "\n",
    "        self.register_parameter('weight_ih', nn.Parameter(torch.empty(4 * hidden_size, input_size)))\n",
    "        self.register_parameter('weight_hh', nn.Parameter(torch.empty(4 * hidden_size, hidden_size)))\n",
    "        self.register_parameter('weight_ch', nn.Parameter(torch.empty(3 * hidden_size)))\n",
    "        self.register_parameter('bias', nn.Parameter(torch.empty(4 * hidden_size)))\n",
    "\n",
    "        self.register_parameter('gamma_f', nn.Parameter(torch.empty(hidden_size)))\n",
    "        self.register_parameter('gamma_i', nn.Parameter(torch.empty(hidden_size)))\n",
    "        self.register_parameter('gamma_g', nn.Parameter(torch.empty(hidden_size)))\n",
    "        self.register_parameter('gamma_o', nn.Parameter(torch.empty(hidden_size)))\n",
    "        self.register_parameter('gamma_cell', nn.Parameter(torch.empty(hidden_size)))\n",
    "        self.register_parameter('beta_cell', nn.Parameter(torch.empty(hidden_size)))\n",
    "\n",
    "        self.reset_parameters()\n",
    "\n",
    "    def reset_parameters(self):\n",
    "        stdv = 1.0 / math.sqrt(self.input_size + 2 * self.hidden_size)\n",
    "        self.weight_ih.data.uniform_(-stdv, +stdv)\n",
    "        self.weight_hh.data.uniform_(-stdv, +stdv)\n",
    "        self.weight_ch.data.uniform_(-stdv, +stdv)\n",
    "\n",
    "        self.bias.data.zero_()\n",
    "        self.bias.data[:self.hidden_size].fill_(1.)\n",
    "\n",
    "        self.gamma_f.data.uniform_()\n",
    "        self.gamma_i.data.uniform_()\n",
    "        self.gamma_g.data.uniform_()\n",
    "        self.gamma_o.data.uniform_()\n",
    "        self.gamma_cell.data.uniform_()\n",
    "        self.beta_cell.data.zero_()\n",
    "\n",
    "    def forward(self, input, states):\n",
    "        assert input.dim() == 3, \"expected a 3 dimensional tensor as `input`, but te given tensor has {} dimension(s)\".format(input.dim())\n",
    "        assert len(states) == 2, \"expected a (hidden, cell) pair as `states`, but the length of the given states is {}\".format(len(states))\n",
    "        if self.batch_first:\n",
    "            input = input.transpose(0, 1).contiguous()\n",
    "        assert states[0].size() == (input.size(1), self.hidden_size), \"expected a hidden state tensor with dimensionality {}, but the given tensor has dimensionality []\".format(states[0].size(), (input.size(1), self.hidden_size))\n",
    "        assert states[1].size() == (input.size(1), self.hidden_size), \"expected a cell state tensor with dimensionality {}, but the given tensor has dimensionality []\".format(states[1].size(), (input.size(1), self.hidden_size))\n",
    "\n",
    "        hidden, cell = states\n",
    "\n",
    "        hidden_size = self.hidden_size\n",
    "        hidden_size_2 = 2 * hidden_size\n",
    "        hidden_size_3 = hidden_size_2 + hidden_size\n",
    "\n",
    "        norm_shape = torch.Size((hidden_size,))\n",
    "\n",
    "        outputs = input.new_empty((input.size(0), input.size(1), hidden_size))\n",
    "\n",
    "        ih = input.matmul(self.weight_ih.t())\n",
    "\n",
    "        weight_hc_h = torch.cat((self.weight_hh.t(),\n",
    "                                 torch.cat((self.weight_ch[:hidden_size].diag(),\n",
    "                                            self.weight_ch[hidden_size:hidden_size_2].diag(),\n",
    "                                            self.weight_ch.new_zeros(hidden_size_2, hidden_size))).t()))\n",
    "        weight_co = self.weight_ch[hidden_size_2:]\n",
    "\n",
    "        gamma_fig = torch.stack((self.gamma_f, self.gamma_i, self.gamma_g))\n",
    "\n",
    "        bias_fig = torch.stack(self.bias[:hidden_size_3].chunk(3, dim=0))\n",
    "        bias_o = self.bias[hidden_size_3:]\n",
    "\n",
    "        for i in range(input.size(0)):\n",
    "            gates = torch.addmm(ih[i], torch.cat((hidden, cell), dim=1), weight_hc_h).view(-1, 4, hidden_size)\n",
    "            gates_fig = gates[:, :3]\n",
    "\n",
    "\n",
    "            gates_fig = F.layer_norm(gates_fig, norm_shape, eps=self.eps)\n",
    "            gates_fig = torch.addcmul(bias_fig, gates_fig, gamma_fig)\n",
    "            forget_input_gates = gates_fig[:, :2].sigmoid()\n",
    "            candidate_cell = F.dropout(gates_fig[:, 2].tanh(), p=self.dropout, training=self.training)\n",
    "\n",
    "\n",
    "            cell = F.layer_norm(torch.addcmul(forget_input_gates[:, 0] * cell,\n",
    "                                              forget_input_gates[:, 1], candidate_cell),\n",
    "                                norm_shape, self.gamma_cell, self.beta_cell, self.eps)\n",
    "\n",
    "            output_gate = torch.addcmul(gates[:, 3], cell, weight_co)\n",
    "\n",
    "            output_gate = F.layer_norm(output_gate, norm_shape, self.gamma_o, bias_o, self.eps).sigmoid()\n",
    "\n",
    "            hidden = output_gate * cell.tanh()\n",
    "\n",
    "            outputs[i] = hidden\n",
    "\n",
    "        if self.dropout_on_output:\n",
    "            outputs = F.dropout(outputs, p=self.dropout, training=self.training)\n",
    "        \n",
    "        if self.batch_first:\n",
    "            outputs = outputs.transpose(0, 1).contiguous()\n",
    "\n",
    "        return outputs, (hidden, cell)\n",
    "\n",
    "    def __repr__(self):\n",
    "        return f\"LNPeepholeLSTMTorch(input_size={self.input_size}, hidden_size={self.hidden_size}, batch_first={self.batch_first}, dropout={self.dropout}, dropout_on_output={self.dropout_on_output}, eps={self.eps})\"\n",
    "\n",
    "from ln_lstm_layer.ln_lstm_layer import LNPeepholeLSTM"
   ]
  },
  {
   "cell_type": "code",
   "execution_count": 14,
   "metadata": {
    "ExecuteTime": {
     "end_time": "2019-02-06T01:27:08.235318Z",
     "start_time": "2019-02-06T01:27:08.211027Z"
    },
    "code_folding": [
     5
    ]
   },
   "outputs": [],
   "source": [
    "module = lambda **kwds: LNPeepholeLSTM(**kwds, batch_first=True)\n",
    "# module = lambda **kwds: LNPeepholeLSTMTorch(**kwds, batch_first=True)\n",
    "# module = lambda **kwds: nn.LSTM(**kwds, batch_first=True)\n",
    "# module = lambda **kwds: nn.GRU(**kwds, batch_first=True)\n",
    "# module = peephole_lstm_classes.PeepholeNormLSTMTorch\n",
    "# module = peephole_lstm_classes.PeepholeNormLSTMTorch\n",
    "class MyCharRNN(nn.Module):\n",
    "    \n",
    "    def __init__(self, tokens, n_hidden=256, n_layers=2, drop_prob=0.5, lr=0.001):\n",
    "        super().__init__()\n",
    "        self.drop_prob = drop_prob\n",
    "        self.n_layers = n_layers\n",
    "        self.n_hidden = n_hidden\n",
    "        self.lr = lr\n",
    "\n",
    "        # creating character dictionaries\n",
    "        self.chars = tokens\n",
    "        self.int2char = dict(enumerate(self.chars))\n",
    "        self.char2int = {ch: ii for ii, ch in self.int2char.items()}\n",
    "\n",
    "        ## TODO: define the layers of the model\n",
    "        self.fc0 = nn.Linear(in_features=len(tokens), out_features=len(tokens))\n",
    "        self.rnn0 = module(input_size=len(tokens), hidden_size=n_hidden, dropout=drop_prob)\n",
    "        self.rnn_type = type(self.rnn0)\n",
    "        for n in range(1, n_layers):\n",
    "            self.add_module(f\"rnn{n}\", module(input_size=n_hidden, hidden_size=n_hidden, dropout=drop_prob))\n",
    "        self.fc1 = nn.Linear(in_features=n_hidden, out_features=len(tokens))\n",
    "        self.hidden0 = nn.Parameter(torch.randn(n_layers, n_hidden) * 0.1)\n",
    "        self.cell0 = nn.Parameter(torch.randn(n_layers, n_hidden) * 0.1)\n",
    "    \n",
    "    def forward(self, x, hidden=None):\n",
    "        ''' Forward pass through the network. \n",
    "            These inputs are x, and the hidden/cell state `hidden`. '''\n",
    "        if len(x.size()) != 3:\n",
    "            raise RuntimeError(f\"Invalid dimensions {x.size()} for the input tensor. \"\n",
    "                               \"A 3D tensor with dimensions [batch_size, sequence_length, n_features] is expected.\")\n",
    "        if hidden is None:\n",
    "            hidden = self.init_hidden(x.size(0))\n",
    "                \n",
    "        ## TODO: Get the outputs and the new hidden state from the lstm\n",
    "        if self.rnn_type in (nn.RNN, nn.GRU):\n",
    "            new_hidden = torch.empty_like(hidden)\n",
    "        else:\n",
    "            new_hidden = torch.empty_like(hidden[0])\n",
    "            new_cell = torch.empty_like(hidden[1])\n",
    "        \n",
    "        x = F.relu(self.fc0(x))\n",
    "        outputs = []\n",
    "        for l in range(self.n_layers):\n",
    "            if self.rnn_type == nn.LSTM:\n",
    "                x, (new_hidden[l], new_cell[l]) = getattr(self, \"rnn{}\".format(l))(x, (hidden[0][l].unsqueeze(0), hidden[1][l].unsqueeze(0)))\n",
    "            elif self.rnn_type in (nn.RNN, nn.GRU):\n",
    "                x, new_hidden[l] = getattr(self, \"rnn{}\".format(l))(x, hidden[l].unsqueeze(0))\n",
    "            else:\n",
    "                x, (new_hidden[l], new_cell[l]) = getattr(self, \"rnn{}\".format(l))(x, (hidden[0][l], hidden[1][l]))\n",
    "            outputs.append(x)\n",
    "    \n",
    "        x = self.fc1(sum(outputs))\n",
    "\n",
    "        # return the final output and the hidden state\n",
    "        if self.rnn_type in (nn.RNN, nn.GRU):\n",
    "            return x, new_hidden\n",
    "        return x, (new_hidden, new_cell)\n",
    "    \n",
    "    def init_hidden(self, batch_size, cuda=None):\n",
    "        ''' Initializes hidden state '''\n",
    "        # Create two new tensors with sizes n_layers x batch_size x n_hidden,\n",
    "        # initialized to zero, for hidden state and cell state of LSTM\n",
    "#         hidden = (self.hidden0.unsqueeze(1).expand(self.n_layers, batch_size, self.n_hidden).contiguous(),\n",
    "#                   self.cell0.unsqueeze(1).expand(self.n_layers, batch_size, self.n_hidden).contiguous())\n",
    "        weight = next(self.parameters()).data\n",
    "        \n",
    "        if cuda is None:\n",
    "            if self.rnn_type in (nn.RNN, nn.GRU):\n",
    "                hidden = weight.new_zeros((self.n_layers, batch_size, self.n_hidden))\n",
    "            else:\n",
    "                hidden = (weight.new_zeros((self.n_layers, batch_size, self.n_hidden)),\n",
    "                          weight.new_zeros((self.n_layers, batch_size, self.n_hidden)))\n",
    "        elif cuda:\n",
    "            if self.rnn_type in (nn.RNN, nn.GRU):\n",
    "                hidden = weight.new_zeros((self.n_layers, batch_size, self.n_hidden), device='cude')\n",
    "            else:\n",
    "                hidden = (weight.new_zeros((self.n_layers, batch_size, self.n_hidden), device='cuda'),\n",
    "                          weight.new_zeros((self.n_layers, batch_size, self.n_hidden), device='cuda'))\n",
    "        else:\n",
    "            if self.rnn_type in (nn.RNN, nn.GRU):\n",
    "                hidden = weight.new_zeros((self.n_layers, batch_size, self.n_hidden), device='cpu')\n",
    "            else:\n",
    "                hidden = (weight.new_zeros((self.n_layers, batch_size, self.n_hidden), device='cpu'),\n",
    "                          weight.new_zeros((self.n_layers, batch_size, self.n_hidden), device='cpu'))\n",
    "        \n",
    "        return hidden"
   ]
  },
  {
   "cell_type": "markdown",
   "metadata": {},
   "source": [
    "## Time to train\n",
    "\n",
    "The train function gives us the ability to set the number of epochs, the learning rate, and other parameters.\n",
    "\n",
    "Below we're using an Adam optimizer and cross entropy loss since we are looking at character class scores as output. We calculate the loss and perform backpropagation, as usual!\n",
    "\n",
    "A couple of details about training: \n",
    ">* Within the batch loop, we detach the hidden state from its history; this time setting it equal to a new *tuple* variable because an LSTM has a hidden state that is a tuple of the hidden and cell states.\n",
    "* We use [`clip_grad_norm_`](https://pytorch.org/docs/stable/_modules/torch/nn/utils/clip_grad.html) to help prevent exploding gradients."
   ]
  },
  {
   "cell_type": "code",
   "execution_count": 15,
   "metadata": {
    "ExecuteTime": {
     "end_time": "2019-02-06T01:27:10.050144Z",
     "start_time": "2019-02-06T01:27:10.036095Z"
    },
    "code_folding": [
     0
    ]
   },
   "outputs": [],
   "source": [
    "def train(net, data, epochs=10, batch_size=10, seq_length=50, lr=0.001, weight_decay=0., clip=5, val_frac=0.1, print_every=10):\n",
    "    ''' Training a network \n",
    "    \n",
    "        Arguments\n",
    "        ---------\n",
    "        \n",
    "        net: CharRNN network\n",
    "        data: text data to train the network\n",
    "        epochs: Number of epochs to train\n",
    "        batch_size: Number of mini-sequences per mini-batch, aka batch size\n",
    "        seq_length: Number of character steps per mini-batch\n",
    "        lr: learning rate\n",
    "        clip: gradient clipping\n",
    "        val_frac: Fraction of data to hold out for validation\n",
    "        print_every: Number of steps for printing training and validation loss\n",
    "    \n",
    "    '''\n",
    "    net.train()\n",
    "    \n",
    "    opt = torch.optim.Adam(net.parameters(), lr=lr, weight_decay=weight_decay)\n",
    "    criterion = nn.CrossEntropyLoss()\n",
    "    \n",
    "    # create training and validation data\n",
    "    val_idx = int(len(data)*(1-val_frac))\n",
    "    data, val_data = data[:val_idx], data[val_idx:]\n",
    "    \n",
    "    if (train_on_gpu):\n",
    "        net.cuda()\n",
    "    else:\n",
    "        net.cpu()\n",
    "    \n",
    "    counter = 0\n",
    "    n_chars = len(net.chars)\n",
    "    for e in range(epochs):\n",
    "        # initialize hidden state\n",
    "        h = net.init_hidden(batch_size)\n",
    "        \n",
    "        for x, y in get_batches(data, batch_size, seq_length):\n",
    "            counter += 1\n",
    "            \n",
    "            # One-hot encode our data and make them Torch tensors\n",
    "            x = one_hot_encode(x, n_chars)\n",
    "            inputs, targets = torch.from_numpy(x), torch.from_numpy(y)\n",
    "            \n",
    "            if train_on_gpu:\n",
    "                inputs, targets = inputs.cuda(), targets.cuda()\n",
    "\n",
    "            # Creating new variables for the hidden state, otherwise\n",
    "            # we'd backprop through the entire training history\n",
    "            if isinstance(h, (tuple, list)): #LSTM\n",
    "                h = tuple([each.data for each in h])\n",
    "            else: #RNN/GRU\n",
    "                h = h.data\n",
    "\n",
    "            # zero accumulated gradients\n",
    "            net.zero_grad()\n",
    "            \n",
    "            # get the output from the model\n",
    "            output, h = net(inputs, h)\n",
    "            \n",
    "            # calculate the loss and perform backprop\n",
    "            loss = criterion(output.view(batch_size*seq_length, output.shape[-1]), targets.contiguous().view(batch_size*seq_length).long())\n",
    "            loss.backward()\n",
    "            # `clip_grad_norm` helps prevent the exploding gradient problem in RNNs / LSTMs.\n",
    "            nn.utils.clip_grad_norm_(net.parameters(), clip)\n",
    "            opt.step()\n",
    "            \n",
    "            # loss stats\n",
    "            if counter % print_every == 0:\n",
    "#                 # Get validation loss\n",
    "#                 val_h = net.init_hidden(batch_size, train_on_gpu)\n",
    "#                 val_losses = []\n",
    "#                 net.eval()\n",
    "#                 for x, y in get_batches(val_data, batch_size, seq_length):\n",
    "#                     # One-hot encode our data and make them Torch tensors\n",
    "#                     x = one_hot_encode(x, n_chars)\n",
    "#                     x, y = torch.from_numpy(x), torch.from_numpy(y)\n",
    "                    \n",
    "#                     # Creating new variables for the hidden state, otherwise\n",
    "#                     # we'd backprop through the entire training history\n",
    "#                     val_h = tuple([each.data for each in val_h])\n",
    "                    \n",
    "#                     inputs, targets = x, y\n",
    "#                     if(train_on_gpu):\n",
    "#                         inputs, targets = inputs.cuda(), targets.cuda()\n",
    "\n",
    "#                     output, val_h = net(inputs, val_h)\n",
    "#                     val_loss = criterion(output.view(batch_size*seq_length, output.shape[-1]), targets.contiguous().view(batch_size*seq_length).long())\n",
    "                \n",
    "#                     val_losses.append(val_loss.item())\n",
    "                \n",
    "#                 net.train() # reset to train mode after iterationg through validation data\n",
    "                \n",
    "                print(\"Epoch: {}/{}...\".format(e+1, epochs),\n",
    "                      \"Step: {}...\".format(counter),\n",
    "                      \"Loss: {:.4f}...\".format(loss.item()))\n",
    "#                       \"Val Loss: {:.4f}\".format(np.mean(val_losses)))\n",
    "    torch.cuda.empty_cache()"
   ]
  },
  {
   "cell_type": "markdown",
   "metadata": {},
   "source": [
    "## Instantiating the model\n",
    "\n",
    "Now we can actually train the network. First we'll create the network itself, with some given hyperparameters. Then, define the mini-batches sizes, and start training!"
   ]
  },
  {
   "cell_type": "code",
   "execution_count": 16,
   "metadata": {
    "ExecuteTime": {
     "end_time": "2019-02-06T01:27:10.826686Z",
     "start_time": "2019-02-06T01:27:10.809721Z"
    }
   },
   "outputs": [
    {
     "name": "stdout",
     "output_type": "stream",
     "text": [
      "MyCharRNN(\n",
      "  (fc0): Linear(in_features=83, out_features=83, bias=True)\n",
      "  (rnn0): LNPeepholeLSTM(input_size=83, hidden_size=240, batch_first=True, dropout=0.0, dropout_on_output=True, eps=1e-05)\n",
      "  (rnn1): LNPeepholeLSTM(input_size=240, hidden_size=240, batch_first=True, dropout=0.0, dropout_on_output=True, eps=1e-05)\n",
      "  (rnn2): LNPeepholeLSTM(input_size=240, hidden_size=240, batch_first=True, dropout=0.0, dropout_on_output=True, eps=1e-05)\n",
      "  (fc1): Linear(in_features=240, out_features=83, bias=True)\n",
      ")\n"
     ]
    }
   ],
   "source": [
    "## TODO: set you model hyperparameters\n",
    "# define and print the net\n",
    "n_hidden=240\n",
    "n_layers=3\n",
    "\n",
    "# net = CharRNN(chars, n_hidden, n_layers, drop_prob=0.5, lr=0.0001)\n",
    "net = MyCharRNN(chars, n_hidden, n_layers, drop_prob=0., lr=0.001)\n",
    "print(net)"
   ]
  },
  {
   "cell_type": "markdown",
   "metadata": {},
   "source": [
    "### Set your training hyperparameters!"
   ]
  },
  {
   "cell_type": "code",
   "execution_count": 17,
   "metadata": {
    "ExecuteTime": {
     "end_time": "2019-02-06T01:27:21.756011Z",
     "start_time": "2019-02-06T01:27:15.818003Z"
    },
    "scrolled": true
   },
   "outputs": [
    {
     "name": "stdout",
     "output_type": "stream",
     "text": [
      "Epoch: 1/100... Step: 1... Loss: 4.4738...\n"
     ]
    },
    {
     "ename": "RuntimeError",
     "evalue": "CUDA out of memory. Tried to allocate 761.75 MiB (GPU 0; 6.00 GiB total capacity; 3.43 GiB already allocated; 339.26 MiB free; 995.32 MiB cached) (malloc at ..\\aten\\src\\THC\\THCCachingAllocator.cpp:231)\n(no backtrace available)",
     "output_type": "error",
     "traceback": [
      "\u001b[1;31m---------------------------------------------------------------------------\u001b[0m",
      "\u001b[1;31mRuntimeError\u001b[0m                              Traceback (most recent call last)",
      "\u001b[1;32m<ipython-input-17-6d99c10e44e0>\u001b[0m in \u001b[0;36m<module>\u001b[1;34m\u001b[0m\n\u001b[0;32m      4\u001b[0m \u001b[1;33m\u001b[0m\u001b[0m\n\u001b[0;32m      5\u001b[0m \u001b[1;31m# train the model\u001b[0m\u001b[1;33m\u001b[0m\u001b[1;33m\u001b[0m\u001b[1;33m\u001b[0m\u001b[0m\n\u001b[1;32m----> 6\u001b[1;33m \u001b[0mtrain\u001b[0m\u001b[1;33m(\u001b[0m\u001b[0mnet\u001b[0m\u001b[1;33m,\u001b[0m \u001b[0mencoded\u001b[0m\u001b[1;33m,\u001b[0m \u001b[0mepochs\u001b[0m\u001b[1;33m=\u001b[0m\u001b[0mn_epochs\u001b[0m\u001b[1;33m,\u001b[0m \u001b[0mbatch_size\u001b[0m\u001b[1;33m=\u001b[0m\u001b[0mbatch_size\u001b[0m\u001b[1;33m,\u001b[0m \u001b[0mseq_length\u001b[0m\u001b[1;33m=\u001b[0m\u001b[0mseq_length\u001b[0m\u001b[1;33m,\u001b[0m \u001b[0mlr\u001b[0m\u001b[1;33m=\u001b[0m\u001b[1;36m0.001\u001b[0m\u001b[1;33m,\u001b[0m \u001b[0mweight_decay\u001b[0m\u001b[1;33m=\u001b[0m\u001b[1;36m0\u001b[0m\u001b[1;33m,\u001b[0m \u001b[0mclip\u001b[0m\u001b[1;33m=\u001b[0m\u001b[1;36m5\u001b[0m\u001b[1;33m,\u001b[0m \u001b[0mprint_every\u001b[0m\u001b[1;33m=\u001b[0m\u001b[1;36m1\u001b[0m\u001b[1;33m)\u001b[0m\u001b[1;33m\u001b[0m\u001b[1;33m\u001b[0m\u001b[0m\n\u001b[0m",
      "\u001b[1;32m<ipython-input-15-679b4afed4fa>\u001b[0m in \u001b[0;36mtrain\u001b[1;34m(net, data, epochs, batch_size, seq_length, lr, weight_decay, clip, val_frac, print_every)\u001b[0m\n\u001b[0;32m     61\u001b[0m             \u001b[1;31m# calculate the loss and perform backprop\u001b[0m\u001b[1;33m\u001b[0m\u001b[1;33m\u001b[0m\u001b[1;33m\u001b[0m\u001b[0m\n\u001b[0;32m     62\u001b[0m             \u001b[0mloss\u001b[0m \u001b[1;33m=\u001b[0m \u001b[0mcriterion\u001b[0m\u001b[1;33m(\u001b[0m\u001b[0moutput\u001b[0m\u001b[1;33m.\u001b[0m\u001b[0mview\u001b[0m\u001b[1;33m(\u001b[0m\u001b[0mbatch_size\u001b[0m\u001b[1;33m*\u001b[0m\u001b[0mseq_length\u001b[0m\u001b[1;33m,\u001b[0m \u001b[0moutput\u001b[0m\u001b[1;33m.\u001b[0m\u001b[0mshape\u001b[0m\u001b[1;33m[\u001b[0m\u001b[1;33m-\u001b[0m\u001b[1;36m1\u001b[0m\u001b[1;33m]\u001b[0m\u001b[1;33m)\u001b[0m\u001b[1;33m,\u001b[0m \u001b[0mtargets\u001b[0m\u001b[1;33m.\u001b[0m\u001b[0mcontiguous\u001b[0m\u001b[1;33m(\u001b[0m\u001b[1;33m)\u001b[0m\u001b[1;33m.\u001b[0m\u001b[0mview\u001b[0m\u001b[1;33m(\u001b[0m\u001b[0mbatch_size\u001b[0m\u001b[1;33m*\u001b[0m\u001b[0mseq_length\u001b[0m\u001b[1;33m)\u001b[0m\u001b[1;33m.\u001b[0m\u001b[0mlong\u001b[0m\u001b[1;33m(\u001b[0m\u001b[1;33m)\u001b[0m\u001b[1;33m)\u001b[0m\u001b[1;33m\u001b[0m\u001b[1;33m\u001b[0m\u001b[0m\n\u001b[1;32m---> 63\u001b[1;33m             \u001b[0mloss\u001b[0m\u001b[1;33m.\u001b[0m\u001b[0mbackward\u001b[0m\u001b[1;33m(\u001b[0m\u001b[1;33m)\u001b[0m\u001b[1;33m\u001b[0m\u001b[1;33m\u001b[0m\u001b[0m\n\u001b[0m\u001b[0;32m     64\u001b[0m             \u001b[1;31m# `clip_grad_norm` helps prevent the exploding gradient problem in RNNs / LSTMs.\u001b[0m\u001b[1;33m\u001b[0m\u001b[1;33m\u001b[0m\u001b[1;33m\u001b[0m\u001b[0m\n\u001b[0;32m     65\u001b[0m             \u001b[0mnn\u001b[0m\u001b[1;33m.\u001b[0m\u001b[0mutils\u001b[0m\u001b[1;33m.\u001b[0m\u001b[0mclip_grad_norm_\u001b[0m\u001b[1;33m(\u001b[0m\u001b[0mnet\u001b[0m\u001b[1;33m.\u001b[0m\u001b[0mparameters\u001b[0m\u001b[1;33m(\u001b[0m\u001b[1;33m)\u001b[0m\u001b[1;33m,\u001b[0m \u001b[0mclip\u001b[0m\u001b[1;33m)\u001b[0m\u001b[1;33m\u001b[0m\u001b[1;33m\u001b[0m\u001b[0m\n",
      "\u001b[1;32m~\\Anaconda3\\envs\\pytorch1.0\\lib\\site-packages\\torch\\tensor.py\u001b[0m in \u001b[0;36mbackward\u001b[1;34m(self, gradient, retain_graph, create_graph)\u001b[0m\n\u001b[0;32m    100\u001b[0m                 \u001b[0mproducts\u001b[0m\u001b[1;33m.\u001b[0m \u001b[0mDefaults\u001b[0m \u001b[0mto\u001b[0m\u001b[0;31m \u001b[0m\u001b[0;31m`\u001b[0m\u001b[0;31m`\u001b[0m\u001b[1;32mFalse\u001b[0m\u001b[0;31m`\u001b[0m\u001b[0;31m`\u001b[0m\u001b[1;33m.\u001b[0m\u001b[1;33m\u001b[0m\u001b[1;33m\u001b[0m\u001b[0m\n\u001b[0;32m    101\u001b[0m         \"\"\"\n\u001b[1;32m--> 102\u001b[1;33m         \u001b[0mtorch\u001b[0m\u001b[1;33m.\u001b[0m\u001b[0mautograd\u001b[0m\u001b[1;33m.\u001b[0m\u001b[0mbackward\u001b[0m\u001b[1;33m(\u001b[0m\u001b[0mself\u001b[0m\u001b[1;33m,\u001b[0m \u001b[0mgradient\u001b[0m\u001b[1;33m,\u001b[0m \u001b[0mretain_graph\u001b[0m\u001b[1;33m,\u001b[0m \u001b[0mcreate_graph\u001b[0m\u001b[1;33m)\u001b[0m\u001b[1;33m\u001b[0m\u001b[1;33m\u001b[0m\u001b[0m\n\u001b[0m\u001b[0;32m    103\u001b[0m \u001b[1;33m\u001b[0m\u001b[0m\n\u001b[0;32m    104\u001b[0m     \u001b[1;32mdef\u001b[0m \u001b[0mregister_hook\u001b[0m\u001b[1;33m(\u001b[0m\u001b[0mself\u001b[0m\u001b[1;33m,\u001b[0m \u001b[0mhook\u001b[0m\u001b[1;33m)\u001b[0m\u001b[1;33m:\u001b[0m\u001b[1;33m\u001b[0m\u001b[1;33m\u001b[0m\u001b[0m\n",
      "\u001b[1;32m~\\Anaconda3\\envs\\pytorch1.0\\lib\\site-packages\\torch\\autograd\\__init__.py\u001b[0m in \u001b[0;36mbackward\u001b[1;34m(tensors, grad_tensors, retain_graph, create_graph, grad_variables)\u001b[0m\n\u001b[0;32m     88\u001b[0m     Variable._execution_engine.run_backward(\n\u001b[0;32m     89\u001b[0m         \u001b[0mtensors\u001b[0m\u001b[1;33m,\u001b[0m \u001b[0mgrad_tensors\u001b[0m\u001b[1;33m,\u001b[0m \u001b[0mretain_graph\u001b[0m\u001b[1;33m,\u001b[0m \u001b[0mcreate_graph\u001b[0m\u001b[1;33m,\u001b[0m\u001b[1;33m\u001b[0m\u001b[1;33m\u001b[0m\u001b[0m\n\u001b[1;32m---> 90\u001b[1;33m         allow_unreachable=True)  # allow_unreachable flag\n\u001b[0m\u001b[0;32m     91\u001b[0m \u001b[1;33m\u001b[0m\u001b[0m\n\u001b[0;32m     92\u001b[0m \u001b[1;33m\u001b[0m\u001b[0m\n",
      "\u001b[1;32m~\\Anaconda3\\envs\\pytorch1.0\\lib\\site-packages\\torch\\autograd\\function.py\u001b[0m in \u001b[0;36mapply\u001b[1;34m(self, *args)\u001b[0m\n\u001b[0;32m     74\u001b[0m \u001b[1;33m\u001b[0m\u001b[0m\n\u001b[0;32m     75\u001b[0m     \u001b[1;32mdef\u001b[0m \u001b[0mapply\u001b[0m\u001b[1;33m(\u001b[0m\u001b[0mself\u001b[0m\u001b[1;33m,\u001b[0m \u001b[1;33m*\u001b[0m\u001b[0margs\u001b[0m\u001b[1;33m)\u001b[0m\u001b[1;33m:\u001b[0m\u001b[1;33m\u001b[0m\u001b[1;33m\u001b[0m\u001b[0m\n\u001b[1;32m---> 76\u001b[1;33m         \u001b[1;32mreturn\u001b[0m \u001b[0mself\u001b[0m\u001b[1;33m.\u001b[0m\u001b[0m_forward_cls\u001b[0m\u001b[1;33m.\u001b[0m\u001b[0mbackward\u001b[0m\u001b[1;33m(\u001b[0m\u001b[0mself\u001b[0m\u001b[1;33m,\u001b[0m \u001b[1;33m*\u001b[0m\u001b[0margs\u001b[0m\u001b[1;33m)\u001b[0m\u001b[1;33m\u001b[0m\u001b[1;33m\u001b[0m\u001b[0m\n\u001b[0m\u001b[0;32m     77\u001b[0m \u001b[1;33m\u001b[0m\u001b[0m\n\u001b[0;32m     78\u001b[0m \u001b[1;33m\u001b[0m\u001b[0m\n",
      "\u001b[1;32mD:\\GitHub\\deep-learning-v2-pytorch\\recurrent-neural-networks\\char-rnn\\ln_lstm_layer\\ln_lstm_layer.py\u001b[0m in \u001b[0;36mbackward\u001b[1;34m(ctx, grad_output, grad_h, grad_cell)\u001b[0m\n\u001b[0;32m     35\u001b[0m     \u001b[1;32mdef\u001b[0m \u001b[0mbackward\u001b[0m\u001b[1;33m(\u001b[0m\u001b[0mctx\u001b[0m\u001b[1;33m,\u001b[0m \u001b[0mgrad_output\u001b[0m\u001b[1;33m,\u001b[0m \u001b[0mgrad_h\u001b[0m\u001b[1;33m,\u001b[0m \u001b[0mgrad_cell\u001b[0m\u001b[1;33m)\u001b[0m\u001b[1;33m:\u001b[0m\u001b[1;33m\u001b[0m\u001b[1;33m\u001b[0m\u001b[0m\n\u001b[0;32m     36\u001b[0m         outputs = _ln_peephole_lstm_layer.backward(\n\u001b[1;32m---> 37\u001b[1;33m             grad_output.contiguous(), grad_h.contiguous(), grad_cell.contiguous(), *ctx.saved_tensors)\n\u001b[0m\u001b[0;32m     38\u001b[0m \u001b[1;33m\u001b[0m\u001b[0m\n\u001b[0;32m     39\u001b[0m         (d_input, d_weight_ih, d_weight_hh, d_weight_ch, d_bias,\n",
      "\u001b[1;31mRuntimeError\u001b[0m: CUDA out of memory. Tried to allocate 761.75 MiB (GPU 0; 6.00 GiB total capacity; 3.43 GiB already allocated; 339.26 MiB free; 995.32 MiB cached) (malloc at ..\\aten\\src\\THC\\THCCachingAllocator.cpp:231)\n(no backtrace available)"
     ]
    }
   ],
   "source": [
    "batch_size = 96\n",
    "seq_length = 500\n",
    "n_epochs = 100 # start small if you are just testing initial behavior\n",
    "\n",
    "# train the model\n",
    "train(net, encoded, epochs=n_epochs, batch_size=batch_size, seq_length=seq_length, lr=0.001, weight_decay=0, clip=5, print_every=1)"
   ]
  },
  {
   "cell_type": "code",
   "execution_count": 41,
   "metadata": {
    "ExecuteTime": {
     "end_time": "2019-02-02T07:46:36.908578Z",
     "start_time": "2019-02-02T07:46:33.904504Z"
    }
   },
   "outputs": [],
   "source": [
    "sleep(3)\n",
    "torch.cuda.empty_cache()"
   ]
  },
  {
   "cell_type": "markdown",
   "metadata": {},
   "source": [
    "## Getting the best model\n",
    "\n",
    "To set your hyperparameters to get the best performance, you'll want to watch the training and validation losses. If your training loss is much lower than the validation loss, you're overfitting. Increase regularization (more dropout) or use a smaller network. If the training and validation losses are close, you're underfitting so you can increase the size of the network."
   ]
  },
  {
   "cell_type": "markdown",
   "metadata": {},
   "source": [
    "## Hyperparameters\n",
    "\n",
    "Here are the hyperparameters for the network.\n",
    "\n",
    "In defining the model:\n",
    "* `n_hidden` - The number of units in the hidden layers.\n",
    "* `n_layers` - Number of hidden LSTM layers to use.\n",
    "\n",
    "We assume that dropout probability and learning rate will be kept at the default, in this example.\n",
    "\n",
    "And in training:\n",
    "* `batch_size` - Number of sequences running through the network in one pass.\n",
    "* `seq_length` - Number of characters in the sequence the network is trained on. Larger is better typically, the network will learn more long range dependencies. But it takes longer to train. 100 is typically a good number here.\n",
    "* `lr` - Learning rate for training\n",
    "\n",
    "Here's some good advice from Andrej Karpathy on training the network. I'm going to copy it in here for your benefit, but also link to [where it originally came from](https://github.com/karpathy/char-rnn#tips-and-tricks).\n",
    "\n",
    "> ## Tips and Tricks\n",
    "\n",
    ">### Monitoring Validation Loss vs. Training Loss\n",
    ">If you're somewhat new to Machine Learning or Neural Networks it can take a bit of expertise to get good models. The most important quantity to keep track of is the difference between your training loss (printed during training) and the validation loss (printed once in a while when the RNN is run on the validation data (by default every 1000 iterations)). In particular:\n",
    "\n",
    "> - If your training loss is much lower than validation loss then this means the network might be **overfitting**. Solutions to this are to decrease your network size, or to increase dropout. For example you could try dropout of 0.5 and so on.\n",
    "> - If your training/validation loss are about equal then your model is **underfitting**. Increase the size of your model (either number of layers or the raw number of neurons per layer)\n",
    "\n",
    "> ### Approximate number of parameters\n",
    "\n",
    "> The two most important parameters that control the model are `n_hidden` and `n_layers`. I would advise that you always use `n_layers` of either 2/3. The `n_hidden` can be adjusted based on how much data you have. The two important quantities to keep track of here are:\n",
    "\n",
    "> - The number of parameters in your model. This is printed when you start training.\n",
    "> - The size of your dataset. 1MB file is approximately 1 million characters.\n",
    "\n",
    ">These two should be about the same order of magnitude. It's a little tricky to tell. Here are some examples:\n",
    "\n",
    "> - I have a 100MB dataset and I'm using the default parameter settings (which currently print 150K parameters). My data size is significantly larger (100 mil >> 0.15 mil), so I expect to heavily underfit. I am thinking I can comfortably afford to make `n_hidden` larger.\n",
    "> - I have a 10MB dataset and running a 10 million parameter model. I'm slightly nervous and I'm carefully monitoring my validation loss. If it's larger than my training loss then I may want to try to increase dropout a bit and see if that helps the validation loss.\n",
    "\n",
    "> ### Best models strategy\n",
    "\n",
    ">The winning strategy to obtaining very good models (if you have the compute time) is to always err on making the network larger (as large as you're willing to wait for it to compute) and then try different dropout values (between 0,1). Whatever model has the best validation performance (the loss, written in the checkpoint filename, low is good) is the one you should use in the end.\n",
    "\n",
    ">It is very common in deep learning to run many different models with many different hyperparameter settings, and in the end take whatever checkpoint gave the best validation performance.\n",
    "\n",
    ">By the way, the size of your training and validation splits are also parameters. Make sure you have a decent amount of data in your validation set or otherwise the validation performance will be noisy and not very informative."
   ]
  },
  {
   "cell_type": "markdown",
   "metadata": {},
   "source": [
    "## Checkpoint\n",
    "\n",
    "After training, we'll save the model so we can load it again later if we need too. Here I'm saving the parameters needed to create the same architecture, the hidden layer hyperparameters and the text characters."
   ]
  },
  {
   "cell_type": "code",
   "execution_count": 39,
   "metadata": {},
   "outputs": [],
   "source": [
    "# change the name, for saving multiple files\n",
    "model_name = 'BNPhLSTM.net'\n",
    "\n",
    "checkpoint = {'n_hidden': net.n_hidden,\n",
    "              'n_layers': net.n_layers,\n",
    "              'state_dict': net.state_dict(),\n",
    "              'tokens': net.chars}\n",
    "\n",
    "with open(model_name, 'wb') as f:\n",
    "    torch.save(checkpoint, f)"
   ]
  },
  {
   "cell_type": "markdown",
   "metadata": {},
   "source": [
    "---\n",
    "## Making Predictions\n",
    "\n",
    "Now that the model is trained, we'll want to sample from it and make predictions about next characters! To sample, we pass in a character and have the network predict the next character. Then we take that character, pass it back in, and get another predicted character. Just keep doing this and you'll generate a bunch of text!\n",
    "\n",
    "### A note on the `predict`  function\n",
    "\n",
    "The output of our RNN is from a fully-connected layer and it outputs a **distribution of next-character scores**.\n",
    "\n",
    "> To actually get the next character, we apply a softmax function, which gives us a *probability* distribution that we can then sample to predict the next character.\n",
    "\n",
    "### Top K sampling\n",
    "\n",
    "Our predictions come from a categorical probability distribution over all the possible characters. We can make the sample text and make it more reasonable to handle (with less variables) by only considering some $K$ most probable characters. This will prevent the network from giving us completely absurd characters while allowing it to introduce some noise and randomness into the sampled text. Read more about [topk, here](https://pytorch.org/docs/stable/torch.html#torch.topk).\n"
   ]
  },
  {
   "cell_type": "code",
   "execution_count": 20,
   "metadata": {
    "ExecuteTime": {
     "end_time": "2019-02-02T23:22:20.795173Z",
     "start_time": "2019-02-02T23:22:20.786141Z"
    }
   },
   "outputs": [],
   "source": [
    "def predict(net, char, h=None, top_k=None):\n",
    "        ''' Given a character, predict the next character.\n",
    "            Returns the predicted character and the hidden state.\n",
    "        '''\n",
    "        \n",
    "        # tensor inputs\n",
    "        x = np.array([[net.char2int[char]]])\n",
    "        x = one_hot_encode(x, len(net.chars))\n",
    "        inputs = torch.from_numpy(x)\n",
    "        \n",
    "        if(train_on_gpu):\n",
    "            inputs = inputs.cuda()\n",
    "        \n",
    "        # detach hidden state from history\n",
    "        if isinstance(h, (list, tuple)):\n",
    "            h = tuple([each.data for each in h])\n",
    "        else:\n",
    "            h = h.data\n",
    "        # get the output of the model\n",
    "        out, h = net(inputs, h)\n",
    "\n",
    "        # get the character probabilities\n",
    "        p = F.softmax(out.view(-1, out.shape[-1]), dim=1).data\n",
    "        if(train_on_gpu):\n",
    "            p = p.cpu() # move to cpu\n",
    "        \n",
    "        # get top characters\n",
    "        if top_k is None:\n",
    "            top_ch = np.arange(len(net.chars))\n",
    "        else:\n",
    "            p, top_ch = p.topk(top_k)\n",
    "            top_ch = top_ch.numpy().squeeze()\n",
    "        \n",
    "        # select the likely next character with some element of randomness\n",
    "        p = p.numpy().squeeze()\n",
    "        char = np.random.choice(top_ch, p=p/p.sum())\n",
    "        \n",
    "        # return the encoded value of the predicted char and the hidden state\n",
    "        return net.int2char[char], h"
   ]
  },
  {
   "cell_type": "markdown",
   "metadata": {},
   "source": [
    "### Priming and generating text \n",
    "\n",
    "Typically you'll want to prime the network so you can build up a hidden state. Otherwise the network will start out generating characters at random. In general the first bunch of characters will be a little rough since it hasn't built up a long history of characters to predict from."
   ]
  },
  {
   "cell_type": "code",
   "execution_count": 21,
   "metadata": {
    "ExecuteTime": {
     "end_time": "2019-02-02T23:22:21.687829Z",
     "start_time": "2019-02-02T23:22:21.682074Z"
    }
   },
   "outputs": [],
   "source": [
    "def sample(net, size, prime='The', top_k=None):\n",
    "        \n",
    "    if(train_on_gpu):\n",
    "        net.cuda()\n",
    "    else:\n",
    "        net.cpu()\n",
    "    \n",
    "    net.eval() # eval mode\n",
    "    \n",
    "    # First off, run through the prime characters\n",
    "    chars = [ch for ch in prime]\n",
    "    h = net.init_hidden(1)\n",
    "    for ch in prime:\n",
    "        char, h = predict(net, ch, h, top_k=top_k)\n",
    "\n",
    "    chars.append(char)\n",
    "    \n",
    "    # Now pass in the previous character and get a new one\n",
    "    for ii in range(size):\n",
    "        char, h = predict(net, chars[-1], h, top_k=top_k)\n",
    "        chars.append(char)\n",
    "\n",
    "    return ''.join(chars)"
   ]
  },
  {
   "cell_type": "code",
   "execution_count": 22,
   "metadata": {
    "ExecuteTime": {
     "end_time": "2019-02-02T23:22:36.935908Z",
     "start_time": "2019-02-02T23:22:22.345091Z"
    }
   },
   "outputs": [
    {
     "name": "stdout",
     "output_type": "stream",
     "text": [
      "Anna she made haste\n",
      "to ask the sake of the land, and was a fool one has to do\n",
      "this house. Anna was not the fight to herself--\"and so it always is a fallen world with his\n",
      "own illness, or directly, that you were the\n",
      "snipe-telming--at the willopy passion that had been\n",
      "already busy with the little correct for the\n",
      "previous step it called to the crumble. It was a matter of\n",
      "district more for him anything; but he\n",
      "could not have a thing what was worse in such a fool,\n",
      "and so stumfing over her fashion. At leapin in the\n",
      "corner which she had fancied she was staying at the one's\n",
      "words that her mother andwought has been done in the struggle.\n",
      "They went up. \"How does I met your husband with you to ask you to say, and then you have a nambardrance,\"\n",
      "he said with a silking subordinate, at his embroad,\n",
      "said again with she shaking about something, alleady she stopped her husband. \"It cannot be\n",
      "often doubts. The wartzon sends to their name that\n",
      "we would be in the wide as too that a certain songender\n",
      "world. And I have to go\n",
      "to Anna Arkadyevna,\" whispinned to talk to him.\n",
      "\n",
      "\"Oh, what did you say worse that wavored? You are\n",
      "all strong at the compartment. Take if at all this has to be managing anything of the last\n",
      "time. The confession in the pasterns circles, or you do not tell\n",
      "me to her, and I have driven away, and tea write to you.\n",
      "Then?\" said Kitty, that she felt that it was not a post of the\n",
      "waltz; but it was impossible; and thesefore, with the money's exquisite\n",
      "detection. The money had money, and was all the same as they had sent a\n",
      "day, wanting to her husband, and what were his fingers.\n",
      "\n",
      "The marshal of the proves the princess and Varenka destrued him a feeling of remarks to\n",
      "her for electrictings, the little fingers were settled in her artuments, and then\n",
      "she saw that he was already been an antilly and men. Beside her,\n",
      "too, that it\n",
      "would be\n",
      "met to take another, expense. The old landowner had gone out, taking lying\n",
      "and stubborn. \"Whether we've takes me,\" she\n",
      "was smiling.\n",
      "\n",
      "\"Here's one of the child\n"
     ]
    }
   ],
   "source": [
    "print(sample(net, 2000, prime='Anna ', top_k=5))"
   ]
  },
  {
   "cell_type": "markdown",
   "metadata": {},
   "source": [
    "## Loading a checkpoint"
   ]
  },
  {
   "cell_type": "code",
   "execution_count": null,
   "metadata": {
    "collapsed": true
   },
   "outputs": [],
   "source": [
    "# Here we have loaded in a model that trained over 20 epochs `rnn_20_epoch.net`\n",
    "with open('rnn_x_epoch.net', 'rb') as f:\n",
    "    checkpoint = torch.load(f)\n",
    "    \n",
    "loaded = CharRNN(checkpoint['tokens'], n_hidden=checkpoint['n_hidden'], n_layers=checkpoint['n_layers'])\n",
    "loaded.load_state_dict(checkpoint['state_dict'])"
   ]
  },
  {
   "cell_type": "code",
   "execution_count": null,
   "metadata": {
    "collapsed": true
   },
   "outputs": [],
   "source": [
    "# Sample using a loaded model\n",
    "print(sample(loaded, 2000, top_k=5, prime=\"And Levin said\"))"
   ]
  },
  {
   "cell_type": "code",
   "execution_count": null,
   "metadata": {
    "collapsed": true
   },
   "outputs": [],
   "source": []
  }
 ],
 "metadata": {
  "kernelspec": {
   "display_name": "Python 3",
   "language": "python",
   "name": "python3"
  },
  "language_info": {
   "codemirror_mode": {
    "name": "ipython",
    "version": 3
   },
   "file_extension": ".py",
   "mimetype": "text/x-python",
   "name": "python",
   "nbconvert_exporter": "python",
   "pygments_lexer": "ipython3",
   "version": "3.6.7"
  },
  "notify_time": "5",
  "toc": {
   "base_numbering": 1,
   "nav_menu": {},
   "number_sections": true,
   "sideBar": true,
   "skip_h1_title": false,
   "title_cell": "Table of Contents",
   "title_sidebar": "Contents",
   "toc_cell": false,
   "toc_position": {},
   "toc_section_display": true,
   "toc_window_display": false
  },
  "varInspector": {
   "cols": {
    "lenName": 16,
    "lenType": 16,
    "lenVar": 40
   },
   "kernels_config": {
    "python": {
     "delete_cmd_postfix": "",
     "delete_cmd_prefix": "del ",
     "library": "var_list.py",
     "varRefreshCmd": "print(var_dic_list())"
    },
    "r": {
     "delete_cmd_postfix": ") ",
     "delete_cmd_prefix": "rm(",
     "library": "var_list.r",
     "varRefreshCmd": "cat(var_dic_list()) "
    }
   },
   "types_to_exclude": [
    "module",
    "function",
    "builtin_function_or_method",
    "instance",
    "_Feature"
   ],
   "window_display": false
  }
 },
 "nbformat": 4,
 "nbformat_minor": 2
}
