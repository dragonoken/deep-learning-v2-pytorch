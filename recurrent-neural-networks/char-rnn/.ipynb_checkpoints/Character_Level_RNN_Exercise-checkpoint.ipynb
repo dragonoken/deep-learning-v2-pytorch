{
 "cells": [
  {
   "cell_type": "markdown",
   "metadata": {},
   "source": [
    "# Character-Level LSTM in PyTorch\n",
    "\n",
    "In this notebook, I'll construct a character-level LSTM with PyTorch. The network will train character by character on some text, then generate new text character by character. As an example, I will train on Anna Karenina. **This model will be able to generate new text based on the text from the book!**\n",
    "\n",
    "This network is based off of Andrej Karpathy's [post on RNNs](http://karpathy.github.io/2015/05/21/rnn-effectiveness/) and [implementation in Torch](https://github.com/karpathy/char-rnn). Below is the general architecture of the character-wise RNN.\n",
    "\n",
    "<img src=\"assets/charseq.jpeg\" width=\"500\">"
   ]
  },
  {
   "cell_type": "markdown",
   "metadata": {},
   "source": [
    "First let's load in our required resources for data loading and model creation."
   ]
  },
  {
   "cell_type": "code",
   "execution_count": 1,
   "metadata": {},
   "outputs": [],
   "source": [
    "import numpy as np\n",
    "import torch\n",
    "from torch import nn\n",
    "from torch.utils.cpp_extension import load\n",
    "import torch.nn.functional as F\n",
    "from collections import OrderedDict\n",
    "from time import sleep"
   ]
  },
  {
   "cell_type": "code",
   "execution_count": 2,
   "metadata": {
    "scrolled": true
   },
   "outputs": [
    {
     "name": "stderr",
     "output_type": "stream",
     "text": [
      "c:\\users\\0107w\\anaconda3\\envs\\pytorch\\lib\\site-packages\\torch\\utils\\cpp_extension.py:92: UserWarning: Error checking compiler version: Command '['c++']' returned non-zero exit status 1.\n",
      "  warnings.warn('Error checking compiler version: {}'.format(error))\n",
      "c:\\users\\0107w\\anaconda3\\envs\\pytorch\\lib\\site-packages\\torch\\utils\\cpp_extension.py:118: UserWarning: \n",
      "\n",
      "                               !! WARNING !!\n",
      "\n",
      "!!!!!!!!!!!!!!!!!!!!!!!!!!!!!!!!!!!!!!!!!!!!!!!!!!!!!!!!!!!!!!!!!!!!!!!!!!!!!!!\n",
      "Your compiler (c++) may be ABI-incompatible with PyTorch!\n",
      "Please use a compiler that is ABI-compatible with GCC 4.9 and above.\n",
      "See https://gcc.gnu.org/onlinedocs/libstdc++/manual/abi.html.\n",
      "\n",
      "See https://gist.github.com/goldsborough/d466f43e8ffc948ff92de7486c5216d6\n",
      "for instructions on how to install GCC 4.9 or higher.\n",
      "!!!!!!!!!!!!!!!!!!!!!!!!!!!!!!!!!!!!!!!!!!!!!!!!!!!!!!!!!!!!!!!!!!!!!!!!!!!!!!!\n",
      "\n",
      "                              !! WARNING !!\n",
      "\n",
      "  warnings.warn(ABI_INCOMPATIBILITY_WARNING.format(compiler))\n"
     ]
    }
   ],
   "source": [
    "import peephole_lstm_classes"
   ]
  },
  {
   "cell_type": "code",
   "execution_count": 3,
   "metadata": {},
   "outputs": [
    {
     "name": "stdout",
     "output_type": "stream",
     "text": [
      "PeepholeNetworkCPP(\n",
      "  (lstm0): PeepholeLSTMCell(input_size=129, hidden_size=300)\n",
      "  (lstm1): PeepholeLSTMCell(input_size=300, hidden_size=300)\n",
      "  (lstm2): PeepholeLSTMCell(input_size=300, hidden_size=300)\n",
      "  (fc): Linear(in_features=300, out_features=129, bias=True)\n",
      ")\n",
      "PeepholeNetworkTorch(\n",
      "  (lstm0): PeepholeLSTMCellTorch(input_size=129, hidden_size=300)\n",
      "  (lstm1): PeepholeLSTMCellTorch(input_size=300, hidden_size=300)\n",
      "  (lstm2): PeepholeLSTMCellTorch(input_size=300, hidden_size=300)\n",
      "  (fc): Linear(in_features=300, out_features=129, bias=True)\n",
      ")\n",
      "PeepholeLoopTorch(\n",
      "  (lstm0): PeepholeLSTMTorch(input_size=129, hidden_size=300, dropout=0)\n",
      "  (lstm1): PeepholeLSTMTorch(input_size=300, hidden_size=300, dropout=0)\n",
      "  (lstm2): PeepholeLSTMTorch(input_size=300, hidden_size=300, dropout=0)\n",
      "  (fc): Linear(in_features=300, out_features=129, bias=True)\n",
      ")\n",
      "PeepholeLoop(\n",
      "  (lstm0): PeepholeLSTM(input_size=129, hidden_size=300, dropout=0.0)\n",
      "  (lstm1): PeepholeLSTM(input_size=300, hidden_size=300, dropout=0.0)\n",
      "  (lstm2): PeepholeLSTM(input_size=300, hidden_size=300, dropout=0.0)\n",
      "  (fc): Linear(in_features=300, out_features=129, bias=True)\n",
      ")\n",
      "PeepholeNormTorch(\n",
      "  (lstm0): PeepholeNormLSTMTorch(input_size=129, hidden_size=300, dropout=0.0, momentum=0.1, eps=1e-08)\n",
      "  (lstm1): PeepholeNormLSTMTorch(input_size=300, hidden_size=300, dropout=0.0, momentum=0.1, eps=1e-08)\n",
      "  (lstm2): PeepholeNormLSTMTorch(input_size=300, hidden_size=300, dropout=0.0, momentum=0.1, eps=1e-08)\n",
      "  (fc): Linear(in_features=300, out_features=129, bias=True)\n",
      ")\n"
     ]
    }
   ],
   "source": [
    "dropout = 0.\n",
    "class PeepholeNetworkCPP(nn.Module):\n",
    "    def __init__(self):\n",
    "        super().__init__()\n",
    "        self.lstm0 = peephole_lstm_classes.PeepholeLSTMCell(129, 300)\n",
    "        self.lstm1 = peephole_lstm_classes.PeepholeLSTMCell(300, 300)\n",
    "        self.lstm2 = peephole_lstm_classes.PeepholeLSTMCell(300, 300)\n",
    "        self.fc = nn.Linear(300, 129)\n",
    "    def forward(self, x, states):\n",
    "        output = x.new_empty(x.size(0), x.size(1), 129)\n",
    "        hc1, hc2, hc3 = ((states[0][i], states[1][i]) for i in range(states[0].size(0)))\n",
    "        for i, seq_batch in enumerate(x.transpose(0, 1)):\n",
    "            hc1 = self.lstm0(seq_batch, hc1)\n",
    "            #states = self.lstm0(seq_batch, states)\n",
    "            hc2 = self.lstm1(F.dropout(hc1[0], p=0, training=self.training), hc2)\n",
    "            hc3 = self.lstm2(F.dropout(hc2[0], p=0, training=self.training), hc3)\n",
    "            output[:, i, :] = self.fc(F.dropout(hc3[0], p=0, training=self.training))\n",
    "            #output[:, i, :] = self.fc(F.dropout(states[0], p=0, training=self.training))\n",
    "        new_states = (torch.cat((hc1[0], hc2[0], hc3[0])), torch.cat((hc1[1], hc2[1], hc3[1])))\n",
    "        return output, new_states\n",
    "        #return output, states\n",
    "class PeepholeNetworkTorch(nn.Module):\n",
    "    def __init__(self):\n",
    "        super().__init__()\n",
    "        self.lstm0 = peephole_lstm_classes.PeepholeLSTMCellTorch(129, 300)\n",
    "        self.lstm1 = peephole_lstm_classes.PeepholeLSTMCellTorch(300, 300)\n",
    "        self.lstm2 = peephole_lstm_classes.PeepholeLSTMCellTorch(300, 300)\n",
    "        self.fc = nn.Linear(300, 129)\n",
    "    def forward(self, x, states):\n",
    "        output = x.new_empty(x.size(0), x.size(1), 129)\n",
    "        hc1, hc2, hc3 = ((states[0][i], states[1][i]) for i in range(states[0].size(0)))\n",
    "        for i, seq_batch in enumerate(x.transpose(0, 1)):\n",
    "            hc1 = self.lstm0(seq_batch, hc1)\n",
    "            #states = self.lstm0(seq_batch, states)\n",
    "            hc2 = self.lstm1(F.dropout(hc1[0], p=0, training=self.training), hc2)\n",
    "            hc3 = self.lstm2(F.dropout(hc2[0], p=0, training=self.training), hc3)\n",
    "            output[:, i, :] = self.fc(F.dropout(hc3[0], p=0, training=self.training))\n",
    "            #output[:, i, :] = self.fc(F.dropout(states[0], p=0, training=self.training))\n",
    "        new_states = (torch.cat((hc1[0], hc2[0], hc3[0])), torch.cat((hc1[1], hc2[1], hc3[1])))\n",
    "        return output, new_states\n",
    "        #return output, states\n",
    "class PeepholeLoopTorch(nn.Module):\n",
    "    def __init__(self):\n",
    "        super().__init__()\n",
    "        self.lstm0 = peephole_lstm_classes.PeepholeLSTMTorch(129, 300, 0)\n",
    "        self.lstm1 = peephole_lstm_classes.PeepholeLSTMTorch(300, 300, 0)\n",
    "        self.lstm2 = peephole_lstm_classes.PeepholeLSTMTorch(300, 300, 0)\n",
    "        self.fc = nn.Linear(300, 129)\n",
    "    def forward(self, x, states):\n",
    "        hc1, hc2, hc3 = ((states[0][i], states[1][i]) for i in range(states[0].size(0)))\n",
    "        x, hc1 = self.lstm0(x, hc1)\n",
    "        x, hc2 = self.lstm1(x, hc2)\n",
    "        x, hc3 = self.lstm2(x, hc3)\n",
    "        x = self.fc(x)\n",
    "        new_states = (torch.cat((hc1[0], hc2[0], hc3[0])), torch.cat((hc1[1], hc2[1], hc3[1])))\n",
    "        return x, new_states\n",
    "class PeepholeLoop(nn.Module):\n",
    "    def __init__(self):\n",
    "        super().__init__()\n",
    "        self.lstm0 = peephole_lstm_classes.PeepholeLSTM(129, 300, 0)\n",
    "        self.lstm1 = peephole_lstm_classes.PeepholeLSTM(300, 300, 0)\n",
    "        self.lstm2 = peephole_lstm_classes.PeepholeLSTM(300, 300, 0)\n",
    "        self.fc = nn.Linear(300, 129)\n",
    "    def forward(self, x, states):\n",
    "        hc1, hc2, hc3 = ((states[0][i], states[1][i]) for i in range(states[0].size(0)))\n",
    "        x, hc1 = self.lstm0(x, hc1)\n",
    "        #x, states = self.lstm0(x, states)\n",
    "        x, hc2 = self.lstm1(x, hc2)\n",
    "        x, hc3 = self.lstm2(x, hc3)\n",
    "        x = self.fc(x)\n",
    "        new_states = (torch.cat((hc1[0], hc2[0], hc3[0])), torch.cat((hc1[1], hc2[1], hc3[1])))\n",
    "        return x, new_states\n",
    "        #return x, states\n",
    "class PeepholeNormTorch(nn.Module):\n",
    "    def __init__(self):\n",
    "        super().__init__()\n",
    "        self.lstm0 = peephole_lstm_classes.PeepholeNormLSTMTorch(129, 300, 0)\n",
    "        self.lstm1 = peephole_lstm_classes.PeepholeNormLSTMTorch(300, 300, 0)\n",
    "        self.lstm2 = peephole_lstm_classes.PeepholeNormLSTMTorch(300, 300, 0)\n",
    "        self.fc = nn.Linear(300, 129)\n",
    "    def forward(self, x, states):\n",
    "        hc1, hc2, hc3 = ((states[0][i], states[1][i]) for i in range(states[0].size(0)))\n",
    "        x, hc1 = self.lstm0(x, hc1)\n",
    "        x, hc2 = self.lstm1(x, hc2)\n",
    "        x, hc3 = self.lstm2(x, hc3)\n",
    "        x = self.fc(x)\n",
    "        new_states = (torch.cat((hc1[0], hc2[0], hc3[0])), torch.cat((hc1[1], hc2[1], hc3[1])))\n",
    "        return x, new_states\n",
    "\n",
    "\n",
    "device = ['cpu', 'cuda:0'][1]\n",
    "\n",
    "# model_cpp = peephole_lstm_cell_classes.PeepholeLSTMCell(129, 300)\n",
    "# model_torch = peephole_lstm_cell_classes.PeepholeLSTMCellTorch(129, 300)\n",
    "model_cpp = PeepholeNetworkCPP()\n",
    "model_torch = PeepholeNetworkTorch()\n",
    "model_torch_loop = PeepholeLoopTorch()\n",
    "model_loop = PeepholeLoop()\n",
    "\n",
    "model_norm_torch = PeepholeNormTorch()\n",
    "\n",
    "for module_name in ('lstm0', 'lstm1', 'lstm2', 'fc'):\n",
    "#for module_name in ('lstm0', 'fc'):\n",
    "    copyfrom = getattr(model_cpp, module_name)\n",
    "    if module_name != 'fc':\n",
    "        mod = getattr(model_torch, module_name)\n",
    "        mod.weight_ih.data = copyfrom.weight_ih.data\n",
    "        mod.weight_hh.data = copyfrom.weight_hh.data\n",
    "        mod.weight_ch.data = copyfrom.weight_ch.data\n",
    "        mod.bias.data = copyfrom.bias.data\n",
    "        mod = getattr(model_loop, module_name)\n",
    "        mod.weight_ih.data = copyfrom.weight_ih.data\n",
    "        mod.weight_hh.data = copyfrom.weight_hh.data\n",
    "        mod.weight_ch.data = copyfrom.weight_ch.data\n",
    "        mod.bias.data = copyfrom.bias.data\n",
    "        mod = getattr(model_torch_loop, module_name)\n",
    "        mod.weight_ih.data = copyfrom.weight_ih.data\n",
    "        mod.weight_hh.data = copyfrom.weight_hh.data\n",
    "        mod.weight_ch.data = copyfrom.weight_ch.data\n",
    "        mod.bias.data = copyfrom.bias.data\n",
    "    else:\n",
    "        mod = getattr(model_torch, module_name)\n",
    "        mod.weight.data = copyfrom.weight.data\n",
    "        mod.bias.data = copyfrom.bias.data\n",
    "        mod = getattr(model_loop, module_name)\n",
    "        mod.weight.data = copyfrom.weight.data\n",
    "        mod.bias.data = copyfrom.bias.data\n",
    "        mod = getattr(model_torch_loop, module_name)\n",
    "        mod.weight.data = copyfrom.weight.data\n",
    "        mod.bias.data = copyfrom.bias.data\n",
    "\n",
    "model_cpp.to(device)\n",
    "model_torch.to(device)\n",
    "model_torch_loop.to(device)\n",
    "model_loop.to(device)\n",
    "model_norm_torch.to(device)\n",
    "\n",
    "batch_size = 32\n",
    "seq_length = 100\n",
    "\n",
    "play_input = torch.randn(batch_size, seq_length, 129).to(device)\n",
    "play_states = (torch.zeros(3, batch_size, 300).to(device), torch.zeros(3, batch_size, 300).to(device))\n",
    "#play_states = torch.zeros(4, 600).to(device).chunk(dim=1, chunks=2)\n",
    "\n",
    "print(model_cpp)\n",
    "print(model_torch)\n",
    "print(model_torch_loop)\n",
    "print(model_loop)\n",
    "print(model_norm_torch)"
   ]
  },
  {
   "cell_type": "markdown",
   "metadata": {},
   "source": [
    "Vanila PyTorch implementation"
   ]
  },
  {
   "cell_type": "code",
   "execution_count": 4,
   "metadata": {
    "scrolled": false
   },
   "outputs": [
    {
     "name": "stdout",
     "output_type": "stream",
     "text": [
      "493 ms ± 50.8 ms per loop (mean ± std. dev. of 30 runs, 1 loop each)\n"
     ]
    }
   ],
   "source": [
    "%%timeit -n 1 -r 30\n",
    "out = model_torch(play_input, play_states)[0]"
   ]
  },
  {
   "cell_type": "code",
   "execution_count": 5,
   "metadata": {},
   "outputs": [
    {
     "name": "stdout",
     "output_type": "stream",
     "text": [
      "896 ms ± 24.6 ms per loop (mean ± std. dev. of 30 runs, 1 loop each)\n"
     ]
    }
   ],
   "source": [
    "%%timeit -n 1 -r 30 out = model_torch(play_input, play_states)[0]\n",
    "model_torch.zero_grad()\n",
    "out.pow(2).sum().backward()"
   ]
  },
  {
   "cell_type": "code",
   "execution_count": 6,
   "metadata": {
    "scrolled": true
   },
   "outputs": [
    {
     "name": "stdout",
     "output_type": "stream",
     "text": [
      "(tensor([[[ 0.0562,  0.0598,  0.0121,  ..., -0.0333, -0.0352, -0.0040],\n",
      "         [ 0.0576,  0.0620,  0.0103,  ..., -0.0361, -0.0360, -0.0049],\n",
      "         [ 0.0576,  0.0631,  0.0094,  ..., -0.0379, -0.0359, -0.0053],\n",
      "         ...,\n",
      "         [ 0.0582,  0.0649,  0.0088,  ..., -0.0394, -0.0347, -0.0060],\n",
      "         [ 0.0579,  0.0650,  0.0090,  ..., -0.0392, -0.0347, -0.0060],\n",
      "         [ 0.0577,  0.0653,  0.0091,  ..., -0.0389, -0.0349, -0.0060]],\n",
      "\n",
      "        [[ 0.0558,  0.0600,  0.0130,  ..., -0.0329, -0.0354, -0.0040],\n",
      "         [ 0.0575,  0.0622,  0.0111,  ..., -0.0361, -0.0365, -0.0049],\n",
      "         [ 0.0582,  0.0637,  0.0100,  ..., -0.0380, -0.0373, -0.0052],\n",
      "         ...,\n",
      "         [ 0.0575,  0.0636,  0.0074,  ..., -0.0397, -0.0349, -0.0064],\n",
      "         [ 0.0578,  0.0634,  0.0074,  ..., -0.0398, -0.0345, -0.0064],\n",
      "         [ 0.0578,  0.0635,  0.0078,  ..., -0.0394, -0.0345, -0.0066]],\n",
      "\n",
      "        [[ 0.0560,  0.0601,  0.0124,  ..., -0.0335, -0.0353, -0.0036],\n",
      "         [ 0.0578,  0.0626,  0.0106,  ..., -0.0368, -0.0363, -0.0041],\n",
      "         [ 0.0581,  0.0638,  0.0096,  ..., -0.0388, -0.0362, -0.0045],\n",
      "         ...,\n",
      "         [ 0.0581,  0.0648,  0.0097,  ..., -0.0386, -0.0355, -0.0060],\n",
      "         [ 0.0584,  0.0648,  0.0097,  ..., -0.0386, -0.0356, -0.0061],\n",
      "         [ 0.0588,  0.0646,  0.0093,  ..., -0.0389, -0.0355, -0.0063]],\n",
      "\n",
      "        ...,\n",
      "\n",
      "        [[ 0.0562,  0.0598,  0.0120,  ..., -0.0334, -0.0352, -0.0038],\n",
      "         [ 0.0576,  0.0618,  0.0097,  ..., -0.0365, -0.0356, -0.0046],\n",
      "         [ 0.0583,  0.0630,  0.0083,  ..., -0.0376, -0.0356, -0.0052],\n",
      "         ...,\n",
      "         [ 0.0583,  0.0653,  0.0087,  ..., -0.0396, -0.0368, -0.0064],\n",
      "         [ 0.0586,  0.0657,  0.0090,  ..., -0.0400, -0.0363, -0.0064],\n",
      "         [ 0.0587,  0.0653,  0.0091,  ..., -0.0403, -0.0358, -0.0065]],\n",
      "\n",
      "        [[ 0.0559,  0.0600,  0.0123,  ..., -0.0334, -0.0346, -0.0035],\n",
      "         [ 0.0571,  0.0621,  0.0103,  ..., -0.0367, -0.0350, -0.0043],\n",
      "         [ 0.0577,  0.0632,  0.0096,  ..., -0.0385, -0.0357, -0.0047],\n",
      "         ...,\n",
      "         [ 0.0587,  0.0648,  0.0088,  ..., -0.0384, -0.0357, -0.0059],\n",
      "         [ 0.0583,  0.0646,  0.0087,  ..., -0.0389, -0.0352, -0.0060],\n",
      "         [ 0.0578,  0.0646,  0.0091,  ..., -0.0391, -0.0353, -0.0058]],\n",
      "\n",
      "        [[ 0.0562,  0.0597,  0.0120,  ..., -0.0337, -0.0347, -0.0039],\n",
      "         [ 0.0576,  0.0618,  0.0103,  ..., -0.0369, -0.0352, -0.0042],\n",
      "         [ 0.0582,  0.0631,  0.0092,  ..., -0.0385, -0.0354, -0.0043],\n",
      "         ...,\n",
      "         [ 0.0590,  0.0656,  0.0086,  ..., -0.0385, -0.0355, -0.0052],\n",
      "         [ 0.0589,  0.0651,  0.0083,  ..., -0.0385, -0.0356, -0.0052],\n",
      "         [ 0.0584,  0.0646,  0.0080,  ..., -0.0387, -0.0355, -0.0053]]],\n",
      "       device='cuda:0', grad_fn=<CopySlices>), (tensor([[ 0.0896,  0.0295,  0.0670,  ...,  0.0288,  0.0340, -0.0334],\n",
      "        [ 0.0865, -0.0257, -0.1103,  ..., -0.0421,  0.0467,  0.0578],\n",
      "        [-0.0170,  0.1020,  0.0433,  ...,  0.0383,  0.0466, -0.0079],\n",
      "        ...,\n",
      "        [-0.0140, -0.0079, -0.0111,  ..., -0.0038,  0.0007, -0.0025],\n",
      "        [-0.0150, -0.0087, -0.0110,  ..., -0.0010,  0.0004, -0.0019],\n",
      "        [-0.0177, -0.0078, -0.0106,  ..., -0.0037,  0.0015, -0.0039]],\n",
      "       device='cuda:0', grad_fn=<CatBackward>), tensor([[ 0.1589,  0.0538,  0.1500,  ...,  0.0568,  0.0660, -0.0603],\n",
      "        [ 0.1673, -0.0582, -0.2065,  ..., -0.0805,  0.0851,  0.0947],\n",
      "        [-0.0365,  0.2087,  0.0801,  ...,  0.1028,  0.1008, -0.0149],\n",
      "        ...,\n",
      "        [-0.0280, -0.0160, -0.0225,  ..., -0.0076,  0.0014, -0.0049],\n",
      "        [-0.0301, -0.0177, -0.0223,  ..., -0.0020,  0.0007, -0.0038],\n",
      "        [-0.0354, -0.0159, -0.0216,  ..., -0.0074,  0.0031, -0.0077]],\n",
      "       device='cuda:0', grad_fn=<CatBackward>)))\n",
      "tensor(-0.0486, device='cuda:0')\n"
     ]
    }
   ],
   "source": [
    "model_torch.eval()\n",
    "model_torch.zero_grad()\n",
    "out = model_torch(play_input, play_states)\n",
    "print(out)\n",
    "out[0].pow(2).mean().backward()\n",
    "print(model_torch.lstm0.weight_ih.grad.data.sum().add(model_torch.lstm0.weight_hh.grad.data.sum()).add(model_torch.lstm0.weight_ch.grad.data.sum()).mul(10000))"
   ]
  },
  {
   "cell_type": "code",
   "execution_count": 7,
   "metadata": {},
   "outputs": [],
   "source": [
    "sleep(3)\n",
    "torch.cuda.empty_cache()"
   ]
  },
  {
   "cell_type": "markdown",
   "metadata": {},
   "source": [
    "Loop within each module"
   ]
  },
  {
   "cell_type": "code",
   "execution_count": 8,
   "metadata": {
    "scrolled": false
   },
   "outputs": [
    {
     "name": "stdout",
     "output_type": "stream",
     "text": [
      "404 ms ± 19.2 ms per loop (mean ± std. dev. of 30 runs, 1 loop each)\n"
     ]
    }
   ],
   "source": [
    "%%timeit -n 1 -r 30\n",
    "out = model_torch_loop(play_input, play_states)[0]"
   ]
  },
  {
   "cell_type": "code",
   "execution_count": 9,
   "metadata": {},
   "outputs": [
    {
     "name": "stdout",
     "output_type": "stream",
     "text": [
      "896 ms ± 34.6 ms per loop (mean ± std. dev. of 30 runs, 1 loop each)\n"
     ]
    }
   ],
   "source": [
    "%%timeit -n 1 -r 30 out = model_torch_loop(play_input, play_states)[0]\n",
    "model_torch_loop.zero_grad()\n",
    "out.pow(2).sum().backward()"
   ]
  },
  {
   "cell_type": "code",
   "execution_count": 10,
   "metadata": {
    "scrolled": true
   },
   "outputs": [
    {
     "name": "stdout",
     "output_type": "stream",
     "text": [
      "(tensor([[[ 0.0562,  0.0598,  0.0121,  ..., -0.0333, -0.0352, -0.0040],\n",
      "         [ 0.0576,  0.0620,  0.0103,  ..., -0.0361, -0.0360, -0.0049],\n",
      "         [ 0.0576,  0.0631,  0.0094,  ..., -0.0379, -0.0359, -0.0053],\n",
      "         ...,\n",
      "         [ 0.0582,  0.0649,  0.0088,  ..., -0.0394, -0.0347, -0.0060],\n",
      "         [ 0.0579,  0.0650,  0.0090,  ..., -0.0392, -0.0347, -0.0060],\n",
      "         [ 0.0577,  0.0653,  0.0091,  ..., -0.0389, -0.0349, -0.0060]],\n",
      "\n",
      "        [[ 0.0558,  0.0600,  0.0130,  ..., -0.0329, -0.0354, -0.0040],\n",
      "         [ 0.0575,  0.0622,  0.0111,  ..., -0.0361, -0.0365, -0.0049],\n",
      "         [ 0.0582,  0.0637,  0.0100,  ..., -0.0380, -0.0373, -0.0052],\n",
      "         ...,\n",
      "         [ 0.0575,  0.0636,  0.0074,  ..., -0.0397, -0.0349, -0.0064],\n",
      "         [ 0.0578,  0.0634,  0.0074,  ..., -0.0398, -0.0345, -0.0064],\n",
      "         [ 0.0578,  0.0635,  0.0078,  ..., -0.0394, -0.0345, -0.0066]],\n",
      "\n",
      "        [[ 0.0560,  0.0601,  0.0124,  ..., -0.0335, -0.0353, -0.0036],\n",
      "         [ 0.0578,  0.0626,  0.0106,  ..., -0.0368, -0.0363, -0.0041],\n",
      "         [ 0.0581,  0.0638,  0.0096,  ..., -0.0388, -0.0362, -0.0045],\n",
      "         ...,\n",
      "         [ 0.0581,  0.0648,  0.0097,  ..., -0.0386, -0.0355, -0.0060],\n",
      "         [ 0.0584,  0.0648,  0.0097,  ..., -0.0386, -0.0356, -0.0061],\n",
      "         [ 0.0588,  0.0646,  0.0093,  ..., -0.0389, -0.0355, -0.0063]],\n",
      "\n",
      "        ...,\n",
      "\n",
      "        [[ 0.0562,  0.0598,  0.0120,  ..., -0.0334, -0.0352, -0.0038],\n",
      "         [ 0.0576,  0.0618,  0.0097,  ..., -0.0365, -0.0356, -0.0046],\n",
      "         [ 0.0583,  0.0630,  0.0083,  ..., -0.0376, -0.0356, -0.0052],\n",
      "         ...,\n",
      "         [ 0.0583,  0.0653,  0.0087,  ..., -0.0396, -0.0368, -0.0064],\n",
      "         [ 0.0586,  0.0657,  0.0090,  ..., -0.0400, -0.0363, -0.0064],\n",
      "         [ 0.0587,  0.0653,  0.0091,  ..., -0.0403, -0.0358, -0.0065]],\n",
      "\n",
      "        [[ 0.0559,  0.0600,  0.0123,  ..., -0.0334, -0.0346, -0.0035],\n",
      "         [ 0.0571,  0.0621,  0.0103,  ..., -0.0367, -0.0350, -0.0043],\n",
      "         [ 0.0577,  0.0632,  0.0096,  ..., -0.0385, -0.0357, -0.0047],\n",
      "         ...,\n",
      "         [ 0.0587,  0.0648,  0.0088,  ..., -0.0384, -0.0357, -0.0059],\n",
      "         [ 0.0583,  0.0646,  0.0087,  ..., -0.0389, -0.0352, -0.0060],\n",
      "         [ 0.0578,  0.0646,  0.0091,  ..., -0.0391, -0.0353, -0.0058]],\n",
      "\n",
      "        [[ 0.0562,  0.0597,  0.0120,  ..., -0.0337, -0.0347, -0.0039],\n",
      "         [ 0.0576,  0.0618,  0.0103,  ..., -0.0369, -0.0352, -0.0042],\n",
      "         [ 0.0582,  0.0631,  0.0092,  ..., -0.0385, -0.0354, -0.0043],\n",
      "         ...,\n",
      "         [ 0.0590,  0.0656,  0.0086,  ..., -0.0385, -0.0355, -0.0052],\n",
      "         [ 0.0589,  0.0651,  0.0083,  ..., -0.0385, -0.0356, -0.0052],\n",
      "         [ 0.0584,  0.0646,  0.0080,  ..., -0.0387, -0.0355, -0.0053]]],\n",
      "       device='cuda:0', grad_fn=<ThAddBackward>), (tensor([[ 0.0896,  0.0295,  0.0670,  ...,  0.0288,  0.0340, -0.0334],\n",
      "        [ 0.0865, -0.0257, -0.1103,  ..., -0.0421,  0.0467,  0.0578],\n",
      "        [-0.0170,  0.1020,  0.0433,  ...,  0.0383,  0.0466, -0.0079],\n",
      "        ...,\n",
      "        [-0.0140, -0.0079, -0.0111,  ..., -0.0038,  0.0007, -0.0025],\n",
      "        [-0.0150, -0.0087, -0.0110,  ..., -0.0010,  0.0004, -0.0019],\n",
      "        [-0.0177, -0.0078, -0.0106,  ..., -0.0037,  0.0015, -0.0039]],\n",
      "       device='cuda:0', grad_fn=<CatBackward>), tensor([[ 0.1589,  0.0538,  0.1500,  ...,  0.0568,  0.0660, -0.0603],\n",
      "        [ 0.1673, -0.0582, -0.2065,  ..., -0.0805,  0.0851,  0.0947],\n",
      "        [-0.0365,  0.2087,  0.0801,  ...,  0.1028,  0.1008, -0.0149],\n",
      "        ...,\n",
      "        [-0.0280, -0.0160, -0.0225,  ..., -0.0076,  0.0014, -0.0049],\n",
      "        [-0.0301, -0.0177, -0.0223,  ..., -0.0020,  0.0007, -0.0038],\n",
      "        [-0.0354, -0.0159, -0.0216,  ..., -0.0074,  0.0031, -0.0077]],\n",
      "       device='cuda:0', grad_fn=<CatBackward>)))\n",
      "tensor(-0.0486, device='cuda:0')\n"
     ]
    }
   ],
   "source": [
    "model_torch_loop.eval()\n",
    "model_torch_loop.zero_grad()\n",
    "out = model_torch_loop(play_input, play_states)\n",
    "print(out)\n",
    "out[0].pow(2).mean().backward()\n",
    "print(model_torch_loop.lstm0.weight_ih.grad.data.sum().add(model_torch_loop.lstm0.weight_hh.grad.data.sum()).add(model_torch_loop.lstm0.weight_ch.grad.data.sum()).mul(10000))"
   ]
  },
  {
   "cell_type": "code",
   "execution_count": 11,
   "metadata": {},
   "outputs": [],
   "source": [
    "sleep(3)\n",
    "torch.cuda.empty_cache()"
   ]
  },
  {
   "cell_type": "markdown",
   "metadata": {},
   "source": [
    "Single Peephole LSTM Cell C++ (Loop implemented with Python)"
   ]
  },
  {
   "cell_type": "code",
   "execution_count": 12,
   "metadata": {},
   "outputs": [
    {
     "name": "stdout",
     "output_type": "stream",
     "text": [
      "418 ms ± 29.8 ms per loop (mean ± std. dev. of 30 runs, 1 loop each)\n"
     ]
    }
   ],
   "source": [
    "%%timeit -n 1 -r 30\n",
    "out = model_cpp(play_input, play_states)[0]"
   ]
  },
  {
   "cell_type": "code",
   "execution_count": 13,
   "metadata": {},
   "outputs": [
    {
     "name": "stdout",
     "output_type": "stream",
     "text": [
      "805 ms ± 29.9 ms per loop (mean ± std. dev. of 30 runs, 1 loop each)\n"
     ]
    }
   ],
   "source": [
    "%%timeit -n 1 -r 30 out = model_cpp(play_input, play_states)[0]\n",
    "model_cpp.zero_grad()\n",
    "out.pow(2).sum().backward()"
   ]
  },
  {
   "cell_type": "code",
   "execution_count": 14,
   "metadata": {
    "scrolled": true
   },
   "outputs": [
    {
     "name": "stdout",
     "output_type": "stream",
     "text": [
      "(tensor([[[ 0.0562,  0.0598,  0.0121,  ..., -0.0333, -0.0352, -0.0040],\n",
      "         [ 0.0576,  0.0620,  0.0103,  ..., -0.0361, -0.0360, -0.0049],\n",
      "         [ 0.0576,  0.0631,  0.0094,  ..., -0.0379, -0.0359, -0.0053],\n",
      "         ...,\n",
      "         [ 0.0582,  0.0649,  0.0088,  ..., -0.0394, -0.0347, -0.0060],\n",
      "         [ 0.0579,  0.0650,  0.0090,  ..., -0.0392, -0.0347, -0.0060],\n",
      "         [ 0.0577,  0.0653,  0.0091,  ..., -0.0389, -0.0349, -0.0060]],\n",
      "\n",
      "        [[ 0.0558,  0.0600,  0.0130,  ..., -0.0329, -0.0354, -0.0040],\n",
      "         [ 0.0575,  0.0622,  0.0111,  ..., -0.0361, -0.0365, -0.0049],\n",
      "         [ 0.0582,  0.0637,  0.0100,  ..., -0.0380, -0.0373, -0.0052],\n",
      "         ...,\n",
      "         [ 0.0575,  0.0636,  0.0074,  ..., -0.0397, -0.0349, -0.0064],\n",
      "         [ 0.0578,  0.0634,  0.0074,  ..., -0.0398, -0.0345, -0.0064],\n",
      "         [ 0.0578,  0.0635,  0.0078,  ..., -0.0394, -0.0345, -0.0066]],\n",
      "\n",
      "        [[ 0.0560,  0.0601,  0.0124,  ..., -0.0335, -0.0353, -0.0036],\n",
      "         [ 0.0578,  0.0626,  0.0106,  ..., -0.0368, -0.0363, -0.0041],\n",
      "         [ 0.0581,  0.0638,  0.0096,  ..., -0.0388, -0.0362, -0.0045],\n",
      "         ...,\n",
      "         [ 0.0581,  0.0648,  0.0097,  ..., -0.0386, -0.0355, -0.0060],\n",
      "         [ 0.0584,  0.0648,  0.0097,  ..., -0.0386, -0.0356, -0.0061],\n",
      "         [ 0.0588,  0.0646,  0.0093,  ..., -0.0389, -0.0355, -0.0063]],\n",
      "\n",
      "        ...,\n",
      "\n",
      "        [[ 0.0562,  0.0598,  0.0120,  ..., -0.0334, -0.0352, -0.0038],\n",
      "         [ 0.0576,  0.0618,  0.0097,  ..., -0.0365, -0.0356, -0.0046],\n",
      "         [ 0.0583,  0.0630,  0.0083,  ..., -0.0376, -0.0356, -0.0052],\n",
      "         ...,\n",
      "         [ 0.0583,  0.0653,  0.0087,  ..., -0.0396, -0.0368, -0.0064],\n",
      "         [ 0.0586,  0.0657,  0.0090,  ..., -0.0400, -0.0363, -0.0064],\n",
      "         [ 0.0587,  0.0653,  0.0091,  ..., -0.0403, -0.0358, -0.0065]],\n",
      "\n",
      "        [[ 0.0559,  0.0600,  0.0123,  ..., -0.0334, -0.0346, -0.0035],\n",
      "         [ 0.0571,  0.0621,  0.0103,  ..., -0.0367, -0.0350, -0.0043],\n",
      "         [ 0.0577,  0.0632,  0.0096,  ..., -0.0385, -0.0357, -0.0047],\n",
      "         ...,\n",
      "         [ 0.0587,  0.0648,  0.0088,  ..., -0.0384, -0.0357, -0.0059],\n",
      "         [ 0.0583,  0.0646,  0.0087,  ..., -0.0389, -0.0352, -0.0060],\n",
      "         [ 0.0578,  0.0646,  0.0091,  ..., -0.0391, -0.0353, -0.0058]],\n",
      "\n",
      "        [[ 0.0562,  0.0597,  0.0120,  ..., -0.0337, -0.0347, -0.0039],\n",
      "         [ 0.0576,  0.0618,  0.0103,  ..., -0.0369, -0.0352, -0.0042],\n",
      "         [ 0.0582,  0.0631,  0.0092,  ..., -0.0385, -0.0354, -0.0043],\n",
      "         ...,\n",
      "         [ 0.0590,  0.0656,  0.0086,  ..., -0.0385, -0.0355, -0.0052],\n",
      "         [ 0.0589,  0.0651,  0.0083,  ..., -0.0385, -0.0356, -0.0052],\n",
      "         [ 0.0584,  0.0646,  0.0080,  ..., -0.0387, -0.0355, -0.0053]]],\n",
      "       device='cuda:0', grad_fn=<CopySlices>), (tensor([[ 0.0896,  0.0295,  0.0670,  ...,  0.0288,  0.0340, -0.0334],\n",
      "        [ 0.0865, -0.0257, -0.1103,  ..., -0.0421,  0.0467,  0.0578],\n",
      "        [-0.0170,  0.1020,  0.0433,  ...,  0.0383,  0.0466, -0.0079],\n",
      "        ...,\n",
      "        [-0.0140, -0.0079, -0.0111,  ..., -0.0038,  0.0007, -0.0025],\n",
      "        [-0.0150, -0.0087, -0.0110,  ..., -0.0010,  0.0004, -0.0019],\n",
      "        [-0.0177, -0.0078, -0.0106,  ..., -0.0037,  0.0015, -0.0039]],\n",
      "       device='cuda:0', grad_fn=<CatBackward>), tensor([[ 0.1589,  0.0538,  0.1500,  ...,  0.0568,  0.0660, -0.0603],\n",
      "        [ 0.1673, -0.0582, -0.2065,  ..., -0.0805,  0.0851,  0.0947],\n",
      "        [-0.0365,  0.2087,  0.0801,  ...,  0.1028,  0.1008, -0.0149],\n",
      "        ...,\n",
      "        [-0.0280, -0.0160, -0.0225,  ..., -0.0076,  0.0014, -0.0049],\n",
      "        [-0.0301, -0.0177, -0.0223,  ..., -0.0020,  0.0007, -0.0038],\n",
      "        [-0.0354, -0.0159, -0.0216,  ..., -0.0074,  0.0031, -0.0077]],\n",
      "       device='cuda:0', grad_fn=<CatBackward>)))\n",
      "tensor(-0.0486, device='cuda:0')\n"
     ]
    }
   ],
   "source": [
    "model_cpp.eval()\n",
    "model_cpp.zero_grad()\n",
    "out = model_cpp(play_input, play_states)\n",
    "print(out)\n",
    "out[0].pow(2).mean().backward()\n",
    "print(model_cpp.lstm0.weight_ih.grad.data.sum().add(model_cpp.lstm0.weight_hh.grad.data.sum()).add(model_cpp.lstm0.weight_ch.grad.data.sum()).mul(10000))"
   ]
  },
  {
   "cell_type": "code",
   "execution_count": 15,
   "metadata": {},
   "outputs": [],
   "source": [
    "sleep(3)\n",
    "torch.cuda.empty_cache()"
   ]
  },
  {
   "cell_type": "markdown",
   "metadata": {},
   "source": [
    "For-Loop implemented inside C++"
   ]
  },
  {
   "cell_type": "markdown",
   "metadata": {},
   "source": [
    "Custom Kernal"
   ]
  },
  {
   "cell_type": "code",
   "execution_count": 16,
   "metadata": {},
   "outputs": [
    {
     "name": "stdout",
     "output_type": "stream",
     "text": [
      "65.7 ms ± 7.98 ms per loop (mean ± std. dev. of 30 runs, 1 loop each)\n"
     ]
    }
   ],
   "source": [
    "%%timeit -n 1 -r 30\n",
    "out = model_loop(play_input, play_states)[0]"
   ]
  },
  {
   "cell_type": "code",
   "execution_count": 17,
   "metadata": {},
   "outputs": [
    {
     "name": "stdout",
     "output_type": "stream",
     "text": [
      "51.3 ms ± 1.73 ms per loop (mean ± std. dev. of 30 runs, 1 loop each)\n"
     ]
    }
   ],
   "source": [
    "%%timeit -n 1 -r 30 out = model_loop(play_input, play_states)[0]\n",
    "model_loop.zero_grad()\n",
    "out.pow(2).sum().backward()"
   ]
  },
  {
   "cell_type": "code",
   "execution_count": 18,
   "metadata": {
    "scrolled": true
   },
   "outputs": [
    {
     "name": "stdout",
     "output_type": "stream",
     "text": [
      "(tensor([[[ 0.0562,  0.0598,  0.0121,  ..., -0.0333, -0.0352, -0.0040],\n",
      "         [ 0.0576,  0.0620,  0.0103,  ..., -0.0361, -0.0360, -0.0049],\n",
      "         [ 0.0576,  0.0631,  0.0094,  ..., -0.0379, -0.0359, -0.0053],\n",
      "         ...,\n",
      "         [ 0.0582,  0.0649,  0.0088,  ..., -0.0394, -0.0347, -0.0060],\n",
      "         [ 0.0579,  0.0650,  0.0090,  ..., -0.0392, -0.0347, -0.0060],\n",
      "         [ 0.0577,  0.0653,  0.0091,  ..., -0.0389, -0.0349, -0.0060]],\n",
      "\n",
      "        [[ 0.0558,  0.0600,  0.0130,  ..., -0.0329, -0.0354, -0.0040],\n",
      "         [ 0.0575,  0.0622,  0.0111,  ..., -0.0361, -0.0365, -0.0049],\n",
      "         [ 0.0582,  0.0637,  0.0100,  ..., -0.0380, -0.0373, -0.0052],\n",
      "         ...,\n",
      "         [ 0.0575,  0.0636,  0.0074,  ..., -0.0397, -0.0349, -0.0064],\n",
      "         [ 0.0578,  0.0634,  0.0074,  ..., -0.0398, -0.0345, -0.0064],\n",
      "         [ 0.0578,  0.0635,  0.0078,  ..., -0.0394, -0.0345, -0.0066]],\n",
      "\n",
      "        [[ 0.0560,  0.0601,  0.0124,  ..., -0.0335, -0.0353, -0.0036],\n",
      "         [ 0.0578,  0.0626,  0.0106,  ..., -0.0368, -0.0363, -0.0041],\n",
      "         [ 0.0581,  0.0638,  0.0096,  ..., -0.0388, -0.0362, -0.0045],\n",
      "         ...,\n",
      "         [ 0.0581,  0.0648,  0.0097,  ..., -0.0386, -0.0355, -0.0060],\n",
      "         [ 0.0584,  0.0648,  0.0097,  ..., -0.0386, -0.0356, -0.0061],\n",
      "         [ 0.0588,  0.0646,  0.0093,  ..., -0.0389, -0.0355, -0.0063]],\n",
      "\n",
      "        ...,\n",
      "\n",
      "        [[ 0.0562,  0.0598,  0.0120,  ..., -0.0334, -0.0352, -0.0038],\n",
      "         [ 0.0576,  0.0618,  0.0097,  ..., -0.0365, -0.0356, -0.0046],\n",
      "         [ 0.0583,  0.0630,  0.0083,  ..., -0.0376, -0.0356, -0.0052],\n",
      "         ...,\n",
      "         [ 0.0583,  0.0653,  0.0087,  ..., -0.0396, -0.0368, -0.0064],\n",
      "         [ 0.0586,  0.0657,  0.0090,  ..., -0.0400, -0.0363, -0.0064],\n",
      "         [ 0.0587,  0.0653,  0.0091,  ..., -0.0403, -0.0358, -0.0065]],\n",
      "\n",
      "        [[ 0.0559,  0.0600,  0.0123,  ..., -0.0334, -0.0346, -0.0035],\n",
      "         [ 0.0571,  0.0621,  0.0103,  ..., -0.0367, -0.0350, -0.0043],\n",
      "         [ 0.0577,  0.0632,  0.0096,  ..., -0.0385, -0.0357, -0.0047],\n",
      "         ...,\n",
      "         [ 0.0587,  0.0648,  0.0088,  ..., -0.0384, -0.0357, -0.0059],\n",
      "         [ 0.0583,  0.0646,  0.0087,  ..., -0.0389, -0.0352, -0.0060],\n",
      "         [ 0.0578,  0.0646,  0.0091,  ..., -0.0391, -0.0353, -0.0058]],\n",
      "\n",
      "        [[ 0.0562,  0.0597,  0.0120,  ..., -0.0337, -0.0347, -0.0039],\n",
      "         [ 0.0576,  0.0618,  0.0103,  ..., -0.0369, -0.0352, -0.0042],\n",
      "         [ 0.0582,  0.0631,  0.0092,  ..., -0.0385, -0.0354, -0.0043],\n",
      "         ...,\n",
      "         [ 0.0590,  0.0656,  0.0086,  ..., -0.0385, -0.0355, -0.0052],\n",
      "         [ 0.0589,  0.0651,  0.0083,  ..., -0.0385, -0.0356, -0.0052],\n",
      "         [ 0.0584,  0.0646,  0.0080,  ..., -0.0387, -0.0355, -0.0053]]],\n",
      "       device='cuda:0', grad_fn=<ThAddBackward>), (tensor([[ 0.0896,  0.0295,  0.0670,  ...,  0.0288,  0.0340, -0.0334],\n",
      "        [ 0.0865, -0.0257, -0.1103,  ..., -0.0421,  0.0467,  0.0578],\n",
      "        [-0.0170,  0.1020,  0.0433,  ...,  0.0383,  0.0466, -0.0079],\n",
      "        ...,\n",
      "        [-0.0140, -0.0079, -0.0111,  ..., -0.0038,  0.0007, -0.0025],\n",
      "        [-0.0150, -0.0087, -0.0110,  ..., -0.0010,  0.0004, -0.0019],\n",
      "        [-0.0177, -0.0078, -0.0106,  ..., -0.0037,  0.0015, -0.0039]],\n",
      "       device='cuda:0', grad_fn=<CatBackward>), tensor([[ 0.1589,  0.0538,  0.1500,  ...,  0.0568,  0.0660, -0.0603],\n",
      "        [ 0.1673, -0.0582, -0.2065,  ..., -0.0805,  0.0851,  0.0947],\n",
      "        [-0.0365,  0.2087,  0.0801,  ...,  0.1028,  0.1008, -0.0149],\n",
      "        ...,\n",
      "        [-0.0280, -0.0160, -0.0225,  ..., -0.0076,  0.0014, -0.0049],\n",
      "        [-0.0301, -0.0177, -0.0223,  ..., -0.0020,  0.0007, -0.0038],\n",
      "        [-0.0354, -0.0159, -0.0216,  ..., -0.0074,  0.0031, -0.0077]],\n",
      "       device='cuda:0', grad_fn=<CatBackward>)))\n",
      "tensor(-0.0486, device='cuda:0')\n"
     ]
    }
   ],
   "source": [
    "model_loop.eval()\n",
    "model_loop.zero_grad()\n",
    "out = model_loop(play_input, play_states)\n",
    "print(out)\n",
    "out[0].pow(2).mean().backward()\n",
    "print(model_loop.lstm0.weight_ih.grad.data.sum().add(model_loop.lstm0.weight_hh.grad.data.sum()).add(model_loop.lstm0.weight_ch.grad.data.sum()).mul(10000))"
   ]
  },
  {
   "cell_type": "code",
   "execution_count": 19,
   "metadata": {},
   "outputs": [],
   "source": [
    "sleep(3)\n",
    "torch.cuda.empty_cache()"
   ]
  },
  {
   "cell_type": "markdown",
   "metadata": {},
   "source": [
    "Normalized - Torch"
   ]
  },
  {
   "cell_type": "code",
   "execution_count": 6,
   "metadata": {
    "scrolled": false
   },
   "outputs": [
    {
     "name": "stdout",
     "output_type": "stream",
     "text": [
      "529 ms ± 67.2 ms per loop (mean ± std. dev. of 30 runs, 1 loop each)\n"
     ]
    }
   ],
   "source": [
    "%%timeit -n 1 -r 30\n",
    "out = model_norm_torch(play_input, play_states)[0]"
   ]
  },
  {
   "cell_type": "code",
   "execution_count": 7,
   "metadata": {},
   "outputs": [
    {
     "name": "stdout",
     "output_type": "stream",
     "text": [
      "1.24 s ± 13.9 ms per loop (mean ± std. dev. of 30 runs, 1 loop each)\n"
     ]
    }
   ],
   "source": [
    "%%timeit -n 1 -r 30 out = model_norm_torch(play_input, play_states)[0]\n",
    "model_norm_torch.zero_grad()\n",
    "out.pow(2).sum().backward()"
   ]
  },
  {
   "cell_type": "code",
   "execution_count": 22,
   "metadata": {
    "scrolled": true
   },
   "outputs": [
    {
     "name": "stdout",
     "output_type": "stream",
     "text": [
      "(tensor([[[-0.0065, -0.0237, -0.0371,  ..., -0.0172, -0.0483,  0.0075],\n",
      "         [-0.0048, -0.0263, -0.0437,  ..., -0.0156, -0.0487, -0.0032],\n",
      "         [-0.0059, -0.0299, -0.0449,  ..., -0.0136, -0.0509, -0.0069],\n",
      "         ...,\n",
      "         [ 0.0025, -0.0225, -0.0355,  ..., -0.0203, -0.0547, -0.0021],\n",
      "         [ 0.0025, -0.0222, -0.0357,  ..., -0.0187, -0.0533, -0.0020],\n",
      "         [ 0.0028, -0.0217, -0.0360,  ..., -0.0164, -0.0521, -0.0023]],\n",
      "\n",
      "        [[-0.0072, -0.0237, -0.0367,  ..., -0.0170, -0.0483,  0.0082],\n",
      "         [-0.0053, -0.0260, -0.0416,  ..., -0.0156, -0.0492, -0.0011],\n",
      "         [-0.0064, -0.0286, -0.0416,  ..., -0.0143, -0.0514, -0.0024],\n",
      "         ...,\n",
      "         [-0.0007, -0.0228, -0.0344,  ..., -0.0200, -0.0650,  0.0051],\n",
      "         [-0.0001, -0.0231, -0.0337,  ..., -0.0214, -0.0674,  0.0064],\n",
      "         [ 0.0005, -0.0232, -0.0328,  ..., -0.0228, -0.0684,  0.0057]],\n",
      "\n",
      "        [[-0.0066, -0.0239, -0.0356,  ..., -0.0173, -0.0488,  0.0089],\n",
      "         [-0.0055, -0.0266, -0.0407,  ..., -0.0163, -0.0505,  0.0004],\n",
      "         [-0.0056, -0.0296, -0.0406,  ..., -0.0156, -0.0539, -0.0013],\n",
      "         ...,\n",
      "         [ 0.0013, -0.0236, -0.0310,  ..., -0.0242, -0.0526, -0.0016],\n",
      "         [-0.0001, -0.0229, -0.0322,  ..., -0.0237, -0.0545, -0.0020],\n",
      "         [-0.0012, -0.0225, -0.0331,  ..., -0.0231, -0.0567, -0.0022]],\n",
      "\n",
      "        ...,\n",
      "\n",
      "        [[-0.0067, -0.0236, -0.0356,  ..., -0.0177, -0.0492,  0.0086],\n",
      "         [-0.0052, -0.0274, -0.0401,  ..., -0.0163, -0.0514, -0.0018],\n",
      "         [-0.0054, -0.0310, -0.0407,  ..., -0.0147, -0.0535, -0.0044],\n",
      "         ...,\n",
      "         [ 0.0008, -0.0236, -0.0366,  ..., -0.0145, -0.0538,  0.0007],\n",
      "         [ 0.0002, -0.0229, -0.0369,  ..., -0.0128, -0.0537,  0.0022],\n",
      "         [-0.0008, -0.0229, -0.0351,  ..., -0.0127, -0.0538,  0.0041]],\n",
      "\n",
      "        [[-0.0070, -0.0240, -0.0352,  ..., -0.0167, -0.0488,  0.0077],\n",
      "         [-0.0062, -0.0274, -0.0389,  ..., -0.0147, -0.0504, -0.0017],\n",
      "         [-0.0085, -0.0296, -0.0392,  ..., -0.0118, -0.0544, -0.0040],\n",
      "         ...,\n",
      "         [ 0.0030, -0.0236, -0.0374,  ..., -0.0185, -0.0678, -0.0015],\n",
      "         [ 0.0032, -0.0247, -0.0378,  ..., -0.0186, -0.0691, -0.0004],\n",
      "         [ 0.0025, -0.0253, -0.0387,  ..., -0.0178, -0.0700,  0.0008]],\n",
      "\n",
      "        [[-0.0066, -0.0246, -0.0368,  ..., -0.0172, -0.0481,  0.0080],\n",
      "         [-0.0041, -0.0283, -0.0410,  ..., -0.0163, -0.0484, -0.0013],\n",
      "         [-0.0052, -0.0304, -0.0398,  ..., -0.0152, -0.0513, -0.0021],\n",
      "         ...,\n",
      "         [-0.0064, -0.0361, -0.0260,  ..., -0.0187, -0.0578,  0.0051],\n",
      "         [-0.0071, -0.0361, -0.0251,  ..., -0.0196, -0.0547,  0.0028],\n",
      "         [-0.0076, -0.0363, -0.0238,  ..., -0.0204, -0.0525,  0.0026]]],\n",
      "       device='cuda:0', grad_fn=<ThAddBackward>), (tensor([[ 0.0082, -0.0053,  0.0120,  ..., -0.0131, -0.0024,  0.0128],\n",
      "        [-0.0286, -0.0072,  0.0067,  ..., -0.0146,  0.0150,  0.0042],\n",
      "        [-0.0142, -0.0091, -0.0105,  ..., -0.0158,  0.0122, -0.0031],\n",
      "        ...,\n",
      "        [ 0.0101, -0.0047,  0.0184,  ..., -0.0046, -0.0135, -0.0334],\n",
      "        [-0.0052, -0.0026,  0.0019,  ..., -0.0038, -0.0142, -0.0144],\n",
      "        [-0.0066,  0.0229,  0.0220,  ...,  0.0093, -0.0217, -0.0158]],\n",
      "       device='cuda:0', grad_fn=<CatBackward>), tensor([[-0.0097, -0.0046,  0.0181,  ..., -0.0334, -0.0657,  0.0438],\n",
      "        [-0.0247, -0.0148,  0.0125,  ..., -0.0184, -0.0927,  0.0306],\n",
      "        [-0.0189, -0.0255, -0.0058,  ..., -0.0050, -0.0874,  0.0192],\n",
      "        ...,\n",
      "        [ 0.0335, -0.0506,  0.0179,  ...,  0.0415, -0.0589,  0.1194],\n",
      "        [ 0.0079, -0.0446,  0.0355,  ...,  0.0407, -0.0534,  0.0694],\n",
      "        [ 0.0059,  0.0241,  0.0140,  ...,  0.0232, -0.0056,  0.0739]],\n",
      "       device='cuda:0', grad_fn=<CatBackward>)))\n",
      "tensor(3.4307, device='cuda:0')\n"
     ]
    }
   ],
   "source": [
    "model_norm_torch.eval()\n",
    "model_norm_torch.zero_grad()\n",
    "out = model_norm_torch(play_input, play_states)\n",
    "print(out)\n",
    "out[0].pow(2).mean().backward()\n",
    "print(model_norm_torch.lstm0.weight_ih.grad.data.sum().add(model_norm_torch.lstm0.weight_hh.grad.data.sum()).add(model_norm_torch.lstm0.weight_ch.grad.data.sum()).mul(10000))"
   ]
  },
  {
   "cell_type": "code",
   "execution_count": 23,
   "metadata": {},
   "outputs": [],
   "source": [
    "sleep(3)\n",
    "torch.cuda.empty_cache()"
   ]
  },
  {
   "cell_type": "markdown",
   "metadata": {},
   "source": [
    "## Load in Data\n",
    "\n",
    "Then, we'll load the Anna Karenina text file and convert it into integers for our network to use. "
   ]
  },
  {
   "cell_type": "code",
   "execution_count": 3,
   "metadata": {},
   "outputs": [],
   "source": [
    "# open text file and read in data as `text`\n",
    "with open('data/anna.txt', 'r') as f:\n",
    "    text = f.read()"
   ]
  },
  {
   "cell_type": "markdown",
   "metadata": {},
   "source": [
    "Let's check out the first 100 characters, make sure everything is peachy. According to the [American Book Review](http://americanbookreview.org/100bestlines.asp), this is the 6th best first line of a book ever."
   ]
  },
  {
   "cell_type": "code",
   "execution_count": 4,
   "metadata": {},
   "outputs": [
    {
     "data": {
      "text/plain": [
       "'Chapter 1\\n\\n\\nHappy families are all alike; every unhappy family is unhappy in its own\\nway.\\n\\nEverythin'"
      ]
     },
     "execution_count": 4,
     "metadata": {},
     "output_type": "execute_result"
    }
   ],
   "source": [
    "text[:100]"
   ]
  },
  {
   "cell_type": "markdown",
   "metadata": {},
   "source": [
    "### Tokenization\n",
    "\n",
    "In the cells, below, I'm creating a couple **dictionaries** to convert the characters to and from integers. Encoding the characters as integers makes it easier to use as input in the network."
   ]
  },
  {
   "cell_type": "code",
   "execution_count": 5,
   "metadata": {},
   "outputs": [],
   "source": [
    "# encode the text and map each character to an integer and vice versa\n",
    "\n",
    "# we create two dictionaries:\n",
    "# 1. int2char, which maps integers to characters\n",
    "# 2. char2int, which maps characters to unique integers\n",
    "chars = tuple(set(text))\n",
    "int2char = dict(enumerate(chars))\n",
    "char2int = {ch: ii for ii, ch in int2char.items()}\n",
    "\n",
    "# encode the text\n",
    "encoded = np.array([char2int[ch] for ch in text])"
   ]
  },
  {
   "cell_type": "markdown",
   "metadata": {},
   "source": [
    "And we can see those same characters from above, encoded as integers."
   ]
  },
  {
   "cell_type": "code",
   "execution_count": 6,
   "metadata": {},
   "outputs": [
    {
     "data": {
      "text/plain": [
       "array([ 4, 46, 18, 71,  0, 26, 13, 53, 33, 38, 38, 38,  2, 18, 71, 71, 81,\n",
       "       53, 63, 18, 50, 49,  1, 49, 26, 42, 53, 18, 13, 26, 53, 18,  1,  1,\n",
       "       53, 18,  1, 49, 34, 26, 68, 53, 26, 70, 26, 13, 81, 53, 64, 66, 46,\n",
       "       18, 71, 71, 81, 53, 63, 18, 50, 49,  1, 81, 53, 49, 42, 53, 64, 66,\n",
       "       46, 18, 71, 71, 81, 53, 49, 66, 53, 49,  0, 42, 53, 20, 75, 66, 38,\n",
       "       75, 18, 81, 54, 38, 38,  5, 70, 26, 13, 81,  0, 46, 49, 66])"
      ]
     },
     "execution_count": 6,
     "metadata": {},
     "output_type": "execute_result"
    }
   ],
   "source": [
    "encoded[:100]"
   ]
  },
  {
   "cell_type": "markdown",
   "metadata": {},
   "source": [
    "## Pre-processing the data\n",
    "\n",
    "As you can see in our char-RNN image above, our LSTM expects an input that is **one-hot encoded** meaning that each character is converted into an integer (via our created dictionary) and *then* converted into a column vector where only it's corresponding integer index will have the value of 1 and the rest of the vector will be filled with 0's. Since we're one-hot encoding the data, let's make a function to do that!\n"
   ]
  },
  {
   "cell_type": "code",
   "execution_count": 7,
   "metadata": {},
   "outputs": [],
   "source": [
    "def one_hot_encode(arr, n_labels):\n",
    "    \n",
    "    # Initialize the the encoded array\n",
    "    one_hot = np.zeros((np.multiply(*arr.shape), n_labels), dtype=np.float32)\n",
    "    \n",
    "    # Fill the appropriate elements with ones\n",
    "    one_hot[np.arange(one_hot.shape[0]), arr.flatten()] = 1.\n",
    "    \n",
    "    # Finally reshape it to get back to the original array\n",
    "    one_hot = one_hot.reshape((*arr.shape, n_labels))\n",
    "    \n",
    "    return one_hot"
   ]
  },
  {
   "cell_type": "code",
   "execution_count": 8,
   "metadata": {},
   "outputs": [
    {
     "name": "stdout",
     "output_type": "stream",
     "text": [
      "[[[0. 0. 0. 1. 0. 0. 0. 0.]\n",
      "  [0. 0. 0. 0. 0. 1. 0. 0.]\n",
      "  [0. 1. 0. 0. 0. 0. 0. 0.]]]\n"
     ]
    }
   ],
   "source": [
    "# check that the function works as expected\n",
    "test_seq = np.array([[3, 5, 1]])\n",
    "one_hot = one_hot_encode(test_seq, 8)\n",
    "\n",
    "print(one_hot)"
   ]
  },
  {
   "cell_type": "markdown",
   "metadata": {},
   "source": [
    "## Making training mini-batches\n",
    "\n",
    "\n",
    "To train on this data, we also want to create mini-batches for training. Remember that we want our batches to be multiple sequences of some desired number of sequence steps. Considering a simple example, our batches would look like this:\n",
    "\n",
    "<img src=\"assets/sequence_batching@1x.png\" width=500px>\n",
    "\n",
    "\n",
    "<br>\n",
    "\n",
    "In this example, we'll take the encoded characters (passed in as the `arr` parameter) and split them into multiple sequences, given by `batch_size`. Each of our sequences will be `seq_length` long.\n",
    "\n",
    "### Creating Batches\n",
    "\n",
    "**1. The first thing we need to do is discard some of the text so we only have completely full mini-batches. **\n",
    "\n",
    "Each batch contains $N \\times M$ characters, where $N$ is the batch size (the number of sequences in a batch) and $M$ is the seq_length or number of time steps in a sequence. Then, to get the total number of batches, $K$, that we can make from the array `arr`, you divide the length of `arr` by the number of characters per batch. Once you know the number of batches, you can get the total number of characters to keep from `arr`, $N * M * K$.\n",
    "\n",
    "**2. After that, we need to split `arr` into $N$ batches. ** \n",
    "\n",
    "You can do this using `arr.reshape(size)` where `size` is a tuple containing the dimensions sizes of the reshaped array. We know we want $N$ sequences in a batch, so let's make that the size of the first dimension. For the second dimension, you can use `-1` as a placeholder in the size, it'll fill up the array with the appropriate data for you. After this, you should have an array that is $N \\times (M * K)$.\n",
    "\n",
    "**3. Now that we have this array, we can iterate through it to get our mini-batches. **\n",
    "\n",
    "The idea is each batch is a $N \\times M$ window on the $N \\times (M * K)$ array. For each subsequent batch, the window moves over by `seq_length`. We also want to create both the input and target arrays. Remember that the targets are just the inputs shifted over by one character. The way I like to do this window is use `range` to take steps of size `n_steps` from $0$ to `arr.shape[1]`, the total number of tokens in each sequence. That way, the integers you get from `range` always point to the start of a batch, and each window is `seq_length` wide.\n",
    "\n",
    "> **TODO:** Write the code for creating batches in the function below. The exercises in this notebook _will not be easy_. I've provided a notebook with solutions alongside this notebook. If you get stuck, checkout the solutions. The most important thing is that you don't copy and paste the code into here, **type out the solution code yourself.**"
   ]
  },
  {
   "cell_type": "code",
   "execution_count": 9,
   "metadata": {},
   "outputs": [],
   "source": [
    "def get_batches(arr, batch_size, seq_length):\n",
    "    '''Create a generator that returns batches of size\n",
    "       batch_size x seq_length from arr.\n",
    "       \n",
    "       Arguments\n",
    "       ---------\n",
    "       arr: Array you want to make batches from\n",
    "       batch_size: Batch size, the number of sequences per batch\n",
    "       seq_length: Number of encoded chars in a sequence\n",
    "    '''\n",
    "    \n",
    "    ## TODO: Get the number of batches we can make\n",
    "#     n_batches = ((len(arr) - batch_size) // seq_length) // batch_size\n",
    "    n_batches = ((len(arr) - 1) // seq_length) // batch_size\n",
    "    \n",
    "    ## TODO: Keep only enough characters to make full batches\n",
    "#     arr = arr[:batch_size * (seq_length * n_batches + 1)]\n",
    "    arr = np.concatenate([arr[seq * seq_length * n_batches:(seq + 1) * seq_length * n_batches + 1]\n",
    "                          for seq in range(batch_size)])\n",
    "    \n",
    "    ## TODO: Reshape into batch_size rows\n",
    "    arr = arr.reshape((batch_size, seq_length * n_batches + 1))\n",
    "    \n",
    "    ## TODO: Iterate over the batches using a window of size seq_length\n",
    "#     for n in range(0, arr.shape[1], seq_length):\n",
    "    for n in range(0, arr.shape[1] - 1, seq_length):\n",
    "        # The features\n",
    "        x = arr[:, n:n +  seq_length]\n",
    "        # The targets, shifted by one\n",
    "        y = arr[:, n + 1:n + seq_length + 1]\n",
    "        yield x, y"
   ]
  },
  {
   "cell_type": "markdown",
   "metadata": {},
   "source": [
    "### Test Your Implementation\n",
    "\n",
    "Now I'll make some data sets and we can check out what's going on as we batch data. Here, as an example, I'm going to use a batch size of 8 and 50 sequence steps."
   ]
  },
  {
   "cell_type": "code",
   "execution_count": 10,
   "metadata": {},
   "outputs": [],
   "source": [
    "batches = get_batches(encoded, 8, 50)\n",
    "x, y = next(batches)"
   ]
  },
  {
   "cell_type": "code",
   "execution_count": 11,
   "metadata": {},
   "outputs": [
    {
     "name": "stdout",
     "output_type": "stream",
     "text": [
      "x\n",
      " [[ 4 46 18 71  0 26 13 53 33 38]\n",
      " [42 20 66 53  0 46 18  0 53 18]\n",
      " [26 66 55 53 20 13 53 18 53 63]\n",
      " [42 53  0 46 26 53  3 46 49 26]\n",
      " [53 42 18 75 53 46 26 13 53  0]\n",
      " [ 3 64 42 42 49 20 66 53 18 66]\n",
      " [53 43 66 66 18 53 46 18 55 53]\n",
      " [19 72  1 20 66 42 34 81 54 53]]\n",
      "\n",
      "y\n",
      " [[46 18 71  0 26 13 53 33 38 38]\n",
      " [20 66 53  0 46 18  0 53 18  0]\n",
      " [66 55 53 20 13 53 18 53 63 20]\n",
      " [53  0 46 26 53  3 46 49 26 63]\n",
      " [42 18 75 53 46 26 13 53  0 26]\n",
      " [64 42 42 49 20 66 53 18 66 55]\n",
      " [43 66 66 18 53 46 18 55 53 42]\n",
      " [72  1 20 66 42 34 81 54 53 29]]\n"
     ]
    }
   ],
   "source": [
    "# printing out the first 10 items in a sequence\n",
    "print('x\\n', x[:10, :10])\n",
    "print('\\ny\\n', y[:10, :10])"
   ]
  },
  {
   "cell_type": "markdown",
   "metadata": {},
   "source": [
    "If you implemented `get_batches` correctly, the above output should look something like \n",
    "```\n",
    "x\n",
    " [[25  8 60 11 45 27 28 73  1  2]\n",
    " [17  7 20 73 45  8 60 45 73 60]\n",
    " [27 20 80 73  7 28 73 60 73 65]\n",
    " [17 73 45  8 27 73 66  8 46 27]\n",
    " [73 17 60 12 73  8 27 28 73 45]\n",
    " [66 64 17 17 46  7 20 73 60 20]\n",
    " [73 76 20 20 60 73  8 60 80 73]\n",
    " [47 35 43  7 20 17 24 50 37 73]]\n",
    "\n",
    "y\n",
    " [[ 8 60 11 45 27 28 73  1  2  2]\n",
    " [ 7 20 73 45  8 60 45 73 60 45]\n",
    " [20 80 73  7 28 73 60 73 65  7]\n",
    " [73 45  8 27 73 66  8 46 27 65]\n",
    " [17 60 12 73  8 27 28 73 45 27]\n",
    " [64 17 17 46  7 20 73 60 20 80]\n",
    " [76 20 20 60 73  8 60 80 73 17]\n",
    " [35 43  7 20 17 24 50 37 73 36]]\n",
    " ```\n",
    " although the exact numbers may be different. Check to make sure the data is shifted over one step for `y`."
   ]
  },
  {
   "cell_type": "markdown",
   "metadata": {},
   "source": [
    "---\n",
    "## Defining the network with PyTorch\n",
    "\n",
    "Below is where you'll define the network.\n",
    "\n",
    "<img src=\"assets/charRNN.png\" width=500px>\n",
    "\n",
    "Next, you'll use PyTorch to define the architecture of the network. We start by defining the layers and operations we want. Then, define a method for the forward pass. You've also been given a method for predicting characters."
   ]
  },
  {
   "cell_type": "markdown",
   "metadata": {},
   "source": [
    "### Model Structure\n",
    "\n",
    "In `__init__` the suggested structure is as follows:\n",
    "* Create and store the necessary dictionaries (this has been done for you)\n",
    "* Define an LSTM layer that takes as params: an input size (the number of characters), a hidden layer size `n_hidden`, a number of layers `n_layers`, a dropout probability `drop_prob`, and a batch_first boolean (True, since we are batching)\n",
    "* Define a dropout layer with `dropout_prob`\n",
    "* Define a fully-connected layer with params: input size `n_hidden` and output size (the number of characters)\n",
    "* Finally, initialize the weights (again, this has been given)\n",
    "\n",
    "Note that some parameters have been named and given in the `__init__` function, and we use them and store them by doing something like `self.drop_prob = drop_prob`."
   ]
  },
  {
   "cell_type": "markdown",
   "metadata": {},
   "source": [
    "---\n",
    "### LSTM Inputs/Outputs\n",
    "\n",
    "You can create a basic [LSTM layer](https://pytorch.org/docs/stable/nn.html#lstm) as follows\n",
    "\n",
    "```python\n",
    "self.lstm = nn.LSTM(input_size, n_hidden, n_layers, \n",
    "                            dropout=drop_prob, batch_first=True)\n",
    "```\n",
    "\n",
    "where `input_size` is the number of characters this cell expects to see as sequential input, and `n_hidden` is the number of units in the hidden layers in the cell. And we can add dropout by adding a dropout parameter with a specified probability; this will automatically add dropout to the inputs or outputs. Finally, in the `forward` function, we can stack up the LSTM cells into layers using `.view`. With this, you pass in a list of cells and it will send the output of one cell into the next cell.\n",
    "\n",
    "We also need to create an initial hidden state of all zeros. This is done like so\n",
    "\n",
    "```python\n",
    "self.init_hidden()\n",
    "```"
   ]
  },
  {
   "cell_type": "code",
   "execution_count": 12,
   "metadata": {},
   "outputs": [
    {
     "name": "stdout",
     "output_type": "stream",
     "text": [
      "Training on GPU!\n"
     ]
    }
   ],
   "source": [
    "# check if GPU is available\n",
    "train_on_gpu = torch.cuda.is_available()\n",
    "if(train_on_gpu):\n",
    "    print('Training on GPU!')\n",
    "else: \n",
    "    print('No GPU available, training on CPU; consider making n_epochs very small.')\n",
    "# train_on_gpu = False"
   ]
  },
  {
   "cell_type": "code",
   "execution_count": 13,
   "metadata": {},
   "outputs": [],
   "source": [
    "class CharRNN(nn.Module):\n",
    "    \n",
    "    def __init__(self, tokens, n_hidden=256, n_layers=2,\n",
    "                               drop_prob=0.5, lr=0.001):\n",
    "        super().__init__()\n",
    "        self.drop_prob = drop_prob\n",
    "        self.n_layers = n_layers\n",
    "        self.n_hidden = n_hidden\n",
    "        self.lr = lr\n",
    "        \n",
    "        # creating character dictionaries\n",
    "        self.chars = tokens\n",
    "        self.int2char = dict(enumerate(self.chars))\n",
    "        self.char2int = {ch: ii for ii, ch in self.int2char.items()}\n",
    "        \n",
    "        ## TODO: define the layers of the model\n",
    "        self.lstm = nn.LSTM(input_size=len(tokens), hidden_size=n_hidden, num_layers=n_layers,\n",
    "                            batch_first=True, dropout=drop_prob)\n",
    "        self.fc = nn.Linear(in_features=n_hidden, out_features=len(tokens))\n",
    "    \n",
    "    def forward(self, x, hidden):\n",
    "        ''' Forward pass through the network. \n",
    "            These inputs are x, and the hidden/cell state `hidden`. '''\n",
    "                \n",
    "        ## TODO: Get the outputs and the new hidden state from the lstm\n",
    "        out, hidden = self.lstm(x, hidden)\n",
    "        out = self.fc(out)\n",
    "        \n",
    "        # return the final output and the hidden state\n",
    "        return out, hidden\n",
    "    \n",
    "    \n",
    "    def init_hidden(self, batch_size, cuda=True):\n",
    "        ''' Initializes hidden state '''\n",
    "        # Create two new tensors with sizes n_layers x batch_size x n_hidden,\n",
    "        # initialized to zero, for hidden state and cell state of LSTM\n",
    "        weight = next(self.parameters()).data\n",
    "        \n",
    "        if cuda:\n",
    "            hidden = (weight.new(self.n_layers, batch_size, self.n_hidden).zero_().cuda(),\n",
    "                  weight.new(self.n_layers, batch_size, self.n_hidden).zero_().cuda())\n",
    "        else:\n",
    "            hidden = (weight.new(self.n_layers, batch_size, self.n_hidden).zero_(),\n",
    "                      weight.new(self.n_layers, batch_size, self.n_hidden).zero_())\n",
    "        \n",
    "        return hidden\n",
    "        "
   ]
  },
  {
   "cell_type": "code",
   "execution_count": 13,
   "metadata": {},
   "outputs": [],
   "source": [
    "class CharRNN(nn.Module):\n",
    "    \n",
    "    def __init__(self, tokens, n_hidden=256, n_layers=2,\n",
    "                               drop_prob=0., lr=0.001):\n",
    "        super().__init__()\n",
    "        self.drop_prob = drop_prob\n",
    "        self.n_hidden = n_hidden\n",
    "        self.n_layers = n_layers\n",
    "        self.lr = lr\n",
    "        \n",
    "        # creating character dictionaries\n",
    "        self.chars = tokens\n",
    "        self.int2char = dict(enumerate(self.chars))\n",
    "        self.char2int = {ch: ii for ii, ch in self.int2char.items()}\n",
    "        \n",
    "        ## TODO: define the layers of the model\n",
    "        in_size = len(tokens)\n",
    "        for i in range(n_layers):\n",
    "            self.add_module(f'lstm{i}', peephole_lstm_classes.PeepholeLSTM(in_size, n_hidden, drop_prob))\n",
    "            in_size = n_hidden\n",
    "        #self.lstm = peephole_lstm_classes.PeepholeLSTM(len(tokens), n_hidden, drop_prob)\n",
    "        self.fc = nn.Linear(in_features=in_size, out_features=len(tokens))\n",
    "    \n",
    "    def forward(self, x, hidden):\n",
    "        ''' Forward pass through the network. \n",
    "            These inputs are x, and the hidden/cell state `hidden`. '''\n",
    "                \n",
    "        ## TODO: Get the outputs and the new hidden state from the lstm\n",
    "        new_hidden = (torch.zeros_like(hidden[0]), torch.zeros_like(hidden[1]))\n",
    "        for i in range(self.n_layers):\n",
    "            x, hc = self.__getattr__(f'lstm{i}')(x, (hidden[0][i], hidden[1][i]))\n",
    "            new_hidden[0][i], new_hidden[1][i] = hc[0], hc[1]\n",
    "        x = self.fc(x)\n",
    "        \n",
    "        # return the final output and the hidden state\n",
    "        return x, new_hidden\n",
    "    \n",
    "    \n",
    "    def init_hidden(self, batch_size, cuda=True):\n",
    "        ''' Initializes hidden state '''\n",
    "        # Create two new tensors with sizes n_layers x batch_size x n_hidden,\n",
    "        # initialized to zero, for hidden state and cell state of LSTM\n",
    "        weight = next(self.parameters()).data\n",
    "        \n",
    "        if cuda:\n",
    "            hidden = (weight.new_zeros(self.n_layers, batch_size, self.n_hidden).cuda(),\n",
    "                      weight.new_zeros(self.n_layers, batch_size, self.n_hidden).cuda())\n",
    "        else:\n",
    "            hidden = (weight.new_zeros(self.n_layers, batch_size, self.n_hidden),\n",
    "                      weight.new_zeros(self.n_layers, batch_size, self.n_hidden))\n",
    "        \n",
    "        return hidden\n",
    "        "
   ]
  },
  {
   "cell_type": "code",
   "execution_count": 14,
   "metadata": {},
   "outputs": [],
   "source": [
    "class MyCharRNN(nn.Module):\n",
    "    \n",
    "    class PeepholeLSTMCell(nn.Module):\n",
    "        \n",
    "        def __init__(self, input_size, hidden_size, dropout=0):\n",
    "            assert isinstance(input_size, int) and input_size >= 1\n",
    "            assert isinstance(hidden_size, int) and hidden_size >= 1\n",
    "            assert isinstance(dropout, (int, float)) and 0 <= dropout <= 1\n",
    "\n",
    "            super().__init__()\n",
    "\n",
    "            self.input_size = input_size\n",
    "            self.hidden_size = hidden_size\n",
    "            self.dropout = dropout\n",
    "            \n",
    "            self.weight_ih = nn.Parameter(torch.empty(4*hidden_size, input_size))\n",
    "            self.weight_hh = nn.Parameter(torch.empty(4*hidden_size, hidden_size))\n",
    "            self.weight_ch = nn.Parameter(torch.empty(3*hidden_size, hidden_size))\n",
    "            self.bias = nn.Parameter(torch.empty(4*hidden_size))\n",
    "            \n",
    "            self.reset_parameters()\n",
    "            \n",
    "        def reset_parameters(self):\n",
    "            stdv = 1. / np.sqrt(self.input_size + 2 * self.hidden_size)\n",
    "            self.weight_ih.data.uniform_(-stdv, stdv)\n",
    "            self.weight_hh.data.uniform_(-stdv, stdv)\n",
    "            self.weight_ch.data.uniform_(-stdv, stdv)\n",
    "            self.bias.data.uniform_(-stdv, stdv)\n",
    "            \n",
    "        def forward(self, input, hc=None):\n",
    "            if hc is None:\n",
    "                hc = input.new_zeros(input.size(1), 2 * self.hidden_size, requires_grad=False).chunk(chunks=2, dim=1)\n",
    "\n",
    "            for i, h in enumerate((hc[0], hc[1])):\n",
    "                if input.size(0) != h.size(0):\n",
    "                    raise RuntimeError(f\"Input batch size {input.size(0)} doesn't match hidden{i} batch size {h.size(0)}\")\n",
    "                if h.size(1) != self.hidden_size:\n",
    "                    raise RuntimeError(f\"hidden{i} has inconsistent hidden_size: got {h.size(1)}, expected {self.hidden_size}\")\n",
    "            \n",
    "            gates = torch.addmm(self.bias, input, self.weight_ih.t())\n",
    "            gates += torch.mm(hc[0], self.weight_hc.t())\n",
    "            gates[:, :3*self.hidden_size] += torch.mm(hc[1], self.weight_ch.t())\n",
    "            \n",
    "            sig_gates = gates[:, :3 * self.hidden_size].sigmoid().chunk(chunks=3, dim=1)\n",
    "            tanh_gate = gates[:, 3 * self.hidden_size:].tanh()\n",
    "            \n",
    "            c = sig_gates[0] * hc[1] + sig_gates[1] * tanh_gate\n",
    "            h = sig_gates[2] * torch.tanh(c)\n",
    "            output = F.dropout(h, p=self.dropout, training=self.training, inplace=False)\n",
    "            \n",
    "            return output, (h, c)\n",
    "            \n",
    "        def __repr__(self):\n",
    "            return f\"PeepholeLSTMCell(input_size={self.input_size}, hidden_size={self.hidden_size}, dropout={self.dropout})\"\n",
    "        \n",
    "        def extra_repr(self):\n",
    "            return ''\n",
    "\n",
    "    def __init__(self, tokens, n_hidden=256, n_layers=2, drop_prob=0.5, lr=0.001):\n",
    "        super().__init__()\n",
    "        self.drop_prob = drop_prob\n",
    "        self.n_layers = n_layers\n",
    "        self.n_hidden = n_hidden\n",
    "        self.lr = lr\n",
    "\n",
    "        # creating character dictionaries\n",
    "        self.chars = tokens\n",
    "        self.int2char = dict(enumerate(self.chars))\n",
    "        self.char2int = {ch: ii for ii, ch in self.int2char.items()}\n",
    "\n",
    "        ## TODO: define the layers of the model\n",
    "        self.peephole_lstm0 = self.PeepholeLSTMCell(input_size=len(tokens), hidden_size=n_hidden, dropout=drop_prob)\n",
    "        for n in range(1, n_layers):\n",
    "            self.add_module(f\"peephole_lstm{n}\", self.PeepholeLSTMCell(input_size=n_hidden, hidden_size=n_hidden, dropout=drop_prob))\n",
    "        self.fc = nn.Linear(in_features=n_hidden, out_features=len(tokens))\n",
    "    \n",
    "    def forward(self, x, hidden=None):\n",
    "        ''' Forward pass through the network. \n",
    "            These inputs are x, and the hidden/cell state `hidden`. '''\n",
    "        if len(x.size()) != 3:\n",
    "            raise RuntimeError(f\"Invalid dimensions {x.size()} for the input tensor. \"\n",
    "                               \"A 3D tensor with dimensions [batch_size, sequence_length, n_features] is expected.\")\n",
    "        if hidden is None:\n",
    "            hidden = x.new_zeros(self.n_layers, x.size(0), 2 * self.hidden_size, requires_grad=False).chunk(chunks=2, dim=2)\n",
    "                \n",
    "        ## TODO: Get the outputs and the new hidden state from the lstm\n",
    "        out = x.transpose(0, 1)\n",
    "        new_hidden = torch.empty_like(hidden[0])\n",
    "        new_cell = torch.empty_like(hidden[1])\n",
    "        for l in range(self.n_layers):\n",
    "            outs = []\n",
    "            h = hidden[0][l]\n",
    "            c = hidden[1][l]\n",
    "            for step_batch in out:\n",
    "                out, (h, c) = self.__getattr__(f\"peephole_lstm{l}\")(step_batch, (h, c))\n",
    "                outs.append(out)\n",
    "            out = torch.stack(outs)\n",
    "            new_hidden[l] = h\n",
    "            new_cell[l] = c\n",
    "\n",
    "        out = out.transpose(0, 1).contiguous()\n",
    "\n",
    "        out = self.fc(out)\n",
    "        hidden = (new_hidden, new_cell)\n",
    "        \n",
    "        # return the final output and the hidden state\n",
    "        return out, hidden\n",
    "    \n",
    "    def init_hidden(self, batch_size, cuda=True):\n",
    "        ''' Initializes hidden state '''\n",
    "        # Create two new tensors with sizes n_layers x batch_size x n_hidden,\n",
    "        # initialized to zero, for hidden state and cell state of LSTM\n",
    "        weight = next(self.parameters()).data\n",
    "        \n",
    "        if cuda:\n",
    "            hidden = (weight.new(self.n_layers, batch_size, self.n_hidden).zero_().cuda(),\n",
    "                      weight.new(self.n_layers, batch_size, self.n_hidden).zero_().cuda())\n",
    "        else:\n",
    "            hidden = (weight.new(self.n_layers, batch_size, self.n_hidden).zero_(),\n",
    "                      weight.new(self.n_layers, batch_size, self.n_hidden).zero_())\n",
    "        \n",
    "        return hidden\n"
   ]
  },
  {
   "cell_type": "code",
   "execution_count": 13,
   "metadata": {},
   "outputs": [],
   "source": [
    "class MyCharRNN(nn.Module):\n",
    "    \n",
    "    def __init__(self, tokens, n_hidden=256, n_layers=2, drop_prob=0.5, lr=0.001):\n",
    "        super().__init__()\n",
    "        self.drop_prob = drop_prob\n",
    "        self.n_layers = n_layers\n",
    "        self.n_hidden = n_hidden\n",
    "        self.lr = lr\n",
    "\n",
    "        # creating character dictionaries\n",
    "        self.chars = tokens\n",
    "        self.int2char = dict(enumerate(self.chars))\n",
    "        self.char2int = {ch: ii for ii, ch in self.int2char.items()}\n",
    "\n",
    "        ## TODO: define the layers of the model\n",
    "        self.peephole_lstm0 = peephole_lstm_classes.PeepholeNormLSTMTorch(input_size=len(tokens), hidden_size=n_hidden, dropout=drop_prob)\n",
    "        for n in range(1, n_layers):\n",
    "            self.add_module(f\"peephole_lstm{n}\", peephole_lstm_classes.PeepholeNormLSTMTorch(input_size=n_hidden, hidden_size=n_hidden, dropout=drop_prob))\n",
    "        self.fc = nn.Linear(in_features=n_hidden, out_features=len(tokens))\n",
    "    \n",
    "    def forward(self, x, hidden=None):\n",
    "        ''' Forward pass through the network. \n",
    "            These inputs are x, and the hidden/cell state `hidden`. '''\n",
    "        if len(x.size()) != 3:\n",
    "            raise RuntimeError(f\"Invalid dimensions {x.size()} for the input tensor. \"\n",
    "                               \"A 3D tensor with dimensions [batch_size, sequence_length, n_features] is expected.\")\n",
    "        if hidden is None:\n",
    "            hidden = x.new_zeros(self.n_layers, x.size(0), 2 * self.hidden_size, requires_grad=False).chunk(chunks=2, dim=2)\n",
    "                \n",
    "        ## TODO: Get the outputs and the new hidden state from the lstm\n",
    "#         new_hidden = torch.empty_like(hidden[0])\n",
    "#         new_cell = torch.empty_like(hidden[1])\n",
    "        for l in range(self.n_layers):\n",
    "            x, (hidden[0][l], hidden[1][l]) = self.__getattr__(f\"peephole_lstm{l}\")(x, (hidden[0][l], hidden[1][l]))\n",
    "\n",
    "        x = self.fc(x)\n",
    "\n",
    "        # return the final output and the hidden state\n",
    "        return x, hidden\n",
    "    \n",
    "    def init_hidden(self, batch_size, cuda=True):\n",
    "        ''' Initializes hidden state '''\n",
    "        # Create two new tensors with sizes n_layers x batch_size x n_hidden,\n",
    "        # initialized to zero, for hidden state and cell state of LSTM\n",
    "        weight = next(self.parameters()).data\n",
    "        \n",
    "        if cuda:\n",
    "            hidden = (weight.new(self.n_layers, batch_size, self.n_hidden).zero_().cuda(),\n",
    "                      weight.new(self.n_layers, batch_size, self.n_hidden).zero_().cuda())\n",
    "        else:\n",
    "            hidden = (weight.new(self.n_layers, batch_size, self.n_hidden).zero_(),\n",
    "                      weight.new(self.n_layers, batch_size, self.n_hidden).zero_())\n",
    "        \n",
    "        return hidden\n"
   ]
  },
  {
   "cell_type": "markdown",
   "metadata": {},
   "source": [
    "## Time to train\n",
    "\n",
    "The train function gives us the ability to set the number of epochs, the learning rate, and other parameters.\n",
    "\n",
    "Below we're using an Adam optimizer and cross entropy loss since we are looking at character class scores as output. We calculate the loss and perform backpropagation, as usual!\n",
    "\n",
    "A couple of details about training: \n",
    ">* Within the batch loop, we detach the hidden state from its history; this time setting it equal to a new *tuple* variable because an LSTM has a hidden state that is a tuple of the hidden and cell states.\n",
    "* We use [`clip_grad_norm_`](https://pytorch.org/docs/stable/_modules/torch/nn/utils/clip_grad.html) to help prevent exploding gradients."
   ]
  },
  {
   "cell_type": "code",
   "execution_count": 14,
   "metadata": {},
   "outputs": [],
   "source": [
    "def train(net, data, epochs=10, batch_size=10, seq_length=50, lr=0.001, clip=5, val_frac=0.1, print_every=10):\n",
    "    ''' Training a network \n",
    "    \n",
    "        Arguments\n",
    "        ---------\n",
    "        \n",
    "        net: CharRNN network\n",
    "        data: text data to train the network\n",
    "        epochs: Number of epochs to train\n",
    "        batch_size: Number of mini-sequences per mini-batch, aka batch size\n",
    "        seq_length: Number of character steps per mini-batch\n",
    "        lr: learning rate\n",
    "        clip: gradient clipping\n",
    "        val_frac: Fraction of data to hold out for validation\n",
    "        print_every: Number of steps for printing training and validation loss\n",
    "    \n",
    "    '''\n",
    "    net.train()\n",
    "    \n",
    "    opt = torch.optim.Adam(net.parameters(), lr=lr)\n",
    "    criterion = nn.CrossEntropyLoss()\n",
    "    \n",
    "    # create training and validation data\n",
    "    val_idx = int(len(data)*(1-val_frac))\n",
    "    data, val_data = data[:val_idx], data[val_idx:]\n",
    "    \n",
    "    if (train_on_gpu):\n",
    "        net.cuda()\n",
    "    else:\n",
    "        net.cpu()\n",
    "    \n",
    "    counter = 0\n",
    "    n_chars = len(net.chars)\n",
    "    for e in range(epochs):\n",
    "        # initialize hidden state\n",
    "        h = net.init_hidden(batch_size, train_on_gpu)\n",
    "        \n",
    "        for x, y in get_batches(data, batch_size, seq_length):\n",
    "            counter += 1\n",
    "            \n",
    "            # One-hot encode our data and make them Torch tensors\n",
    "            x = one_hot_encode(x, n_chars)\n",
    "            inputs, targets = torch.from_numpy(x), torch.from_numpy(y)\n",
    "            \n",
    "            if train_on_gpu:\n",
    "                inputs, targets = inputs.cuda(), targets.cuda()\n",
    "\n",
    "            # Creating new variables for the hidden state, otherwise\n",
    "            # we'd backprop through the entire training history\n",
    "            h = tuple([each.data for each in h])\n",
    "\n",
    "            # zero accumulated gradients\n",
    "            net.zero_grad()\n",
    "            \n",
    "            # get the output from the model\n",
    "            output, h = net(inputs, h)\n",
    "            \n",
    "            # calculate the loss and perform backprop\n",
    "            loss = criterion(output.view(batch_size*seq_length, output.shape[-1]), targets.contiguous().view(batch_size*seq_length).long())\n",
    "            loss.backward()\n",
    "            # `clip_grad_norm` helps prevent the exploding gradient problem in RNNs / LSTMs.\n",
    "            nn.utils.clip_grad_norm_(net.parameters(), clip)\n",
    "            opt.step()\n",
    "            \n",
    "            # loss stats\n",
    "            if counter % print_every == 0:\n",
    "                # Get validation loss\n",
    "                val_h = net.init_hidden(batch_size, train_on_gpu)\n",
    "                val_losses = []\n",
    "                net.eval()\n",
    "                for x, y in get_batches(val_data, batch_size, seq_length):\n",
    "                    # One-hot encode our data and make them Torch tensors\n",
    "                    x = one_hot_encode(x, n_chars)\n",
    "                    x, y = torch.from_numpy(x), torch.from_numpy(y)\n",
    "                    \n",
    "                    # Creating new variables for the hidden state, otherwise\n",
    "                    # we'd backprop through the entire training history\n",
    "                    val_h = tuple([each.data for each in val_h])\n",
    "                    \n",
    "                    inputs, targets = x, y\n",
    "                    if(train_on_gpu):\n",
    "                        inputs, targets = inputs.cuda(), targets.cuda()\n",
    "\n",
    "                    output, val_h = net(inputs, val_h)\n",
    "                    val_loss = criterion(output.view(batch_size*seq_length, output.shape[-1]), targets.contiguous().view(batch_size*seq_length).long())\n",
    "                \n",
    "                    val_losses.append(val_loss.item())\n",
    "                \n",
    "                net.train() # reset to train mode after iterationg through validation data\n",
    "                \n",
    "                print(\"Epoch: {}/{}...\".format(e+1, epochs),\n",
    "                      \"Step: {}...\".format(counter),\n",
    "                      \"Loss: {:.4f}...\".format(loss.item()),\n",
    "                      \"Val Loss: {:.4f}\".format(np.mean(val_losses)))\n",
    "    torch.cuda.empty_cache()"
   ]
  },
  {
   "cell_type": "markdown",
   "metadata": {},
   "source": [
    "## Instantiating the model\n",
    "\n",
    "Now we can actually train the network. First we'll create the network itself, with some given hyperparameters. Then, define the mini-batches sizes, and start training!"
   ]
  },
  {
   "cell_type": "code",
   "execution_count": 15,
   "metadata": {},
   "outputs": [
    {
     "name": "stdout",
     "output_type": "stream",
     "text": [
      "MyCharRNN(\n",
      "  (peephole_lstm0): PeepholeNormLSTMTorch(input_size=83, hidden_size=300, dropout=0.0, momentum=0.1, eps=1e-08)\n",
      "  (peephole_lstm1): PeepholeNormLSTMTorch(input_size=300, hidden_size=300, dropout=0.0, momentum=0.1, eps=1e-08)\n",
      "  (peephole_lstm2): PeepholeNormLSTMTorch(input_size=300, hidden_size=300, dropout=0.0, momentum=0.1, eps=1e-08)\n",
      "  (fc): Linear(in_features=300, out_features=83, bias=True)\n",
      ")\n"
     ]
    }
   ],
   "source": [
    "## TODO: set you model hyperparameters\n",
    "# define and print the net\n",
    "n_hidden=300\n",
    "n_layers=3\n",
    "\n",
    "# net = CharRNN(chars, n_hidden, n_layers, drop_prob=0.5, lr=0.0001)\n",
    "net = MyCharRNN(chars, n_hidden, n_layers, drop_prob=0., lr=0.001)\n",
    "print(net)"
   ]
  },
  {
   "cell_type": "markdown",
   "metadata": {},
   "source": [
    "### Set your training hyperparameters!"
   ]
  },
  {
   "cell_type": "code",
   "execution_count": null,
   "metadata": {
    "scrolled": true
   },
   "outputs": [],
   "source": [
    "batch_size = 8\n",
    "seq_length = 500\n",
    "n_epochs = 1 # start small if you are just testing initial behavior\n",
    "\n",
    "# train the model\n",
    "train(net, encoded, epochs=n_epochs, batch_size=batch_size, seq_length=seq_length, lr=0.001, print_every=1)"
   ]
  },
  {
   "cell_type": "code",
   "execution_count": 17,
   "metadata": {},
   "outputs": [],
   "source": [
    "sleep(3)\n",
    "torch.cuda.empty_cache()"
   ]
  },
  {
   "cell_type": "markdown",
   "metadata": {},
   "source": [
    "## Getting the best model\n",
    "\n",
    "To set your hyperparameters to get the best performance, you'll want to watch the training and validation losses. If your training loss is much lower than the validation loss, you're overfitting. Increase regularization (more dropout) or use a smaller network. If the training and validation losses are close, you're underfitting so you can increase the size of the network."
   ]
  },
  {
   "cell_type": "markdown",
   "metadata": {},
   "source": [
    "## Hyperparameters\n",
    "\n",
    "Here are the hyperparameters for the network.\n",
    "\n",
    "In defining the model:\n",
    "* `n_hidden` - The number of units in the hidden layers.\n",
    "* `n_layers` - Number of hidden LSTM layers to use.\n",
    "\n",
    "We assume that dropout probability and learning rate will be kept at the default, in this example.\n",
    "\n",
    "And in training:\n",
    "* `batch_size` - Number of sequences running through the network in one pass.\n",
    "* `seq_length` - Number of characters in the sequence the network is trained on. Larger is better typically, the network will learn more long range dependencies. But it takes longer to train. 100 is typically a good number here.\n",
    "* `lr` - Learning rate for training\n",
    "\n",
    "Here's some good advice from Andrej Karpathy on training the network. I'm going to copy it in here for your benefit, but also link to [where it originally came from](https://github.com/karpathy/char-rnn#tips-and-tricks).\n",
    "\n",
    "> ## Tips and Tricks\n",
    "\n",
    ">### Monitoring Validation Loss vs. Training Loss\n",
    ">If you're somewhat new to Machine Learning or Neural Networks it can take a bit of expertise to get good models. The most important quantity to keep track of is the difference between your training loss (printed during training) and the validation loss (printed once in a while when the RNN is run on the validation data (by default every 1000 iterations)). In particular:\n",
    "\n",
    "> - If your training loss is much lower than validation loss then this means the network might be **overfitting**. Solutions to this are to decrease your network size, or to increase dropout. For example you could try dropout of 0.5 and so on.\n",
    "> - If your training/validation loss are about equal then your model is **underfitting**. Increase the size of your model (either number of layers or the raw number of neurons per layer)\n",
    "\n",
    "> ### Approximate number of parameters\n",
    "\n",
    "> The two most important parameters that control the model are `n_hidden` and `n_layers`. I would advise that you always use `n_layers` of either 2/3. The `n_hidden` can be adjusted based on how much data you have. The two important quantities to keep track of here are:\n",
    "\n",
    "> - The number of parameters in your model. This is printed when you start training.\n",
    "> - The size of your dataset. 1MB file is approximately 1 million characters.\n",
    "\n",
    ">These two should be about the same order of magnitude. It's a little tricky to tell. Here are some examples:\n",
    "\n",
    "> - I have a 100MB dataset and I'm using the default parameter settings (which currently print 150K parameters). My data size is significantly larger (100 mil >> 0.15 mil), so I expect to heavily underfit. I am thinking I can comfortably afford to make `n_hidden` larger.\n",
    "> - I have a 10MB dataset and running a 10 million parameter model. I'm slightly nervous and I'm carefully monitoring my validation loss. If it's larger than my training loss then I may want to try to increase dropout a bit and see if that helps the validation loss.\n",
    "\n",
    "> ### Best models strategy\n",
    "\n",
    ">The winning strategy to obtaining very good models (if you have the compute time) is to always err on making the network larger (as large as you're willing to wait for it to compute) and then try different dropout values (between 0,1). Whatever model has the best validation performance (the loss, written in the checkpoint filename, low is good) is the one you should use in the end.\n",
    "\n",
    ">It is very common in deep learning to run many different models with many different hyperparameter settings, and in the end take whatever checkpoint gave the best validation performance.\n",
    "\n",
    ">By the way, the size of your training and validation splits are also parameters. Make sure you have a decent amount of data in your validation set or otherwise the validation performance will be noisy and not very informative."
   ]
  },
  {
   "cell_type": "markdown",
   "metadata": {},
   "source": [
    "## Checkpoint\n",
    "\n",
    "After training, we'll save the model so we can load it again later if we need too. Here I'm saving the parameters needed to create the same architecture, the hidden layer hyperparameters and the text characters."
   ]
  },
  {
   "cell_type": "code",
   "execution_count": 17,
   "metadata": {},
   "outputs": [],
   "source": [
    "# change the name, for saving multiple files\n",
    "model_name = 'peeprnn.net'\n",
    "\n",
    "checkpoint = {'n_hidden': net.n_hidden,\n",
    "              'n_layers': net.n_layers,\n",
    "              'state_dict': net.state_dict(),\n",
    "              'tokens': net.chars}\n",
    "\n",
    "with open(model_name, 'wb') as f:\n",
    "    torch.save(checkpoint, f)"
   ]
  },
  {
   "cell_type": "markdown",
   "metadata": {},
   "source": [
    "---\n",
    "## Making Predictions\n",
    "\n",
    "Now that the model is trained, we'll want to sample from it and make predictions about next characters! To sample, we pass in a character and have the network predict the next character. Then we take that character, pass it back in, and get another predicted character. Just keep doing this and you'll generate a bunch of text!\n",
    "\n",
    "### A note on the `predict`  function\n",
    "\n",
    "The output of our RNN is from a fully-connected layer and it outputs a **distribution of next-character scores**.\n",
    "\n",
    "> To actually get the next character, we apply a softmax function, which gives us a *probability* distribution that we can then sample to predict the next character.\n",
    "\n",
    "### Top K sampling\n",
    "\n",
    "Our predictions come from a categorical probability distribution over all the possible characters. We can make the sample text and make it more reasonable to handle (with less variables) by only considering some $K$ most probable characters. This will prevent the network from giving us completely absurd characters while allowing it to introduce some noise and randomness into the sampled text. Read more about [topk, here](https://pytorch.org/docs/stable/torch.html#torch.topk).\n"
   ]
  },
  {
   "cell_type": "code",
   "execution_count": 18,
   "metadata": {},
   "outputs": [],
   "source": [
    "def predict(net, char, h=None, top_k=None):\n",
    "        ''' Given a character, predict the next character.\n",
    "            Returns the predicted character and the hidden state.\n",
    "        '''\n",
    "        \n",
    "        # tensor inputs\n",
    "        x = np.array([[net.char2int[char]]])\n",
    "        x = one_hot_encode(x, len(net.chars))\n",
    "        inputs = torch.from_numpy(x)\n",
    "        \n",
    "        if(train_on_gpu):\n",
    "            inputs = inputs.cuda()\n",
    "        \n",
    "        # detach hidden state from history\n",
    "        h = tuple([each.data for each in h])\n",
    "        # get the output of the model\n",
    "        out, h = net(inputs, h)\n",
    "\n",
    "        # get the character probabilities\n",
    "        p = F.softmax(out.view(-1, out.shape[-1]), dim=1).data\n",
    "        if(train_on_gpu):\n",
    "            p = p.cpu() # move to cpu\n",
    "        \n",
    "        # get top characters\n",
    "        if top_k is None:\n",
    "            top_ch = np.arange(len(net.chars))\n",
    "        else:\n",
    "            p, top_ch = p.topk(top_k)\n",
    "            top_ch = top_ch.numpy().squeeze()\n",
    "        \n",
    "        # select the likely next character with some element of randomness\n",
    "        p = p.numpy().squeeze()\n",
    "        char = np.random.choice(top_ch, p=p/p.sum())\n",
    "        \n",
    "        # return the encoded value of the predicted char and the hidden state\n",
    "        return net.int2char[char], h"
   ]
  },
  {
   "cell_type": "markdown",
   "metadata": {},
   "source": [
    "### Priming and generating text \n",
    "\n",
    "Typically you'll want to prime the network so you can build up a hidden state. Otherwise the network will start out generating characters at random. In general the first bunch of characters will be a little rough since it hasn't built up a long history of characters to predict from."
   ]
  },
  {
   "cell_type": "code",
   "execution_count": 19,
   "metadata": {},
   "outputs": [],
   "source": [
    "def sample(net, size, prime='The', top_k=None):\n",
    "        \n",
    "    if(train_on_gpu):\n",
    "        net.cuda()\n",
    "    else:\n",
    "        net.cpu()\n",
    "    \n",
    "    net.eval() # eval mode\n",
    "    \n",
    "    # First off, run through the prime characters\n",
    "    chars = [ch for ch in prime]\n",
    "    h = net.init_hidden(1)\n",
    "    for ch in prime:\n",
    "        char, h = predict(net, ch, h, top_k=top_k)\n",
    "\n",
    "    chars.append(char)\n",
    "    \n",
    "    # Now pass in the previous character and get a new one\n",
    "    for ii in range(size):\n",
    "        char, h = predict(net, chars[-1], h, top_k=top_k)\n",
    "        chars.append(char)\n",
    "\n",
    "    return ''.join(chars)"
   ]
  },
  {
   "cell_type": "code",
   "execution_count": 20,
   "metadata": {},
   "outputs": [
    {
     "name": "stdout",
     "output_type": "stream",
     "text": [
      "Anna cor torithe the ar thant tha sis the teran with alis the wim hed an sorithis, thot,\n",
      "\n",
      "ass oner,\n",
      " anded himoret he sang tor toud sheris sir ald\n",
      "se the sald hes and tot ing te wis hed she withere soring onth won tous, his aod he ho chite sho ch wes hate the thes, he an atindeng thim tound arerane hout, want tas oust are tald the shin tee thitin wor tal ther ontong he san shet hout th and and ar ale son tees hed\n",
      "\n",
      "\"\n",
      "\"\n",
      "thes, an atild.\n",
      "touthe he sirted ho thint tor wong tho se sot oud this ware whe the tat intitis thoter sand the sind\n",
      "\n",
      "\n",
      "he wor anghas are tin the song te wito the tor the we ther ont ine want, the wald hed teron siming seetont ishind hed hotes itting\n",
      " no ale hese we hed hot it an tatthit himor, att at atheng or whe ald ante an ale tithe simetin he sha there sas herang thout angis she to siterert it herind\n",
      "hhouthas al wang tithesenet oun hed terore sirerered she than she ase wot ho he angend to thas hase thesese se the so torat aot te she an to thou sat th the whesse seesth simed houned sas the sind wind wond shand th wang aned and wos the tin sarte tang, ande sous tinte toroud ang ond hed heded and ton sind he she sas the wote sangore whir hed wes tint ane the the se sothe tall the tonde tithessis and sittouthin se see sher thir ar hiss ond worine sat ho tout an the wos thor, thas thite and sis sal se tal tie the se he she thes ther, ho the tore sor hhe teet he wasess ored hang shand at wit ton she ho tar to thise ser as wale withint the so thering she win anded angh he ale th hat it tas hin she simith onde ard has hit wint of ha hire tas and toud serin tothe tongere torale tora toule ther oute war and the wered whed attonerin she tangint at hes tes ond\n",
      "tare ho shima tis ted souss oos and sed she to thone wasedent as tesendentit tat ar shas she so sor ang, hes, wor th hotherile and he wond we shed at the he he toud theristin sime aned anes aned se antho tere touthedenese thot the sithand\n",
      "hat oote tassed her and an hathe wous sas hede thin and son theringene sitin hass ing ou the ch the ther, sho tar toulis herererar the thett out ally his and ane ant therand. seshe the toud ange an ton so ted he thang anghe tith seest of hand as hin ande he touser hon sang as here sat hhe titt the hond ter he soreririd was tat ar the tha thin sang,,, tongilit ane she sher onge tone she to whed she and wh she wed het ater ofere to sing ane thetir thiting\n",
      "tan to wes ant ios hes it hase hous houte was her the her het tout and as th ter to the wime wind he ther sime she tan werithind hit th het if whe the she sal thas, the tone tore shed antis ser an won the his the at wer to changere weshore tored sous, hho cout of whine hat arteed war at the al te her oon sorertire her so sotithas and thar thet ind the sous the the cat ant an at and al wos ond ane winde an wate the wouthe wis sal shed. handered tore wong het tho sous hang his he thes has tat ind het at ant ing asere ate himese atting son art hed hat tore heril  ant indes and,\n",
      "\"he ald that oo ser thist on ast th har and sat or she sing onge tas atise wererth tond were the wouss totin wount an titi here asthange tor tin whe tho te wot ha thimes the hing, ant in ang sare thite tirite tin whand and sith oot ond whe touth of hes ind and thot tind sit sore and tine win thend ale sho sald hingot in hore totise,e thes horito sher ang of are tothed wot and hitt himered sathen hothe thit wor and he she shishe tous se at ted sore war tonest hathir soust ane sin wor alised thed\n",
      "sen tored hed an wherere the hithid, and ho the he so th tere honde tha sorerang an as tong and tan she thitt thand ses oreris has hathe hondine hhess he hes her ase te wat heras, hinere see te ter sore he winer,, thote tond and were tas to tous aned, and to arit she soun tiete and, atthe se to ton shes hat hered\n",
      " herere thes in son he an thind asdatetorit the we te wereng ang the sir wetteer sin ther tho co wore wonger hathes ores tharis ale sont ted hhede and anghoud ther ang she thit sas the whe ted ang ang he and at tas, to torat this hertonthint ang thist ath aldingen ang touss, se tor wos in the ther, hind ard out tho che tand. ate she hire hote hed, he the ser ted tee the wer she ane terer and\n",
      "thed ha hores,, an thot angh heran wonge whe wiro wan ther tore tout aod serald wond\n",
      "han she ther he she shes ane wed hit her tor and wing to sont ous ther and the te she hat in sared toris sotite hort at hou ther shathon ate wout tine thingert tited hin he angerin wis an ane wed and,,e sor het thite satt aletone weder ane se wast ar sotes ho seerin wand at the sind se ales oos terat athe shatede the the sor wouthor tithe tariridithed he wathint tiste alithon se soud ar there hes he the ther, so weres hed. as he sinde wone that houtind sathe wal hed hare than to wous hong onding histhin tist at hed wase his aned he serir he thim te and his tirine he ser arin hethend was tot he salithinged attho sass as ond al anghe wise we ther, sherere sore she hort ored\n",
      "tar thore he thit hin ting se ane to torote thit wat the torine songo to tange wond hond ted an tous, woullint thet ootitit ther torethe te and\n",
      " hir se he hind thithotherend andin sithes and ant and,\n",
      "\n",
      "ored thereres houting sithes in then houseng to to th ho whass he thed and we athondend thane aringind sitthoris see wate at tithise sot thes tor theran horind to hot areted\n",
      "he wareth then and he tire ter asedise he sined. he thene and tee ang han thing tirit the atet out and and an wine the sarding ald thired titt hese at herat and ter sing hou thed art and wese sored the shat the wat on she weras tes ang se thare ther ho wind ho the tor tied sor ting ale therite hongile ser she thithes,, he th thiride\n",
      "\n",
      "\n",
      "orer toresen he whe siterist an he hatere we to tas and\n",
      "ton thit sateed ateerind thet the ses oo hessener totilled and sing, al soule won the the tie he tor hind hist ofringing thortonge was orale the wedthend thit ha ser thet oo hand thorere the thinges oute at haste thire so tha se tot and wathe he sot ar tale sher sothe wand tit soud hore to wot aore wirered sort at ongith hhe win wer ong hot he wes ite tale and tot thes, th al tiestera ther soun wit on tas the sith ald that hhe and thed wang houn torise his hed the shit te serend angho  itestine tering an hime as watit he thote soud tie te whe sare sho sed\n",
      "he sis ho worthe hethang oo cout tout toulle sand tatito tor teed tout ondit the the se aness ane se thimeres and, toned\n",
      "the wass oud an hat ane ton sh he sit ha theraste sall hont ang ar te tore whe tedir and tis hes ald tothan tot int ang out toul tonthind he tees in and astite the wan th werat alditing as athend sin allin th tore tis wedengeras site site th the terang tithe the whor ang sale tind to thim we tire asd thit ald he tore torous the thit thot, torite the te toud hhes toteer oon hither, totise an therind wore terend, wing she the tate alis wortithans hot he tont ast ong to want ate tha conde he and,, an anestho that, sed tiere he he wor the tees thous ald anede tan het hand and,\n",
      "\n",
      "\n",
      "he tallit ao ter ous, thed hon wh wand alises touse sin singen ald, at hertere sis se the sesthes herere whe whontenethed antis hithen he att ho cee wor ang athathend sed ane to sile tis ang oud tar as hount inging and at hin tirethorint ating on tine the the who cotirongin tind, site thes he wos athith oothe thing he tesitin sore siter ho ton thot tothe whis tied ane see tald ware te ted, thest the the ther sand wald hhe ser oo tout aling he sis thonge whe sore hong or tat ardithe the whis wor thes antint, whe thas hint on wer the simad wetthe tha to ther the therit tee sit he tat houss and sored wattoute tar and thed thot hane soud the shing oo the thes the she sho whas, tere and hin sariter are wot ine sasthing her theredere se shend sim hangen sither thed\n",
      "\n",
      "ho sot ind sout his har wir te the him hes or here whe tho wor tone sessenge toud and aline tere the tot ongeng and ant therith tone tired tond the he wong ting alis here hand son the tot or har ant inged anes are ther oor tha sould him tot ant the artent torere was sit an with or sher tot of he teed hering and hered, ar tont ond she tit thime the as hereril to the thes if se the has, to wime ant of ha se thed thand won sh the sout hite soned\n",
      " ne was outhe the the hed hous he to thished te se wout onthed wose hes the tar arere titit tis wong on ther to sasserte wise te thoring tat ale tasestor hhite he son ha cerederen tounthe sor the touthe wal ha sangester at wher her tas antoned tie there whe this te sor withe wantis aod hit thett anther hhit shitered, and ar we tore wis ao tor she wint hhe ha the cound tothes ind terener ous, thes ang sorite shat hon soutesting, and sont alind, shat, tering as has sathe sout anding has aos tis ald he wher tore he teere the thed she weshind the houthe tores ind southe thang the sireris thot and athen whe sher ald, wat toth soras teroran to cerir te the touled tho thang hind and and histhat, weth hing attout her at an tere th hhes he seres te he wot thon thene ale the te wet he sest the sithand tand herere ha hat hed to the ting houtitith toredis thet ind wand are whe touterit ane sore wed sirerer he ang thes heranthes tat and waring al ser to tes te te the simed tho ther harit wos tee ter oo cee hererind.,\"\"\" aserithing ha cesithing and tasseril thed\n",
      " hing the hat th ane he tor to thane she and hed sont te thas thes is hed war han an waling, al wan tothit th thit anderer sorite the singe tote weris se shind he we ton wor this his ha se thede as and ase te tor ale hes himong and to wore sor tith of he thene whe ter and, aot this and thet aled, shim andiro herishend the simet ooseriresthen he wis hhede has tind the this ho soull theses ande ho tha se to herederon tart of tan sed wossing atee tir ant ore sot hou sat aot to sasth the shand tha sis hiserat he tath tondind, atherte so cotera shed the an to sone toust hh ther sin he the to hare se and tor herere hete te teron sat thot hite that hateseng as terate hhe wan whis ant the tis touther soud was te the hor won se hine sire w\n"
     ]
    }
   ],
   "source": [
    "print(sample(net, 10000, prime='Anna ', top_k=5))"
   ]
  },
  {
   "cell_type": "markdown",
   "metadata": {},
   "source": [
    "## Loading a checkpoint"
   ]
  },
  {
   "cell_type": "code",
   "execution_count": null,
   "metadata": {
    "collapsed": true
   },
   "outputs": [],
   "source": [
    "# Here we have loaded in a model that trained over 20 epochs `rnn_20_epoch.net`\n",
    "with open('rnn_x_epoch.net', 'rb') as f:\n",
    "    checkpoint = torch.load(f)\n",
    "    \n",
    "loaded = CharRNN(checkpoint['tokens'], n_hidden=checkpoint['n_hidden'], n_layers=checkpoint['n_layers'])\n",
    "loaded.load_state_dict(checkpoint['state_dict'])"
   ]
  },
  {
   "cell_type": "code",
   "execution_count": null,
   "metadata": {
    "collapsed": true
   },
   "outputs": [],
   "source": [
    "# Sample using a loaded model\n",
    "print(sample(loaded, 2000, top_k=5, prime=\"And Levin said\"))"
   ]
  },
  {
   "cell_type": "code",
   "execution_count": null,
   "metadata": {
    "collapsed": true
   },
   "outputs": [],
   "source": []
  }
 ],
 "metadata": {
  "kernelspec": {
   "display_name": "Python 3",
   "language": "python",
   "name": "python3"
  },
  "language_info": {
   "codemirror_mode": {
    "name": "ipython",
    "version": 3
   },
   "file_extension": ".py",
   "mimetype": "text/x-python",
   "name": "python",
   "nbconvert_exporter": "python",
   "pygments_lexer": "ipython3",
   "version": "3.6.7"
  }
 },
 "nbformat": 4,
 "nbformat_minor": 2
}
