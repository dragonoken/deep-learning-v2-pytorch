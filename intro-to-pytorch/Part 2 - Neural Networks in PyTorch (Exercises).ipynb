{
 "cells": [
  {
   "cell_type": "markdown",
   "metadata": {},
   "source": [
    "# Neural networks with PyTorch\n",
    "\n",
    "Deep learning networks tend to be massive with dozens or hundreds of layers, that's where the term \"deep\" comes from. You can build one of these deep networks using only weight matrices as we did in the previous notebook, but in general it's very cumbersome and difficult to implement. PyTorch has a nice module `nn` that provides a nice way to efficiently build large neural networks."
   ]
  },
  {
   "cell_type": "code",
   "execution_count": 1,
   "metadata": {},
   "outputs": [],
   "source": [
    "# Import necessary packages\n",
    "\n",
    "%matplotlib inline\n",
    "%config InlineBackend.figure_format = 'retina'\n",
    "\n",
    "import numpy as np\n",
    "import torch\n",
    "\n",
    "import helper\n",
    "\n",
    "import matplotlib.pyplot as plt"
   ]
  },
  {
   "cell_type": "markdown",
   "metadata": {},
   "source": [
    "\n",
    "Now we're going to build a larger network that can solve a (formerly) difficult problem, identifying text in an image. Here we'll use the MNIST dataset which consists of greyscale handwritten digits. Each image is 28x28 pixels, you can see a sample below\n",
    "\n",
    "<img src='assets/mnist.png'>\n",
    "\n",
    "Our goal is to build a neural network that can take one of these images and predict the digit in the image.\n",
    "\n",
    "First up, we need to get our dataset. This is provided through the `torchvision` package. The code below will download the MNIST dataset, then create training and test datasets for us. Don't worry too much about the details here, you'll learn more about this later."
   ]
  },
  {
   "cell_type": "code",
   "execution_count": 2,
   "metadata": {},
   "outputs": [
    {
     "name": "stdout",
     "output_type": "stream",
     "text": [
      "Downloading http://yann.lecun.com/exdb/mnist/train-images-idx3-ubyte.gz\n",
      "Downloading http://yann.lecun.com/exdb/mnist/train-labels-idx1-ubyte.gz\n",
      "Downloading http://yann.lecun.com/exdb/mnist/t10k-images-idx3-ubyte.gz\n",
      "Downloading http://yann.lecun.com/exdb/mnist/t10k-labels-idx1-ubyte.gz\n",
      "Processing...\n",
      "Done!\n"
     ]
    }
   ],
   "source": [
    "### Run this cell\n",
    "\n",
    "from torchvision import datasets, transforms\n",
    "\n",
    "# Define a transform to normalize the data\n",
    "transform = transforms.Compose([transforms.ToTensor(),\n",
    "                              transforms.Normalize((0.5,), (0.5,)),\n",
    "                              ])\n",
    "\n",
    "# Download and load the training data\n",
    "trainset = datasets.MNIST('~/.pytorch/MNIST_data/', download=True, train=True, transform=transform)\n",
    "trainloader = torch.utils.data.DataLoader(trainset, batch_size=64, shuffle=True)"
   ]
  },
  {
   "cell_type": "markdown",
   "metadata": {},
   "source": [
    "We have the training data loaded into `trainloader` and we make that an iterator with `iter(trainloader)`. Later, we'll use this to loop through the dataset for training, like\n",
    "\n",
    "```python\n",
    "for image, label in trainloader:\n",
    "    ## do things with images and labels\n",
    "```\n",
    "\n",
    "You'll notice I created the `trainloader` with a batch size of 64, and `shuffle=True`. The batch size is the number of images we get in one iteration from the data loader and pass through our network, often called a *batch*. And `shuffle=True` tells it to shuffle the dataset every time we start going through the data loader again. But here I'm just grabbing the first batch so we can check out the data. We can see below that `images` is just a tensor with size `(64, 1, 28, 28)`. So, 64 images per batch, 1 color channel, and 28x28 images."
   ]
  },
  {
   "cell_type": "code",
   "execution_count": 3,
   "metadata": {},
   "outputs": [
    {
     "name": "stdout",
     "output_type": "stream",
     "text": [
      "<class 'torch.Tensor'>\n",
      "torch.Size([64, 1, 28, 28])\n",
      "torch.Size([64])\n"
     ]
    }
   ],
   "source": [
    "dataiter = iter(trainloader)\n",
    "images, labels = dataiter.next()\n",
    "print(type(images))\n",
    "print(images.shape)\n",
    "print(labels.shape)"
   ]
  },
  {
   "cell_type": "markdown",
   "metadata": {},
   "source": [
    "This is what one of the images looks like. "
   ]
  },
  {
   "cell_type": "code",
   "execution_count": 4,
   "metadata": {},
   "outputs": [
    {
     "data": {
      "image/png": "[encoded data removed]",
      "text/plain": [
       "<Figure size 432x288 with 1 Axes>"
      ]
     },
     "metadata": {
      "image/png": {
       "height": 250,
       "width": 253
      },
      "needs_background": "light"
     },
     "output_type": "display_data"
    }
   ],
   "source": [
    "plt.imshow(images[1].numpy().squeeze(), cmap='Greys_r');"
   ]
  },
  {
   "cell_type": "markdown",
   "metadata": {},
   "source": [
    "First, let's try to build a simple network for this dataset using weight matrices and matrix multiplications. Then, we'll see how to do it using PyTorch's `nn` module which provides a much more convenient and powerful method for defining network architectures.\n",
    "\n",
    "The networks you've seen so far are called *fully-connected* or *dense* networks. Each unit in one layer is connected to each unit in the next layer. In fully-connected networks, the input to each layer must be a one-dimensional vector (which can be stacked into a 2D tensor as a batch of multiple examples). However, our images are 28x28 2D tensors, so we need to convert them into 1D vectors. Thinking about sizes, we need to convert the batch of images with shape `(64, 1, 28, 28)` to a have a shape of `(64, 784)`, 784 is 28 times 28. This is typically called *flattening*, we flattened the 2D images into 1D vectors.\n",
    "\n",
    "Previously you built a network with one output unit. Here we need 10 output units, one for each digit. We want our network to predict the digit shown in an image, so what we'll do is calculate probabilities that the image is of any one digit or class. This ends up being a discrete probability distribution over the classes (digits) that tells us the most likely class for the image. That means we need 10 output units for the 10 classes (digits). We'll see how to convert the network output into a probability distribution next.\n",
    "\n",
    "> **Exercise:** Flatten the batch of images `images`. Then build a multi-layer network with 784 input units, 256 hidden units, and 10 output units using random tensors for the weights and biases. For now, use a sigmoid activation for the hidden layer. Leave the output layer without an activation, we'll add one that gives us a probability distribution next."
   ]
  },
  {
   "cell_type": "code",
   "execution_count": 55,
   "metadata": {},
   "outputs": [
    {
     "name": "stdout",
     "output_type": "stream",
     "text": [
      "torch.Size([64, 10])\n"
     ]
    }
   ],
   "source": [
    "## Your solution\n",
    "images = images.flatten(start_dim=1)\n",
    "\n",
    "n_inputs = images.shape[1]\n",
    "n_hiddens = 256\n",
    "n_outputs = 10\n",
    "\n",
    "W1 = torch.randn((n_inputs, n_hiddens)) * np.sqrt(2 / (n_inputs + n_hiddens))\n",
    "W2 = torch.randn((n_hiddens, n_outputs)) * np.sqrt(2 / (n_hiddens + n_outputs))\n",
    "\n",
    "B1 = torch.randn(n_hiddens)\n",
    "B2 = torch.randn(1, n_outputs)\n",
    "\n",
    "out = torch.mm(torch.mm(images, W1) + B1, W2) + B2\n",
    "print(out.shape)"
   ]
  },
  {
   "cell_type": "markdown",
   "metadata": {},
   "source": [
    "Now we have 10 outputs for our network. We want to pass in an image to our network and get out a probability distribution over the classes that tells us the likely class(es) the image belongs to. Something that looks like this:\n",
    "<img src='assets/image_distribution.png' width=500px>\n",
    "\n",
    "Here we see that the probability for each class is roughly the same. This is representing an untrained network, it hasn't seen any data yet so it just returns a uniform distribution with equal probabilities for each class.\n",
    "\n",
    "To calculate this probability distribution, we often use the [**softmax** function](https://en.wikipedia.org/wiki/Softmax_function). Mathematically this looks like\n",
    "\n",
    "$$\n",
    "\\Large \\sigma(x_i) = \\cfrac{e^{x_i}}{\\sum_k^K{e^{x_k}}}\n",
    "$$\n",
    "\n",
    "What this does is squish each input $x_i$ between 0 and 1 and normalizes the values to give you a proper probability distribution where the probabilites sum up to one.\n",
    "\n",
    "> **Exercise:** Implement a function `softmax` that performs the softmax calculation and returns probability distributions for each example in the batch. Note that you'll need to pay attention to the shapes when doing this. If you have a tensor `a` with shape `(64, 10)` and a tensor `b` with shape `(64,)`, doing `a/b` will give you an error because PyTorch will try to do the division across the columns (called broadcasting) but you'll get a size mismatch. The way to think about this is for each of the 64 examples, you only want to divide by one value, the sum in the denominator. So you need `b` to have a shape of `(64, 1)`. This way PyTorch will divide the 10 values in each row of `a` by the one value in each row of `b`. Pay attention to how you take the sum as well. You'll need to define the `dim` keyword in `torch.sum`. Setting `dim=0` takes the sum across the rows while `dim=1` takes the sum across the columns."
   ]
  },
  {
   "cell_type": "code",
   "execution_count": 56,
   "metadata": {},
   "outputs": [
    {
     "name": "stdout",
     "output_type": "stream",
     "text": [
      "torch.Size([64, 10])\n",
      "tensor([1.0000, 1.0000, 1.0000, 1.0000, 1.0000, 1.0000, 1.0000, 1.0000, 1.0000,\n",
      "        1.0000, 1.0000, 1.0000, 1.0000, 1.0000, 1.0000, 1.0000, 1.0000, 1.0000,\n",
      "        1.0000, 1.0000, 1.0000, 1.0000, 1.0000, 1.0000, 1.0000, 1.0000, 1.0000,\n",
      "        1.0000, 1.0000, 1.0000, 1.0000, 1.0000, 1.0000, 1.0000, 1.0000, 1.0000,\n",
      "        1.0000, 1.0000, 1.0000, 1.0000, 1.0000, 1.0000, 1.0000, 1.0000, 1.0000,\n",
      "        1.0000, 1.0000, 1.0000, 1.0000, 1.0000, 1.0000, 1.0000, 1.0000, 1.0000,\n",
      "        1.0000, 1.0000, 1.0000, 1.0000, 1.0000, 1.0000, 1.0000, 1.0000, 1.0000,\n",
      "        1.0000])\n"
     ]
    }
   ],
   "source": [
    "def softmax(x):\n",
    "    return x.exp() / x.exp().sum(dim=1, keepdim=True)\n",
    "\n",
    "# Here, out should be the output of the network in the previous excercise with shape (64,10)\n",
    "probabilities = softmax(out)\n",
    "\n",
    "# Does it have the right shape? Should be (64, 10)\n",
    "print(probabilities.shape)\n",
    "# Does it sum to 1?\n",
    "print(probabilities.sum(dim=1))"
   ]
  },
  {
   "cell_type": "markdown",
   "metadata": {},
   "source": [
    "## Building networks with PyTorch\n",
    "\n",
    "PyTorch provides a module `nn` that makes building networks much simpler. Here I'll show you how to build the same one as above with 784 inputs, 256 hidden units, 10 output units and a softmax output."
   ]
  },
  {
   "cell_type": "code",
   "execution_count": 20,
   "metadata": {},
   "outputs": [],
   "source": [
    "from torch import nn"
   ]
  },
  {
   "cell_type": "code",
   "execution_count": 21,
   "metadata": {},
   "outputs": [],
   "source": [
    "class Network(nn.Module):\n",
    "    def __init__(self):\n",
    "        super().__init__()\n",
    "        \n",
    "        # Inputs to hidden layer linear transformation\n",
    "        self.hidden = nn.Linear(784, 256)\n",
    "        # Output layer, 10 units - one for each digit\n",
    "        self.output = nn.Linear(256, 10)\n",
    "        \n",
    "        # Define sigmoid activation and softmax output \n",
    "        self.sigmoid = nn.Sigmoid()\n",
    "        self.softmax = nn.Softmax(dim=1)\n",
    "        \n",
    "    def forward(self, x):\n",
    "        # Pass the input tensor through each of our operations\n",
    "        x = self.hidden(x)\n",
    "        x = self.sigmoid(x)\n",
    "        x = self.output(x)\n",
    "        x = self.softmax(x)\n",
    "        \n",
    "        return x"
   ]
  },
  {
   "cell_type": "markdown",
   "metadata": {},
   "source": [
    "Let's go through this bit by bit.\n",
    "\n",
    "```python\n",
    "class Network(nn.Module):\n",
    "```\n",
    "\n",
    "Here we're inheriting from `nn.Module`. Combined with `super().__init__()` this creates a class that tracks the architecture and provides a lot of useful methods and attributes. It is mandatory to inherit from `nn.Module` when you're creating a class for your network. The name of the class itself can be anything.\n",
    "\n",
    "```python\n",
    "self.hidden = nn.Linear(784, 256)\n",
    "```\n",
    "\n",
    "This line creates a module for a linear transformation, $x\\mathbf{W} + b$, with 784 inputs and 256 outputs and assigns it to `self.hidden`. The module automatically creates the weight and bias tensors which we'll use in the `forward` method. You can access the weight and bias tensors once the network (`net`) is created with `net.hidden.weight` and `net.hidden.bias`.\n",
    "\n",
    "```python\n",
    "self.output = nn.Linear(256, 10)\n",
    "```\n",
    "\n",
    "Similarly, this creates another linear transformation with 256 inputs and 10 outputs.\n",
    "\n",
    "```python\n",
    "self.sigmoid = nn.Sigmoid()\n",
    "self.softmax = nn.Softmax(dim=1)\n",
    "```\n",
    "\n",
    "Here I defined operations for the sigmoid activation and softmax output. Setting `dim=1` in `nn.Softmax(dim=1)` calculates softmax across the columns.\n",
    "\n",
    "```python\n",
    "def forward(self, x):\n",
    "```\n",
    "\n",
    "PyTorch networks created with `nn.Module` must have a `forward` method defined. It takes in a tensor `x` and passes it through the operations you defined in the `__init__` method.\n",
    "\n",
    "```python\n",
    "x = self.hidden(x)\n",
    "x = self.sigmoid(x)\n",
    "x = self.output(x)\n",
    "x = self.softmax(x)\n",
    "```\n",
    "\n",
    "Here the input tensor `x` is passed through each operation a reassigned to `x`. We can see that the input tensor goes through the hidden layer, then a sigmoid function, then the output layer, and finally the softmax function. It doesn't matter what you name the variables here, as long as the inputs and outputs of the operations match the network architecture you want to build. The order in which you define things in the `__init__` method doesn't matter, but you'll need to sequence the operations correctly in the `forward` method.\n",
    "\n",
    "Now we can create a `Network` object."
   ]
  },
  {
   "cell_type": "code",
   "execution_count": 22,
   "metadata": {},
   "outputs": [
    {
     "data": {
      "text/plain": [
       "Network(\n",
       "  (hidden): Linear(in_features=784, out_features=256, bias=True)\n",
       "  (output): Linear(in_features=256, out_features=10, bias=True)\n",
       "  (sigmoid): Sigmoid()\n",
       "  (softmax): Softmax()\n",
       ")"
      ]
     },
     "execution_count": 22,
     "metadata": {},
     "output_type": "execute_result"
    }
   ],
   "source": [
    "# Create the network and look at it's text representation\n",
    "model = Network()\n",
    "model"
   ]
  },
  {
   "cell_type": "markdown",
   "metadata": {},
   "source": [
    "You can define the network somewhat more concisely and clearly using the `torch.nn.functional` module. This is the most common way you'll see networks defined as many operations are simple element-wise functions. We normally import this module as `F`, `import torch.nn.functional as F`."
   ]
  },
  {
   "cell_type": "code",
   "execution_count": 23,
   "metadata": {},
   "outputs": [],
   "source": [
    "import torch.nn.functional as F\n",
    "\n",
    "class Network(nn.Module):\n",
    "    def __init__(self):\n",
    "        super().__init__()\n",
    "        # Inputs to hidden layer linear transformation\n",
    "        self.hidden = nn.Linear(784, 256)\n",
    "        # Output layer, 10 units - one for each digit\n",
    "        self.output = nn.Linear(256, 10)\n",
    "        \n",
    "    def forward(self, x):\n",
    "        # Hidden layer with sigmoid activation\n",
    "        x = F.sigmoid(self.hidden(x))\n",
    "        # Output layer with softmax activation\n",
    "        x = F.softmax(self.output(x), dim=1)\n",
    "        \n",
    "        return x"
   ]
  },
  {
   "cell_type": "markdown",
   "metadata": {},
   "source": [
    "### Activation functions\n",
    "\n",
    "So far we've only been looking at the softmax activation, but in general any function can be used as an activation function. The only requirement is that for a network to approximate a non-linear function, the activation functions must be non-linear. Here are a few more examples of common activation functions: Tanh (hyperbolic tangent), and ReLU (rectified linear unit).\n",
    "\n",
    "<img src=\"assets/activation.png\" width=700px>\n",
    "\n",
    "In practice, the ReLU function is used almost exclusively as the activation function for hidden layers."
   ]
  },
  {
   "cell_type": "markdown",
   "metadata": {},
   "source": [
    "### Your Turn to Build a Network\n",
    "\n",
    "<img src=\"assets/mlp_mnist.png\" width=600px>\n",
    "\n",
    "> **Exercise:** Create a network with 784 input units, a hidden layer with 128 units and a ReLU activation, then a hidden layer with 64 units and a ReLU activation, and finally an output layer with a softmax activation as shown above. You can use a ReLU activation with the `nn.ReLU` module or `F.relu` function."
   ]
  },
  {
   "cell_type": "code",
   "execution_count": 65,
   "metadata": {
    "scrolled": true
   },
   "outputs": [],
   "source": [
    "## Your solution here\n",
    "class MNetst(nn.Module):\n",
    "    def __init__(self):\n",
    "        super().__init__()\n",
    "        \n",
    "        self.hidden1 = nn.Linear(784, 128)\n",
    "        self.hidden2 = nn.Linear(128, 64)\n",
    "        self.output = nn.Linear(64, 10)\n",
    "        \n",
    "        self.relu = nn.ReLU()\n",
    "        self.softmax = nn.Softmax(dim=1)\n",
    "        \n",
    "    def forward(self, x):\n",
    "\n",
    "        x = self.hidden1(x)\n",
    "        x = self.relu(x)\n",
    "\n",
    "        x = self.hidden2(x)\n",
    "        x = self.relu(x)\n",
    "            \n",
    "        x = self.output(x)\n",
    "        x = self.softmax(x)\n",
    "        \n",
    "        return x\n",
    "    \n",
    "model = MNetst()"
   ]
  },
  {
   "cell_type": "markdown",
   "metadata": {},
   "source": [
    "### Initializing weights and biases\n",
    "\n",
    "The weights and such are automatically initialized for you, but it's possible to customize how they are initialized. The weights and biases are tensors attached to the layer you defined, you can get them with `model.fc1.weight` for instance."
   ]
  },
  {
   "cell_type": "code",
   "execution_count": 66,
   "metadata": {},
   "outputs": [
    {
     "name": "stdout",
     "output_type": "stream",
     "text": [
      "Parameter containing:\n",
      "tensor([[-0.0239,  0.0091, -0.0127,  ...,  0.0032,  0.0106,  0.0346],\n",
      "        [ 0.0096, -0.0349, -0.0316,  ...,  0.0327, -0.0237, -0.0159],\n",
      "        [-0.0253, -0.0354, -0.0217,  ...,  0.0046, -0.0333,  0.0286],\n",
      "        ...,\n",
      "        [-0.0348, -0.0249,  0.0208,  ...,  0.0072,  0.0021, -0.0167],\n",
      "        [ 0.0158, -0.0279, -0.0255,  ..., -0.0174,  0.0087,  0.0144],\n",
      "        [ 0.0350,  0.0326, -0.0178,  ..., -0.0188, -0.0027, -0.0316]],\n",
      "       requires_grad=True)\n",
      "Parameter containing:\n",
      "tensor([ 0.0110,  0.0291, -0.0336,  0.0256, -0.0108, -0.0235, -0.0287,  0.0135,\n",
      "         0.0128, -0.0036, -0.0220,  0.0178,  0.0067,  0.0131, -0.0142, -0.0187,\n",
      "        -0.0091,  0.0305,  0.0127,  0.0174, -0.0196,  0.0291,  0.0037, -0.0269,\n",
      "         0.0055, -0.0285,  0.0299, -0.0207,  0.0283, -0.0165,  0.0342,  0.0218,\n",
      "         0.0006, -0.0059,  0.0252, -0.0134, -0.0352, -0.0240,  0.0299, -0.0277,\n",
      "         0.0099, -0.0099, -0.0229,  0.0279,  0.0268, -0.0080,  0.0037,  0.0118,\n",
      "         0.0331,  0.0326, -0.0163, -0.0152,  0.0027,  0.0143, -0.0197,  0.0161,\n",
      "        -0.0253,  0.0125, -0.0127, -0.0335, -0.0038,  0.0203, -0.0151, -0.0152,\n",
      "        -0.0116, -0.0272,  0.0203, -0.0246,  0.0319,  0.0190,  0.0267, -0.0261,\n",
      "         0.0159, -0.0321,  0.0227,  0.0020,  0.0050,  0.0149, -0.0324,  0.0100,\n",
      "         0.0018,  0.0209,  0.0075,  0.0186, -0.0295, -0.0241,  0.0002, -0.0064,\n",
      "        -0.0088,  0.0156,  0.0318,  0.0252,  0.0236,  0.0207,  0.0323,  0.0353,\n",
      "         0.0279, -0.0331, -0.0167, -0.0175,  0.0309, -0.0157,  0.0041,  0.0006,\n",
      "        -0.0040,  0.0144, -0.0237,  0.0207, -0.0288,  0.0082, -0.0279, -0.0337,\n",
      "        -0.0195, -0.0072,  0.0065, -0.0269, -0.0069, -0.0170, -0.0310,  0.0151,\n",
      "         0.0009,  0.0183,  0.0175,  0.0128,  0.0236, -0.0277, -0.0347, -0.0274],\n",
      "       requires_grad=True)\n"
     ]
    }
   ],
   "source": [
    "# print(model.fc1.weight)\n",
    "# print(model.fc1.bias)\n",
    "print(model.hidden1.weight)\n",
    "print(model.hidden1.bias)"
   ]
  },
  {
   "cell_type": "markdown",
   "metadata": {},
   "source": [
    "For custom initialization, we want to modify these tensors in place. These are actually autograd *Variables*, so we need to get back the actual tensors with `model.fc1.weight.data`. Once we have the tensors, we can fill them with zeros (for biases) or random normal values."
   ]
  },
  {
   "cell_type": "code",
   "execution_count": 67,
   "metadata": {},
   "outputs": [
    {
     "data": {
      "text/plain": [
       "tensor([0., 0., 0., 0., 0., 0., 0., 0., 0., 0., 0., 0., 0., 0., 0., 0., 0., 0.,\n",
       "        0., 0., 0., 0., 0., 0., 0., 0., 0., 0., 0., 0., 0., 0., 0., 0., 0., 0.,\n",
       "        0., 0., 0., 0., 0., 0., 0., 0., 0., 0., 0., 0., 0., 0., 0., 0., 0., 0.,\n",
       "        0., 0., 0., 0., 0., 0., 0., 0., 0., 0., 0., 0., 0., 0., 0., 0., 0., 0.,\n",
       "        0., 0., 0., 0., 0., 0., 0., 0., 0., 0., 0., 0., 0., 0., 0., 0., 0., 0.,\n",
       "        0., 0., 0., 0., 0., 0., 0., 0., 0., 0., 0., 0., 0., 0., 0., 0., 0., 0.,\n",
       "        0., 0., 0., 0., 0., 0., 0., 0., 0., 0., 0., 0., 0., 0., 0., 0., 0., 0.,\n",
       "        0., 0.])"
      ]
     },
     "execution_count": 67,
     "metadata": {},
     "output_type": "execute_result"
    }
   ],
   "source": [
    "# Set biases to all zeros\n",
    "model.hidden1.bias.data.fill_(0)"
   ]
  },
  {
   "cell_type": "code",
   "execution_count": 68,
   "metadata": {},
   "outputs": [
    {
     "data": {
      "text/plain": [
       "tensor([[ 0.0095,  0.0026,  0.0022,  ..., -0.0003,  0.0025, -0.0085],\n",
       "        [-0.0039, -0.0040, -0.0147,  ..., -0.0130, -0.0162, -0.0013],\n",
       "        [ 0.0079,  0.0119,  0.0024,  ..., -0.0052, -0.0090, -0.0001],\n",
       "        ...,\n",
       "        [-0.0041, -0.0323, -0.0010,  ..., -0.0086,  0.0079,  0.0085],\n",
       "        [ 0.0090, -0.0212, -0.0041,  ..., -0.0023,  0.0008, -0.0015],\n",
       "        [-0.0101,  0.0049,  0.0088,  ...,  0.0164,  0.0097,  0.0115]])"
      ]
     },
     "execution_count": 68,
     "metadata": {},
     "output_type": "execute_result"
    }
   ],
   "source": [
    "# sample from random normal with standard dev = 0.01\n",
    "model.hidden1.weight.data.normal_(std=0.01)"
   ]
  },
  {
   "cell_type": "code",
   "execution_count": 69,
   "metadata": {
    "scrolled": true
   },
   "outputs": [
    {
     "name": "stdout",
     "output_type": "stream",
     "text": [
      "Parameter containing:\n",
      "tensor([[ 0.0095,  0.0026,  0.0022,  ..., -0.0003,  0.0025, -0.0085],\n",
      "        [-0.0039, -0.0040, -0.0147,  ..., -0.0130, -0.0162, -0.0013],\n",
      "        [ 0.0079,  0.0119,  0.0024,  ..., -0.0052, -0.0090, -0.0001],\n",
      "        ...,\n",
      "        [-0.0041, -0.0323, -0.0010,  ..., -0.0086,  0.0079,  0.0085],\n",
      "        [ 0.0090, -0.0212, -0.0041,  ..., -0.0023,  0.0008, -0.0015],\n",
      "        [-0.0101,  0.0049,  0.0088,  ...,  0.0164,  0.0097,  0.0115]],\n",
      "       requires_grad=True)\n",
      "Parameter containing:\n",
      "tensor([0., 0., 0., 0., 0., 0., 0., 0., 0., 0., 0., 0., 0., 0., 0., 0., 0., 0.,\n",
      "        0., 0., 0., 0., 0., 0., 0., 0., 0., 0., 0., 0., 0., 0., 0., 0., 0., 0.,\n",
      "        0., 0., 0., 0., 0., 0., 0., 0., 0., 0., 0., 0., 0., 0., 0., 0., 0., 0.,\n",
      "        0., 0., 0., 0., 0., 0., 0., 0., 0., 0., 0., 0., 0., 0., 0., 0., 0., 0.,\n",
      "        0., 0., 0., 0., 0., 0., 0., 0., 0., 0., 0., 0., 0., 0., 0., 0., 0., 0.,\n",
      "        0., 0., 0., 0., 0., 0., 0., 0., 0., 0., 0., 0., 0., 0., 0., 0., 0., 0.,\n",
      "        0., 0., 0., 0., 0., 0., 0., 0., 0., 0., 0., 0., 0., 0., 0., 0., 0., 0.,\n",
      "        0., 0.], requires_grad=True)\n",
      "\n",
      "\n",
      "Parameter containing:\n",
      "tensor([[-0.0158, -0.0028,  0.0181,  ..., -0.0383, -0.0769,  0.0575],\n",
      "        [-0.0612,  0.0013,  0.0798,  ...,  0.0851, -0.0330, -0.0619],\n",
      "        [ 0.0815,  0.0836,  0.0062,  ..., -0.0475,  0.0318,  0.0536],\n",
      "        ...,\n",
      "        [-0.0433, -0.0810, -0.0174,  ...,  0.0805,  0.0645, -0.0457],\n",
      "        [ 0.0098, -0.0673, -0.0760,  ..., -0.0308,  0.0305, -0.0774],\n",
      "        [ 0.0862,  0.0037,  0.0229,  ...,  0.0754, -0.0505,  0.0448]],\n",
      "       requires_grad=True)\n",
      "Parameter containing:\n",
      "tensor([ 0.0219, -0.0138, -0.0414,  0.0603,  0.0379, -0.0277,  0.0491,  0.0095,\n",
      "         0.0210, -0.0633,  0.0541, -0.0726, -0.0583,  0.0598, -0.0576, -0.0297,\n",
      "        -0.0224,  0.0424, -0.0617,  0.0864, -0.0774,  0.0360, -0.0370,  0.0160,\n",
      "        -0.0658,  0.0427, -0.0157, -0.0676, -0.0013,  0.0726,  0.0156, -0.0829,\n",
      "        -0.0587, -0.0376,  0.0592, -0.0597, -0.0312,  0.0456, -0.0274, -0.0877,\n",
      "         0.0257,  0.0436, -0.0800, -0.0018, -0.0048,  0.0711,  0.0174, -0.0631,\n",
      "        -0.0368, -0.0306,  0.0259,  0.0164,  0.0866,  0.0679, -0.0519,  0.0787,\n",
      "        -0.0018,  0.0863,  0.0609,  0.0421, -0.0500,  0.0250, -0.0487,  0.0613],\n",
      "       requires_grad=True)\n",
      "\n",
      "\n",
      "Parameter containing:\n",
      "tensor([[-0.0658, -0.0718, -0.0246,  0.0399,  0.1021, -0.1215,  0.0340,  0.0135,\n",
      "         -0.1017,  0.0412, -0.0073,  0.1192, -0.0530,  0.0276, -0.0402,  0.0094,\n",
      "         -0.0044,  0.1037,  0.1211, -0.0660,  0.1215, -0.1006, -0.0828,  0.0143,\n",
      "          0.1077, -0.0651,  0.0345,  0.0912,  0.1145, -0.0087, -0.0938,  0.0371,\n",
      "         -0.0216,  0.1097,  0.0587,  0.0314, -0.0110,  0.0286,  0.0042, -0.0431,\n",
      "          0.0029,  0.1177,  0.0935, -0.0629, -0.0432, -0.1177,  0.0728, -0.0318,\n",
      "         -0.0743, -0.0112,  0.0689,  0.0571, -0.0319, -0.0387,  0.0821, -0.0144,\n",
      "         -0.0049,  0.0379, -0.0828,  0.1049,  0.0376,  0.0711, -0.0109, -0.0900],\n",
      "        [ 0.0399,  0.0611,  0.0655, -0.0801, -0.0718, -0.0188,  0.0703, -0.0022,\n",
      "         -0.1094, -0.1120,  0.0874,  0.1177, -0.0157,  0.0173, -0.0993,  0.0486,\n",
      "         -0.0823, -0.0986, -0.1045,  0.0184, -0.0223, -0.0361,  0.0229,  0.0304,\n",
      "          0.0281, -0.0639, -0.0003,  0.0488,  0.0802, -0.0930,  0.0282, -0.0905,\n",
      "         -0.0522, -0.0295,  0.0880,  0.0780,  0.1034, -0.0542, -0.0728,  0.0447,\n",
      "         -0.1222, -0.0653,  0.0684,  0.0228, -0.0997,  0.1204, -0.1201,  0.0477,\n",
      "         -0.0911, -0.0236, -0.1131, -0.0995,  0.1110, -0.0722, -0.1205,  0.0173,\n",
      "         -0.0307, -0.1129,  0.0861,  0.0258, -0.0961, -0.0668, -0.0078, -0.0996],\n",
      "        [ 0.0275,  0.0224,  0.0180,  0.0864,  0.1084, -0.0703,  0.0604, -0.0789,\n",
      "          0.1122, -0.0601, -0.0965, -0.0453, -0.0207,  0.1033, -0.1023,  0.0366,\n",
      "         -0.0437, -0.0443,  0.0322, -0.0786,  0.0502, -0.0244, -0.1194,  0.0440,\n",
      "          0.0018,  0.0112,  0.0348,  0.0403,  0.0118,  0.1219, -0.0512, -0.0073,\n",
      "          0.0343,  0.0869,  0.0870, -0.1242, -0.0400,  0.1213,  0.0117, -0.0805,\n",
      "          0.0210, -0.0681,  0.1180,  0.0235,  0.0389,  0.0347,  0.0064, -0.0980,\n",
      "          0.1214, -0.0325,  0.0560, -0.0246,  0.0829, -0.0466,  0.0862, -0.0774,\n",
      "          0.0132, -0.1235,  0.0064, -0.1102,  0.0826,  0.1203, -0.0388, -0.0350],\n",
      "        [ 0.1012, -0.1123, -0.1149, -0.1026, -0.0608,  0.0560,  0.0724,  0.0249,\n",
      "          0.0094, -0.0207, -0.0874, -0.0330, -0.0333, -0.0168, -0.0691,  0.0035,\n",
      "         -0.0406,  0.1023,  0.1060, -0.0258, -0.1123, -0.1058, -0.0240, -0.0974,\n",
      "          0.1142, -0.0958, -0.0131,  0.0486,  0.0374, -0.0061, -0.0786, -0.1194,\n",
      "         -0.1120, -0.0080,  0.0180,  0.0112, -0.0909,  0.0773,  0.0163,  0.0131,\n",
      "          0.0719,  0.0277,  0.1167, -0.1240, -0.0826, -0.0576, -0.1207, -0.0642,\n",
      "          0.1153,  0.0826,  0.0521,  0.0287,  0.0758, -0.0344, -0.0718,  0.1214,\n",
      "          0.1048,  0.0358,  0.0023, -0.0030,  0.1248, -0.0623,  0.0145, -0.0855],\n",
      "        [-0.0255, -0.0471, -0.0837,  0.0200, -0.0894, -0.0439,  0.0685,  0.0718,\n",
      "         -0.1184, -0.0601,  0.0426,  0.0520, -0.0212, -0.0977, -0.0523,  0.0583,\n",
      "         -0.0049, -0.0047, -0.0375, -0.0262,  0.1227, -0.0004, -0.0797,  0.0705,\n",
      "         -0.0493, -0.0868,  0.1230,  0.0129, -0.0100,  0.0236,  0.0866, -0.0524,\n",
      "          0.0248,  0.1233,  0.0469,  0.0584, -0.0531,  0.0111,  0.0033, -0.1004,\n",
      "          0.0265, -0.0195,  0.0388, -0.0702,  0.1071,  0.1032, -0.0101, -0.0364,\n",
      "          0.1110, -0.1048,  0.1045,  0.1113,  0.0842,  0.0781, -0.0082, -0.0112,\n",
      "          0.0913, -0.1248, -0.0712,  0.0846,  0.1193,  0.0204,  0.0608, -0.0643],\n",
      "        [-0.0698, -0.0543, -0.0696, -0.0882,  0.0328, -0.0524,  0.1020, -0.1034,\n",
      "         -0.0965, -0.1151, -0.0922, -0.0350, -0.0673,  0.0140, -0.0241,  0.0856,\n",
      "         -0.0307,  0.0139,  0.0286, -0.1060, -0.0313, -0.0509, -0.1044, -0.0764,\n",
      "         -0.1191,  0.0739, -0.0748,  0.1233,  0.0360, -0.0115, -0.0981, -0.0420,\n",
      "          0.1120, -0.0399, -0.0716,  0.0917, -0.0031, -0.0787,  0.0629, -0.0742,\n",
      "          0.0972, -0.0911,  0.1148, -0.0617, -0.0534,  0.0587, -0.0655,  0.0429,\n",
      "         -0.0502, -0.0006,  0.0805,  0.0136, -0.0455,  0.0323,  0.0601, -0.1241,\n",
      "          0.1152,  0.0178,  0.0233, -0.1163,  0.0005,  0.0388,  0.0449,  0.0342],\n",
      "        [ 0.0012,  0.0146, -0.0052, -0.1128,  0.0131, -0.1018, -0.0986,  0.0126,\n",
      "          0.0523,  0.0968,  0.1022, -0.0303,  0.0984,  0.0192,  0.0432,  0.0891,\n",
      "          0.0213,  0.0206, -0.0560, -0.0994, -0.0317,  0.0616, -0.0069, -0.0694,\n",
      "         -0.0191,  0.0259,  0.0115,  0.0725,  0.0403, -0.1229, -0.0796,  0.1036,\n",
      "          0.0672,  0.0084,  0.0568, -0.0837,  0.1005,  0.0412,  0.0090, -0.0555,\n",
      "         -0.0598, -0.0371, -0.1112,  0.1170,  0.0372, -0.0856, -0.0000, -0.0357,\n",
      "          0.0221, -0.0581,  0.0615,  0.0092,  0.0436, -0.0882,  0.0053,  0.1089,\n",
      "         -0.0814, -0.0626,  0.0366, -0.1194, -0.1172, -0.0787,  0.0293, -0.0410],\n",
      "        [ 0.0452,  0.0768,  0.0547, -0.0857, -0.0839,  0.0675,  0.0579, -0.0710,\n",
      "         -0.0103,  0.0830, -0.1104, -0.0138,  0.0163, -0.0218, -0.0833,  0.0407,\n",
      "         -0.0376,  0.0414,  0.0225,  0.1033,  0.0715, -0.0571, -0.0597,  0.0763,\n",
      "          0.1099,  0.0646,  0.0334, -0.0012,  0.0030, -0.0920,  0.1234,  0.0311,\n",
      "         -0.0031, -0.0991, -0.0306,  0.0709,  0.0953, -0.0127, -0.1107, -0.0488,\n",
      "          0.0697, -0.0354,  0.0723, -0.0562,  0.0772,  0.0899, -0.1028, -0.1147,\n",
      "         -0.0598, -0.0334, -0.0762,  0.0159,  0.1062,  0.0110,  0.0679,  0.0332,\n",
      "          0.0407,  0.0711, -0.0524, -0.1109, -0.0760,  0.0595,  0.0863,  0.0814],\n",
      "        [ 0.0243,  0.0355,  0.0103,  0.0299,  0.0287,  0.0878,  0.0193, -0.0350,\n",
      "         -0.0550, -0.0385,  0.0330, -0.0539,  0.1196,  0.0179,  0.0500, -0.1061,\n",
      "         -0.0132, -0.1209,  0.0989, -0.0346,  0.1006, -0.0557, -0.0337,  0.0342,\n",
      "         -0.0921, -0.0884,  0.0112,  0.0908, -0.0846,  0.0861,  0.0436,  0.0812,\n",
      "          0.0928, -0.0505,  0.0398, -0.0200, -0.0744,  0.0442, -0.1106, -0.0500,\n",
      "          0.1103, -0.0313,  0.0285,  0.0585,  0.1096,  0.0715, -0.0089,  0.0987,\n",
      "          0.0605, -0.0893,  0.0111,  0.0201, -0.1152, -0.1023,  0.0442,  0.0263,\n",
      "         -0.0500, -0.0819,  0.0714,  0.0681, -0.1009, -0.0622, -0.0700, -0.0360],\n",
      "        [-0.0351,  0.0030, -0.0639, -0.0760,  0.0637,  0.0198,  0.1092,  0.0448,\n",
      "          0.0375,  0.0152,  0.0530, -0.0478,  0.0615, -0.0077,  0.0659, -0.1025,\n",
      "         -0.0404,  0.1168, -0.0398,  0.0357,  0.1078,  0.0513, -0.1237, -0.0135,\n",
      "         -0.0913, -0.1218, -0.0561,  0.0928, -0.0024,  0.1181, -0.0172,  0.0734,\n",
      "          0.0240,  0.0298, -0.0484, -0.0799, -0.0155,  0.0771,  0.0710,  0.0874,\n",
      "         -0.0179,  0.0076,  0.0042,  0.0902, -0.1188, -0.0736, -0.0374,  0.0108,\n",
      "          0.0965, -0.0270,  0.0717, -0.0683,  0.0716, -0.1237, -0.0690, -0.0085,\n",
      "          0.0451, -0.0471,  0.0499, -0.0565, -0.0492,  0.1105, -0.0953,  0.0869]],\n"
     ]
    },
    {
     "name": "stdout",
     "output_type": "stream",
     "text": [
      "       requires_grad=True)\n",
      "Parameter containing:\n",
      "tensor([-0.0075, -0.0747,  0.0364, -0.0489, -0.1186, -0.0549, -0.0911, -0.0836,\n",
      "        -0.0868,  0.0192], requires_grad=True)\n",
      "\n",
      "\n"
     ]
    }
   ],
   "source": [
    "for param in model.children():\n",
    "    if type(param) == nn.Linear:\n",
    "        print(param.weight)\n",
    "        print(param.bias)\n",
    "        print('\\n')"
   ]
  },
  {
   "cell_type": "code",
   "execution_count": 70,
   "metadata": {},
   "outputs": [],
   "source": [
    "for param in model.children():\n",
    "    if type(param) == nn.Linear:\n",
    "        nn.init.xavier_normal_(param.weight)\n",
    "        param.bias.data.zero_()"
   ]
  },
  {
   "cell_type": "code",
   "execution_count": 71,
   "metadata": {},
   "outputs": [
    {
     "name": "stdout",
     "output_type": "stream",
     "text": [
      "Parameter containing:\n",
      "tensor([[ 0.0028, -0.0169,  0.0306,  ...,  0.1054,  0.0276, -0.0730],\n",
      "        [ 0.0302, -0.0086, -0.0023,  ..., -0.0555, -0.0037, -0.0387],\n",
      "        [ 0.0501,  0.0012, -0.0045,  ...,  0.0509, -0.0491, -0.0846],\n",
      "        ...,\n",
      "        [-0.0680, -0.0350, -0.0724,  ...,  0.0530, -0.0225,  0.0029],\n",
      "        [ 0.0174, -0.0483, -0.0599,  ...,  0.0230, -0.0187,  0.0685],\n",
      "        [-0.0386, -0.0622, -0.0438,  ...,  0.0743, -0.0602, -0.0176]],\n",
      "       requires_grad=True)\n",
      "Parameter containing:\n",
      "tensor([0., 0., 0., 0., 0., 0., 0., 0., 0., 0., 0., 0., 0., 0., 0., 0., 0., 0.,\n",
      "        0., 0., 0., 0., 0., 0., 0., 0., 0., 0., 0., 0., 0., 0., 0., 0., 0., 0.,\n",
      "        0., 0., 0., 0., 0., 0., 0., 0., 0., 0., 0., 0., 0., 0., 0., 0., 0., 0.,\n",
      "        0., 0., 0., 0., 0., 0., 0., 0., 0., 0., 0., 0., 0., 0., 0., 0., 0., 0.,\n",
      "        0., 0., 0., 0., 0., 0., 0., 0., 0., 0., 0., 0., 0., 0., 0., 0., 0., 0.,\n",
      "        0., 0., 0., 0., 0., 0., 0., 0., 0., 0., 0., 0., 0., 0., 0., 0., 0., 0.,\n",
      "        0., 0., 0., 0., 0., 0., 0., 0., 0., 0., 0., 0., 0., 0., 0., 0., 0., 0.,\n",
      "        0., 0.], requires_grad=True)\n",
      "\n",
      "\n",
      "Parameter containing:\n",
      "tensor([[-0.1619, -0.0706, -0.0310,  ..., -0.0367, -0.1606,  0.0509],\n",
      "        [ 0.1476, -0.1529,  0.1461,  ...,  0.1174,  0.0357,  0.0604],\n",
      "        [ 0.1101,  0.0205,  0.1445,  ..., -0.0871,  0.0119,  0.0527],\n",
      "        ...,\n",
      "        [-0.0335, -0.0572, -0.1045,  ...,  0.1380, -0.0263,  0.1416],\n",
      "        [-0.1548, -0.0663,  0.0776,  ..., -0.0279,  0.0581, -0.0208],\n",
      "        [ 0.0255,  0.0027, -0.0386,  ..., -0.0782, -0.1509,  0.1082]],\n",
      "       requires_grad=True)\n",
      "Parameter containing:\n",
      "tensor([0., 0., 0., 0., 0., 0., 0., 0., 0., 0., 0., 0., 0., 0., 0., 0., 0., 0.,\n",
      "        0., 0., 0., 0., 0., 0., 0., 0., 0., 0., 0., 0., 0., 0., 0., 0., 0., 0.,\n",
      "        0., 0., 0., 0., 0., 0., 0., 0., 0., 0., 0., 0., 0., 0., 0., 0., 0., 0.,\n",
      "        0., 0., 0., 0., 0., 0., 0., 0., 0., 0.], requires_grad=True)\n",
      "\n",
      "\n",
      "Parameter containing:\n",
      "tensor([[-0.2251,  0.0842,  0.2237, -0.0592, -0.3312,  0.0110, -0.1459, -0.2557,\n",
      "          0.0577,  0.0812, -0.3267, -0.0845, -0.1382,  0.1559, -0.0067, -0.0773,\n",
      "         -0.2021, -0.0507,  0.2985, -0.0378, -0.1685, -0.1328,  0.3646, -0.1872,\n",
      "          0.0235, -0.1408,  0.0359,  0.1595,  0.1765,  0.0964, -0.0664, -0.0472,\n",
      "          0.0642,  0.2915,  0.2900,  0.2190,  0.2161, -0.0117, -0.2233, -0.0490,\n",
      "          0.4053, -0.2329, -0.0910,  0.0595, -0.1948,  0.4308,  0.2723, -0.0202,\n",
      "          0.1071, -0.0642, -0.2946, -0.1153,  0.3305,  0.1787,  0.0122, -0.0308,\n",
      "         -0.0425, -0.1286, -0.0195,  0.1594,  0.0108, -0.2719,  0.2244, -0.0705],\n",
      "        [ 0.0188,  0.1076,  0.1910, -0.0210, -0.0860,  0.0225, -0.0183,  0.0246,\n",
      "          0.1861,  0.2407, -0.0926, -0.2684,  0.0234, -0.1013,  0.0167,  0.0549,\n",
      "         -0.0239,  0.2115, -0.1957,  0.1248,  0.2160,  0.1087, -0.1183, -0.0202,\n",
      "          0.1649, -0.0415,  0.0684,  0.0921,  0.1839,  0.0637,  0.0255,  0.0331,\n",
      "         -0.0531,  0.0836,  0.3055,  0.1586,  0.0362, -0.0867, -0.2615,  0.0688,\n",
      "         -0.0540, -0.2402,  0.2961,  0.2606, -0.2488, -0.2939,  0.0666, -0.0395,\n",
      "          0.2307, -0.1470,  0.1874, -0.1086,  0.2301, -0.0150,  0.1539,  0.3185,\n",
      "         -0.1680, -0.0127,  0.2445,  0.1444,  0.0397,  0.0875, -0.1750, -0.0579],\n",
      "        [ 0.0290,  0.0339, -0.1929,  0.0527,  0.2480, -0.1029, -0.0501,  0.2635,\n",
      "         -0.3145,  0.1525, -0.3412,  0.1607,  0.0631, -0.0696,  0.2880,  0.0041,\n",
      "         -0.0189, -0.3208,  0.3518,  0.0455,  0.2840,  0.1127, -0.0330, -0.0584,\n",
      "          0.2236,  0.0125,  0.1265,  0.0238, -0.1135, -0.0558,  0.0189, -0.2888,\n",
      "          0.0051, -0.0655, -0.1026,  0.1309,  0.1709, -0.0881,  0.2566,  0.0138,\n",
      "          0.0834,  0.1022,  0.0082,  0.1684,  0.0476, -0.1202, -0.1290, -0.1638,\n",
      "         -0.0237,  0.1050, -0.0188,  0.1439, -0.3145, -0.0291, -0.1200, -0.2085,\n",
      "         -0.1716, -0.0970,  0.0789, -0.2381,  0.2143,  0.2068, -0.1806, -0.0623],\n",
      "        [-0.3341,  0.1438,  0.2106, -0.0050, -0.0681,  0.0192, -0.0359,  0.1488,\n",
      "         -0.1341, -0.0917, -0.3550,  0.0882,  0.0750,  0.0834, -0.0503,  0.0909,\n",
      "         -0.0051, -0.0180, -0.1225, -0.0155, -0.1289,  0.1513,  0.0482, -0.1671,\n",
      "          0.1752, -0.0650, -0.0856, -0.0697, -0.1423,  0.0524, -0.1021,  0.1270,\n",
      "          0.0119,  0.3902,  0.2270, -0.1342, -0.3070, -0.2686, -0.1320, -0.0601,\n",
      "          0.0530, -0.0712,  0.1257, -0.1622, -0.0626, -0.0216, -0.0019, -0.0993,\n",
      "          0.1539,  0.1000, -0.1116, -0.0127, -0.0808, -0.1112,  0.0219, -0.1531,\n",
      "         -0.2244, -0.0065, -0.2538,  0.0419,  0.3074, -0.0912,  0.0099, -0.2263],\n",
      "        [-0.0561,  0.2371, -0.2532, -0.0853,  0.0166,  0.3130,  0.0326, -0.1330,\n",
      "          0.2133, -0.0429, -0.1562,  0.0970, -0.3245, -0.2345,  0.1260, -0.0935,\n",
      "         -0.1342,  0.2439,  0.0316,  0.0767,  0.0063,  0.0067, -0.1014, -0.1114,\n",
      "         -0.0813,  0.2550, -0.2542, -0.0221, -0.2892, -0.2983, -0.1493, -0.0497,\n",
      "         -0.0797,  0.2373,  0.2926,  0.0589, -0.2055, -0.0221,  0.0881, -0.1481,\n",
      "          0.2453,  0.2111, -0.1270,  0.0663,  0.0555,  0.0825,  0.0289,  0.1249,\n",
      "         -0.1179,  0.3490,  0.0675,  0.1877,  0.0690,  0.0634, -0.1023,  0.0325,\n",
      "         -0.0638, -0.1027, -0.0335, -0.2905,  0.3163, -0.0751,  0.3091,  0.0036],\n",
      "        [ 0.3506, -0.0818,  0.0678, -0.0579, -0.0871,  0.2534,  0.0533,  0.1123,\n",
      "         -0.1630, -0.0681, -0.2639,  0.0621, -0.2993,  0.2108,  0.0005, -0.1657,\n",
      "          0.0058, -0.1930, -0.0626,  0.2526,  0.0669, -0.1660, -0.3246,  0.0789,\n",
      "          0.2528,  0.0053, -0.1148,  0.0121,  0.1088,  0.2028,  0.3798, -0.1609,\n",
      "          0.0767, -0.0664, -0.0053, -0.1226, -0.0216, -0.0578,  0.0841, -0.1082,\n",
      "          0.0642, -0.0017,  0.0485,  0.2687,  0.1530,  0.2264,  0.0184,  0.0196,\n",
      "          0.0723, -0.0610,  0.2577, -0.1175, -0.0036, -0.0500, -0.2698, -0.0746,\n",
      "         -0.0103, -0.2410,  0.0649,  0.0698,  0.0303,  0.0508,  0.3439,  0.1219],\n",
      "        [ 0.0161, -0.0008,  0.3110,  0.1031, -0.0060,  0.0052, -0.1943, -0.0754,\n",
      "         -0.0766,  0.1140,  0.0214,  0.0524, -0.2189, -0.2216, -0.0888, -0.0029,\n",
      "          0.0157, -0.2876,  0.2029, -0.0861, -0.0669, -0.1086, -0.2750, -0.3545,\n",
      "          0.2638,  0.0752, -0.0605,  0.2164,  0.0159,  0.0649, -0.2019, -0.0964,\n",
      "         -0.2860,  0.0429,  0.0424, -0.0707,  0.2401, -0.0326,  0.0916,  0.2917,\n",
      "         -0.0980,  0.1147,  0.0572, -0.4873,  0.2161,  0.1846, -0.0532, -0.0905,\n",
      "          0.2368,  0.0102, -0.1274,  0.1732,  0.2389,  0.0524, -0.1499,  0.0917,\n",
      "          0.0346,  0.0101,  0.0551, -0.0442, -0.2054, -0.0626,  0.1478, -0.0556],\n",
      "        [-0.2058,  0.3126,  0.0296, -0.0291,  0.1626,  0.2075, -0.0079, -0.0484,\n",
      "          0.0376, -0.0283, -0.1312, -0.0642,  0.1563,  0.2786, -0.0832, -0.0691,\n",
      "          0.0627,  0.0485,  0.2248,  0.1068, -0.3023,  0.0469,  0.0421,  0.0693,\n",
      "          0.1077,  0.0685,  0.4061, -0.1491, -0.1310,  0.0862, -0.2333,  0.0650,\n",
      "          0.2168,  0.0701, -0.0753,  0.2466, -0.0660,  0.3501,  0.0819,  0.1778,\n",
      "          0.3382, -0.2160, -0.2258,  0.2875, -0.0422, -0.1080,  0.1724,  0.3088,\n",
      "          0.0866, -0.1704, -0.1270,  0.0892, -0.2145,  0.0871,  0.0323, -0.2385,\n",
      "          0.1240, -0.0103, -0.0048,  0.0204,  0.1754, -0.0877, -0.0999, -0.1148],\n",
      "        [ 0.1195, -0.0835,  0.0087,  0.2137,  0.3887, -0.0085,  0.0468,  0.0813,\n",
      "         -0.0325, -0.1485, -0.0123, -0.1399,  0.0535,  0.1083,  0.0085,  0.0299,\n",
      "          0.2204, -0.1216, -0.1359,  0.1180, -0.1648,  0.1451, -0.0511,  0.0677,\n",
      "         -0.2547,  0.0223, -0.0711,  0.2861,  0.0295, -0.2324, -0.1434, -0.0732,\n",
      "          0.2686,  0.0439,  0.1767, -0.1070, -0.0752, -0.0394,  0.1447,  0.1257,\n",
      "          0.1439, -0.2836,  0.0263, -0.1559,  0.1527,  0.0050,  0.0883,  0.0577,\n",
      "          0.0692, -0.1505,  0.2396,  0.1458, -0.3688,  0.0249,  0.1688,  0.0696,\n",
      "          0.1203, -0.1304, -0.2525,  0.0611,  0.2265,  0.1665, -0.0001,  0.3599],\n",
      "        [-0.1100, -0.1768, -0.1620, -0.0432, -0.0669,  0.0066,  0.1455,  0.0731,\n",
      "         -0.1491, -0.3051,  0.2401, -0.1837,  0.2158, -0.1264,  0.1257,  0.2465,\n",
      "         -0.3580, -0.2206,  0.0588,  0.0660,  0.0300,  0.1741,  0.0372, -0.0214,\n",
      "         -0.0618, -0.0792,  0.2031,  0.0438,  0.2720, -0.1170, -0.1427, -0.1775,\n",
      "         -0.0174,  0.1391, -0.0718,  0.0363,  0.0362,  0.0883, -0.1550, -0.0275,\n",
      "         -0.1743, -0.1947, -0.0294,  0.1450,  0.0730,  0.1469,  0.1118,  0.1243,\n",
      "          0.0010,  0.1354, -0.1809, -0.1840, -0.0213, -0.2631,  0.0004,  0.0442,\n",
      "         -0.2921, -0.1007,  0.0009,  0.0925, -0.0249,  0.0084,  0.4152, -0.0544]],\n"
     ]
    },
    {
     "name": "stdout",
     "output_type": "stream",
     "text": [
      "       requires_grad=True)\n",
      "Parameter containing:\n",
      "tensor([0., 0., 0., 0., 0., 0., 0., 0., 0., 0.], requires_grad=True)\n",
      "\n",
      "\n"
     ]
    }
   ],
   "source": [
    "for param in model.children():\n",
    "    if type(param) == nn.Linear:\n",
    "        print(param.weight)\n",
    "        print(param.bias)\n",
    "        print('\\n')"
   ]
  },
  {
   "cell_type": "markdown",
   "metadata": {},
   "source": [
    "### Forward pass\n",
    "\n",
    "Now that we have a network, let's see what happens when we pass in an image."
   ]
  },
  {
   "cell_type": "code",
   "execution_count": 72,
   "metadata": {},
   "outputs": [
    {
     "data": {
      "image/png": "[encoded data removed]",
      "text/plain": [
       "<Figure size 432x648 with 2 Axes>"
      ]
     },
     "metadata": {
      "image/png": {
       "height": 224,
       "width": 423
      },
      "needs_background": "light"
     },
     "output_type": "display_data"
    }
   ],
   "source": [
    "# Grab some data \n",
    "dataiter = iter(trainloader)\n",
    "images, labels = dataiter.next()\n",
    "\n",
    "# Resize images into a 1D vector, new shape is (batch size, color channels, image pixels) \n",
    "images.resize_(64, 1, 784)\n",
    "# or images.resize_(images.shape[0], 1, 784) to automatically get batch size\n",
    "\n",
    "# Forward pass through the network\n",
    "img_idx = 0\n",
    "ps = model.forward(images[img_idx,:])\n",
    "\n",
    "img = images[img_idx]\n",
    "helper.view_classify(img.view(1, 28, 28), ps)"
   ]
  },
  {
   "cell_type": "markdown",
   "metadata": {},
   "source": [
    "As you can see above, our network has basically no idea what this digit is. It's because we haven't trained it yet, all the weights are random!\n",
    "\n",
    "### Using `nn.Sequential`\n",
    "\n",
    "PyTorch provides a convenient way to build networks like this where a tensor is passed sequentially through operations, `nn.Sequential` ([documentation](https://pytorch.org/docs/master/nn.html#torch.nn.Sequential)). Using this to build the equivalent network:"
   ]
  },
  {
   "cell_type": "code",
   "execution_count": 51,
   "metadata": {},
   "outputs": [
    {
     "name": "stdout",
     "output_type": "stream",
     "text": [
      "Sequential(\n",
      "  (0): Linear(in_features=784, out_features=128, bias=True)\n",
      "  (1): ReLU()\n",
      "  (2): Linear(in_features=128, out_features=64, bias=True)\n",
      "  (3): ReLU()\n",
      "  (4): Linear(in_features=64, out_features=10, bias=True)\n",
      "  (5): Softmax()\n",
      ")\n"
     ]
    },
    {
     "data": {
      "image/png": "[encoded data removed]",
      "text/plain": [
       "<Figure size 432x648 with 2 Axes>"
      ]
     },
     "metadata": {
      "image/png": {
       "height": 224,
       "width": 423
      },
      "needs_background": "light"
     },
     "output_type": "display_data"
    }
   ],
   "source": [
    "# Hyperparameters for our network\n",
    "input_size = 784\n",
    "hidden_sizes = [128, 64]\n",
    "output_size = 10\n",
    "\n",
    "# Build a feed-forward network\n",
    "model = nn.Sequential(nn.Linear(input_size, hidden_sizes[0]),\n",
    "                      nn.ReLU(),\n",
    "                      nn.Linear(hidden_sizes[0], hidden_sizes[1]),\n",
    "                      nn.ReLU(),\n",
    "                      nn.Linear(hidden_sizes[1], output_size),\n",
    "                      nn.Softmax(dim=1))\n",
    "print(model)\n",
    "\n",
    "# Forward pass through the network and display output\n",
    "images, labels = next(iter(trainloader))\n",
    "images.resize_(images.shape[0], 1, 784)\n",
    "ps = model.forward(images[0,:])\n",
    "helper.view_classify(images[0].view(1, 28, 28), ps)"
   ]
  },
  {
   "cell_type": "markdown",
   "metadata": {},
   "source": [
    "Here our model is the same as before: 784 input units, a hidden layer with 128 units, ReLU activation, 64 unit hidden layer, another ReLU, then the output layer with 10 units, and the softmax output.\n",
    "\n",
    "The operations are availble by passing in the appropriate index. For example, if you want to get first Linear operation and look at the weights, you'd use `model[0]`."
   ]
  },
  {
   "cell_type": "code",
   "execution_count": 52,
   "metadata": {},
   "outputs": [
    {
     "name": "stdout",
     "output_type": "stream",
     "text": [
      "Linear(in_features=784, out_features=128, bias=True)\n"
     ]
    },
    {
     "data": {
      "text/plain": [
       "Parameter containing:\n",
       "tensor([[ 0.0102, -0.0201, -0.0116,  ...,  0.0137,  0.0249,  0.0300],\n",
       "        [-0.0295,  0.0233, -0.0221,  ...,  0.0194, -0.0256,  0.0249],\n",
       "        [ 0.0162,  0.0238, -0.0334,  ...,  0.0251,  0.0022, -0.0042],\n",
       "        ...,\n",
       "        [-0.0286,  0.0001, -0.0305,  ..., -0.0231, -0.0257,  0.0275],\n",
       "        [ 0.0241, -0.0039,  0.0315,  ...,  0.0067,  0.0102,  0.0356],\n",
       "        [ 0.0093,  0.0106,  0.0142,  ..., -0.0355, -0.0036, -0.0313]],\n",
       "       requires_grad=True)"
      ]
     },
     "execution_count": 52,
     "metadata": {},
     "output_type": "execute_result"
    }
   ],
   "source": [
    "print(model[0])\n",
    "model[0].weight"
   ]
  },
  {
   "cell_type": "markdown",
   "metadata": {},
   "source": [
    "You can also pass in an `OrderedDict` to name the individual layers and operations, instead of using incremental integers. Note that dictionary keys must be unique, so _each operation must have a different name_."
   ]
  },
  {
   "cell_type": "code",
   "execution_count": 53,
   "metadata": {},
   "outputs": [
    {
     "data": {
      "text/plain": [
       "Sequential(\n",
       "  (fc1): Linear(in_features=784, out_features=128, bias=True)\n",
       "  (relu1): ReLU()\n",
       "  (fc2): Linear(in_features=128, out_features=64, bias=True)\n",
       "  (relu2): ReLU()\n",
       "  (output): Linear(in_features=64, out_features=10, bias=True)\n",
       "  (softmax): Softmax()\n",
       ")"
      ]
     },
     "execution_count": 53,
     "metadata": {},
     "output_type": "execute_result"
    }
   ],
   "source": [
    "from collections import OrderedDict\n",
    "model = nn.Sequential(OrderedDict([\n",
    "                      ('fc1', nn.Linear(input_size, hidden_sizes[0])),\n",
    "                      ('relu1', nn.ReLU()),\n",
    "                      ('fc2', nn.Linear(hidden_sizes[0], hidden_sizes[1])),\n",
    "                      ('relu2', nn.ReLU()),\n",
    "                      ('output', nn.Linear(hidden_sizes[1], output_size)),\n",
    "                      ('softmax', nn.Softmax(dim=1))]))\n",
    "model"
   ]
  },
  {
   "cell_type": "markdown",
   "metadata": {},
   "source": [
    "Now you can access layers either by integer or the name"
   ]
  },
  {
   "cell_type": "code",
   "execution_count": 54,
   "metadata": {},
   "outputs": [
    {
     "name": "stdout",
     "output_type": "stream",
     "text": [
      "Linear(in_features=784, out_features=128, bias=True)\n",
      "Linear(in_features=784, out_features=128, bias=True)\n"
     ]
    }
   ],
   "source": [
    "print(model[0])\n",
    "print(model.fc1)"
   ]
  },
  {
   "cell_type": "markdown",
   "metadata": {},
   "source": [
    "In the next notebook, we'll see how we can train a neural network to accuractly predict the numbers appearing in the MNIST images."
   ]
  }
 ],
 "metadata": {
  "kernelspec": {
   "display_name": "Python 3",
   "language": "python",
   "name": "python3"
  },
  "language_info": {
   "codemirror_mode": {
    "name": "ipython",
    "version": 3
   },
   "file_extension": ".py",
   "mimetype": "text/x-python",
   "name": "python",
   "nbconvert_exporter": "python",
   "pygments_lexer": "ipython3",
   "version": "3.7.0"
  }
 },
 "nbformat": 4,
 "nbformat_minor": 2
}
