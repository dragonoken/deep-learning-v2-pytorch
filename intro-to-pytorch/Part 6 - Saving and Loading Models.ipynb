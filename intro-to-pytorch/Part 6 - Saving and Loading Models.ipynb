{
 "cells": [
  {
   "cell_type": "markdown",
   "metadata": {},
   "source": [
    "# Saving and Loading Models\n",
    "\n",
    "In this notebook, I'll show you how to save and load models with PyTorch. This is important because you'll often want to load previously trained models to use in making predictions or to continue training on new data."
   ]
  },
  {
   "cell_type": "code",
   "execution_count": 2,
   "metadata": {},
   "outputs": [],
   "source": [
    "%matplotlib inline\n",
    "%config InlineBackend.figure_format = 'retina'\n",
    "\n",
    "import matplotlib.pyplot as plt\n",
    "\n",
    "import torch\n",
    "from torch import nn\n",
    "from torch import optim\n",
    "import torch.nn.functional as F\n",
    "from torchvision import datasets, transforms\n",
    "\n",
    "import helper\n",
    "import fc_model"
   ]
  },
  {
   "cell_type": "code",
   "execution_count": 3,
   "metadata": {},
   "outputs": [],
   "source": [
    "# Define a transform to normalize the data\n",
    "transform = transforms.Compose([transforms.ToTensor(),\n",
    "                                transforms.Normalize((0.5,), (0.5,))])\n",
    "# Download and load the training data\n",
    "trainset = datasets.FashionMNIST('~/.pytorch/F_MNIST_data/', download=True, train=True, transform=transform)\n",
    "trainloader = torch.utils.data.DataLoader(trainset, batch_size=64, shuffle=True)\n",
    "\n",
    "# Download and load the test data\n",
    "testset = datasets.FashionMNIST('~/.pytorch/F_MNIST_data/', download=True, train=False, transform=transform)\n",
    "testloader = torch.utils.data.DataLoader(testset, batch_size=64, shuffle=True)"
   ]
  },
  {
   "cell_type": "markdown",
   "metadata": {},
   "source": [
    "Here we can see one of the images."
   ]
  },
  {
   "cell_type": "code",
   "execution_count": 4,
   "metadata": {},
   "outputs": [
    {
     "data": {
      "image/png": "[encoded data removed]",
      "text/plain": [
       "<Figure size 432x288 with 1 Axes>"
      ]
     },
     "metadata": {
      "image/png": {
       "height": 233,
       "width": 233
      },
      "needs_background": "light"
     },
     "output_type": "display_data"
    }
   ],
   "source": [
    "image, label = next(iter(trainloader))\n",
    "helper.imshow(image[0,:]);"
   ]
  },
  {
   "cell_type": "markdown",
   "metadata": {},
   "source": [
    "# Train a network\n",
    "\n",
    "To make things more concise here, I moved the model architecture and training code from the last part to a file called `fc_model`. Importing this, we can easily create a fully-connected network with `fc_model.Network`, and train the network using `fc_model.train`. I'll use this model (once it's trained) to demonstrate how we can save and load models."
   ]
  },
  {
   "cell_type": "code",
   "execution_count": 5,
   "metadata": {},
   "outputs": [],
   "source": [
    "# Create the network, define the criterion and optimizer\n",
    "\n",
    "model = fc_model.Network(784, 10, [512, 256, 128])\n",
    "criterion = nn.NLLLoss()\n",
    "optimizer = optim.Adam(model.parameters(), lr=0.001)"
   ]
  },
  {
   "cell_type": "code",
   "execution_count": 6,
   "metadata": {
    "scrolled": true
   },
   "outputs": [
    {
     "name": "stdout",
     "output_type": "stream",
     "text": [
      "Epoch: 1/2..  Training Loss: 1.737..  Test Loss: 0.975..  Test Accuracy: 0.621\n",
      "Epoch: 1/2..  Training Loss: 1.000..  Test Loss: 0.748..  Test Accuracy: 0.711\n",
      "Epoch: 1/2..  Training Loss: 0.884..  Test Loss: 0.677..  Test Accuracy: 0.739\n",
      "Epoch: 1/2..  Training Loss: 0.806..  Test Loss: 0.622..  Test Accuracy: 0.764\n",
      "Epoch: 1/2..  Training Loss: 0.787..  Test Loss: 0.610..  Test Accuracy: 0.769\n",
      "Epoch: 1/2..  Training Loss: 0.759..  Test Loss: 0.610..  Test Accuracy: 0.763\n",
      "Epoch: 1/2..  Training Loss: 0.707..  Test Loss: 0.561..  Test Accuracy: 0.788\n",
      "Epoch: 1/2..  Training Loss: 0.652..  Test Loss: 0.554..  Test Accuracy: 0.791\n",
      "Epoch: 1/2..  Training Loss: 0.650..  Test Loss: 0.591..  Test Accuracy: 0.780\n",
      "Epoch: 1/2..  Training Loss: 0.664..  Test Loss: 0.564..  Test Accuracy: 0.800\n",
      "Epoch: 1/2..  Training Loss: 0.654..  Test Loss: 0.532..  Test Accuracy: 0.803\n",
      "Epoch: 1/2..  Training Loss: 0.614..  Test Loss: 0.537..  Test Accuracy: 0.806\n",
      "Epoch: 1/2..  Training Loss: 0.599..  Test Loss: 0.511..  Test Accuracy: 0.810\n",
      "Epoch: 1/2..  Training Loss: 0.578..  Test Loss: 0.515..  Test Accuracy: 0.811\n",
      "Epoch: 1/2..  Training Loss: 0.561..  Test Loss: 0.498..  Test Accuracy: 0.810\n",
      "Epoch: 1/2..  Training Loss: 0.587..  Test Loss: 0.506..  Test Accuracy: 0.813\n",
      "Epoch: 1/2..  Training Loss: 0.577..  Test Loss: 0.500..  Test Accuracy: 0.818\n",
      "Epoch: 1/2..  Training Loss: 0.606..  Test Loss: 0.516..  Test Accuracy: 0.805\n",
      "Epoch: 1/2..  Training Loss: 0.553..  Test Loss: 0.491..  Test Accuracy: 0.820\n",
      "Epoch: 1/2..  Training Loss: 0.571..  Test Loss: 0.499..  Test Accuracy: 0.819\n",
      "Epoch: 1/2..  Training Loss: 0.592..  Test Loss: 0.489..  Test Accuracy: 0.814\n",
      "Epoch: 1/2..  Training Loss: 0.557..  Test Loss: 0.484..  Test Accuracy: 0.820\n",
      "Epoch: 1/2..  Training Loss: 0.541..  Test Loss: 0.473..  Test Accuracy: 0.825\n",
      "Epoch: 2/2..  Training Loss: 0.551..  Test Loss: 0.486..  Test Accuracy: 0.824\n",
      "Epoch: 2/2..  Training Loss: 0.526..  Test Loss: 0.495..  Test Accuracy: 0.816\n",
      "Epoch: 2/2..  Training Loss: 0.564..  Test Loss: 0.480..  Test Accuracy: 0.824\n",
      "Epoch: 2/2..  Training Loss: 0.543..  Test Loss: 0.468..  Test Accuracy: 0.830\n",
      "Epoch: 2/2..  Training Loss: 0.526..  Test Loss: 0.473..  Test Accuracy: 0.829\n",
      "Epoch: 2/2..  Training Loss: 0.541..  Test Loss: 0.486..  Test Accuracy: 0.822\n",
      "Epoch: 2/2..  Training Loss: 0.556..  Test Loss: 0.507..  Test Accuracy: 0.823\n",
      "Epoch: 2/2..  Training Loss: 0.518..  Test Loss: 0.471..  Test Accuracy: 0.821\n",
      "Epoch: 2/2..  Training Loss: 0.527..  Test Loss: 0.462..  Test Accuracy: 0.827\n",
      "Epoch: 2/2..  Training Loss: 0.566..  Test Loss: 0.473..  Test Accuracy: 0.828\n",
      "Epoch: 2/2..  Training Loss: 0.552..  Test Loss: 0.463..  Test Accuracy: 0.829\n",
      "Epoch: 2/2..  Training Loss: 0.546..  Test Loss: 0.471..  Test Accuracy: 0.827\n",
      "Epoch: 2/2..  Training Loss: 0.505..  Test Loss: 0.456..  Test Accuracy: 0.833\n",
      "Epoch: 2/2..  Training Loss: 0.520..  Test Loss: 0.454..  Test Accuracy: 0.835\n",
      "Epoch: 2/2..  Training Loss: 0.537..  Test Loss: 0.478..  Test Accuracy: 0.824\n",
      "Epoch: 2/2..  Training Loss: 0.536..  Test Loss: 0.459..  Test Accuracy: 0.830\n",
      "Epoch: 2/2..  Training Loss: 0.579..  Test Loss: 0.520..  Test Accuracy: 0.810\n",
      "Epoch: 2/2..  Training Loss: 0.551..  Test Loss: 0.445..  Test Accuracy: 0.835\n",
      "Epoch: 2/2..  Training Loss: 0.537..  Test Loss: 0.465..  Test Accuracy: 0.832\n",
      "Epoch: 2/2..  Training Loss: 0.489..  Test Loss: 0.448..  Test Accuracy: 0.831\n",
      "Epoch: 2/2..  Training Loss: 0.474..  Test Loss: 0.437..  Test Accuracy: 0.839\n",
      "Epoch: 2/2..  Training Loss: 0.533..  Test Loss: 0.450..  Test Accuracy: 0.837\n",
      "Epoch: 2/2..  Training Loss: 0.539..  Test Loss: 0.442..  Test Accuracy: 0.838\n"
     ]
    }
   ],
   "source": [
    "fc_model.train(model, trainloader, testloader, criterion, optimizer, epochs=2)"
   ]
  },
  {
   "cell_type": "markdown",
   "metadata": {},
   "source": [
    "## Saving and loading networks\n",
    "\n",
    "As you can imagine, it's impractical to train a network every time you need to use it. Instead, we can save trained networks then load them later to train more or use them for predictions.\n",
    "\n",
    "The parameters for PyTorch networks are stored in a model's `state_dict`. We can see the state dict contains the weight and bias matrices for each of our layers."
   ]
  },
  {
   "cell_type": "code",
   "execution_count": 7,
   "metadata": {},
   "outputs": [
    {
     "name": "stdout",
     "output_type": "stream",
     "text": [
      "Our model: \n",
      "\n",
      " Network(\n",
      "  (hidden_layers): ModuleList(\n",
      "    (0): Linear(in_features=784, out_features=512, bias=True)\n",
      "    (1): Linear(in_features=512, out_features=256, bias=True)\n",
      "    (2): Linear(in_features=256, out_features=128, bias=True)\n",
      "  )\n",
      "  (output): Linear(in_features=128, out_features=10, bias=True)\n",
      "  (dropout): Dropout(p=0.5)\n",
      ") \n",
      "\n",
      "The state dict keys: \n",
      "\n",
      " odict_keys(['hidden_layers.0.weight', 'hidden_layers.0.bias', 'hidden_layers.1.weight', 'hidden_layers.1.bias', 'hidden_layers.2.weight', 'hidden_layers.2.bias', 'output.weight', 'output.bias'])\n"
     ]
    }
   ],
   "source": [
    "print(\"Our model: \\n\\n\", model, '\\n')\n",
    "print(\"The state dict keys: \\n\\n\", model.state_dict().keys())"
   ]
  },
  {
   "cell_type": "markdown",
   "metadata": {},
   "source": [
    "The simplest thing to do is simply save the state dict with `torch.save`. For example, we can save it to a file `'checkpoint.pth'`."
   ]
  },
  {
   "cell_type": "code",
   "execution_count": 8,
   "metadata": {},
   "outputs": [],
   "source": [
    "torch.save(model.state_dict(), 'checkpoint.pth')"
   ]
  },
  {
   "cell_type": "markdown",
   "metadata": {},
   "source": [
    "Then we can load the state dict with `torch.load`."
   ]
  },
  {
   "cell_type": "code",
   "execution_count": 9,
   "metadata": {},
   "outputs": [
    {
     "name": "stdout",
     "output_type": "stream",
     "text": [
      "odict_keys(['hidden_layers.0.weight', 'hidden_layers.0.bias', 'hidden_layers.1.weight', 'hidden_layers.1.bias', 'hidden_layers.2.weight', 'hidden_layers.2.bias', 'output.weight', 'output.bias'])\n"
     ]
    }
   ],
   "source": [
    "state_dict = torch.load('checkpoint.pth')\n",
    "print(state_dict.keys())"
   ]
  },
  {
   "cell_type": "markdown",
   "metadata": {},
   "source": [
    "And to load the state dict in to the network, you do `model.load_state_dict(state_dict)`."
   ]
  },
  {
   "cell_type": "code",
   "execution_count": 10,
   "metadata": {},
   "outputs": [],
   "source": [
    "model.load_state_dict(state_dict)"
   ]
  },
  {
   "cell_type": "markdown",
   "metadata": {},
   "source": [
    "Seems pretty straightforward, but as usual it's a bit more complicated. Loading the state dict works only if the model architecture is exactly the same as the checkpoint architecture. If I create a model with a different architecture, this fails."
   ]
  },
  {
   "cell_type": "code",
   "execution_count": 11,
   "metadata": {
    "scrolled": true
   },
   "outputs": [
    {
     "ename": "RuntimeError",
     "evalue": "Error(s) in loading state_dict for Network:\n\tsize mismatch for hidden_layers.0.weight: copying a param of torch.Size([400, 784]) from checkpoint, where the shape is torch.Size([512, 784]) in current model.\n\tsize mismatch for hidden_layers.0.bias: copying a param of torch.Size([400]) from checkpoint, where the shape is torch.Size([512]) in current model.\n\tsize mismatch for hidden_layers.1.weight: copying a param of torch.Size([200, 400]) from checkpoint, where the shape is torch.Size([256, 512]) in current model.\n\tsize mismatch for hidden_layers.1.bias: copying a param of torch.Size([200]) from checkpoint, where the shape is torch.Size([256]) in current model.\n\tsize mismatch for hidden_layers.2.weight: copying a param of torch.Size([100, 200]) from checkpoint, where the shape is torch.Size([128, 256]) in current model.\n\tsize mismatch for hidden_layers.2.bias: copying a param of torch.Size([100]) from checkpoint, where the shape is torch.Size([128]) in current model.\n\tsize mismatch for output.weight: copying a param of torch.Size([10, 100]) from checkpoint, where the shape is torch.Size([10, 128]) in current model.",
     "output_type": "error",
     "traceback": [
      "\u001b[1;31m---------------------------------------------------------------------------\u001b[0m",
      "\u001b[1;31mRuntimeError\u001b[0m                              Traceback (most recent call last)",
      "\u001b[1;32m<ipython-input-11-d859c59ebec0>\u001b[0m in \u001b[0;36m<module>\u001b[1;34m()\u001b[0m\n\u001b[0;32m      2\u001b[0m \u001b[0mmodel\u001b[0m \u001b[1;33m=\u001b[0m \u001b[0mfc_model\u001b[0m\u001b[1;33m.\u001b[0m\u001b[0mNetwork\u001b[0m\u001b[1;33m(\u001b[0m\u001b[1;36m784\u001b[0m\u001b[1;33m,\u001b[0m \u001b[1;36m10\u001b[0m\u001b[1;33m,\u001b[0m \u001b[1;33m[\u001b[0m\u001b[1;36m400\u001b[0m\u001b[1;33m,\u001b[0m \u001b[1;36m200\u001b[0m\u001b[1;33m,\u001b[0m \u001b[1;36m100\u001b[0m\u001b[1;33m]\u001b[0m\u001b[1;33m)\u001b[0m\u001b[1;33m\u001b[0m\u001b[0m\n\u001b[0;32m      3\u001b[0m \u001b[1;31m# This will throw an error because the tensor sizes are wrong!\u001b[0m\u001b[1;33m\u001b[0m\u001b[1;33m\u001b[0m\u001b[0m\n\u001b[1;32m----> 4\u001b[1;33m \u001b[0mmodel\u001b[0m\u001b[1;33m.\u001b[0m\u001b[0mload_state_dict\u001b[0m\u001b[1;33m(\u001b[0m\u001b[0mstate_dict\u001b[0m\u001b[1;33m)\u001b[0m\u001b[1;33m\u001b[0m\u001b[0m\n\u001b[0m",
      "\u001b[1;32m~\\Anaconda3\\envs\\pytorch\\lib\\site-packages\\torch\\nn\\modules\\module.py\u001b[0m in \u001b[0;36mload_state_dict\u001b[1;34m(self, state_dict, strict)\u001b[0m\n\u001b[0;32m    717\u001b[0m         \u001b[1;32mif\u001b[0m \u001b[0mlen\u001b[0m\u001b[1;33m(\u001b[0m\u001b[0merror_msgs\u001b[0m\u001b[1;33m)\u001b[0m \u001b[1;33m>\u001b[0m \u001b[1;36m0\u001b[0m\u001b[1;33m:\u001b[0m\u001b[1;33m\u001b[0m\u001b[0m\n\u001b[0;32m    718\u001b[0m             raise RuntimeError('Error(s) in loading state_dict for {}:\\n\\t{}'.format(\n\u001b[1;32m--> 719\u001b[1;33m                                self.__class__.__name__, \"\\n\\t\".join(error_msgs)))\n\u001b[0m\u001b[0;32m    720\u001b[0m \u001b[1;33m\u001b[0m\u001b[0m\n\u001b[0;32m    721\u001b[0m     \u001b[1;32mdef\u001b[0m \u001b[0mparameters\u001b[0m\u001b[1;33m(\u001b[0m\u001b[0mself\u001b[0m\u001b[1;33m)\u001b[0m\u001b[1;33m:\u001b[0m\u001b[1;33m\u001b[0m\u001b[0m\n",
      "\u001b[1;31mRuntimeError\u001b[0m: Error(s) in loading state_dict for Network:\n\tsize mismatch for hidden_layers.0.weight: copying a param of torch.Size([400, 784]) from checkpoint, where the shape is torch.Size([512, 784]) in current model.\n\tsize mismatch for hidden_layers.0.bias: copying a param of torch.Size([400]) from checkpoint, where the shape is torch.Size([512]) in current model.\n\tsize mismatch for hidden_layers.1.weight: copying a param of torch.Size([200, 400]) from checkpoint, where the shape is torch.Size([256, 512]) in current model.\n\tsize mismatch for hidden_layers.1.bias: copying a param of torch.Size([200]) from checkpoint, where the shape is torch.Size([256]) in current model.\n\tsize mismatch for hidden_layers.2.weight: copying a param of torch.Size([100, 200]) from checkpoint, where the shape is torch.Size([128, 256]) in current model.\n\tsize mismatch for hidden_layers.2.bias: copying a param of torch.Size([100]) from checkpoint, where the shape is torch.Size([128]) in current model.\n\tsize mismatch for output.weight: copying a param of torch.Size([10, 100]) from checkpoint, where the shape is torch.Size([10, 128]) in current model."
     ]
    }
   ],
   "source": [
    "# Try this\n",
    "model = fc_model.Network(784, 10, [400, 200, 100])\n",
    "# This will throw an error because the tensor sizes are wrong!\n",
    "model.load_state_dict(state_dict)"
   ]
  },
  {
   "cell_type": "markdown",
   "metadata": {},
   "source": [
    "This means we need to rebuild the model exactly as it was when trained. Information about the model architecture needs to be saved in the checkpoint, along with the state dict. To do this, you build a dictionary with all the information you need to compeletely rebuild the model."
   ]
  },
  {
   "cell_type": "code",
   "execution_count": 12,
   "metadata": {},
   "outputs": [
    {
     "name": "stdout",
     "output_type": "stream",
     "text": [
      "{'input_size': 784, 'output_size': 10, 'hidden_layers': [400, 200, 100], 'state_dict': OrderedDict([('hidden_layers.0.weight', tensor([[ 0.0219, -0.0154, -0.0161,  ..., -0.0208, -0.0302, -0.0211],\n",
      "        [ 0.0095, -0.0158, -0.0214,  ..., -0.0017,  0.0295,  0.0136],\n",
      "        [ 0.0039, -0.0219,  0.0329,  ..., -0.0043, -0.0156,  0.0355],\n",
      "        ...,\n",
      "        [-0.0057,  0.0157, -0.0079,  ..., -0.0295,  0.0261,  0.0199],\n",
      "        [ 0.0116,  0.0108,  0.0202,  ..., -0.0279,  0.0263, -0.0111],\n",
      "        [ 0.0196,  0.0277,  0.0308,  ..., -0.0310, -0.0234,  0.0169]])), ('hidden_layers.0.bias', tensor([-0.0108,  0.0063, -0.0054, -0.0061,  0.0245,  0.0052,  0.0070,  0.0007,\n",
      "         0.0101,  0.0125, -0.0073,  0.0332, -0.0152, -0.0024, -0.0352, -0.0293,\n",
      "         0.0119,  0.0337,  0.0043, -0.0259, -0.0132, -0.0216, -0.0183,  0.0190,\n",
      "         0.0224,  0.0275, -0.0263, -0.0240, -0.0056, -0.0046, -0.0159, -0.0082,\n",
      "        -0.0185,  0.0202,  0.0056, -0.0085, -0.0129,  0.0026, -0.0209, -0.0252,\n",
      "         0.0350, -0.0237,  0.0320,  0.0201,  0.0118, -0.0193, -0.0197, -0.0077,\n",
      "         0.0212,  0.0069, -0.0250,  0.0140, -0.0239,  0.0172,  0.0102,  0.0137,\n",
      "         0.0079,  0.0169,  0.0041, -0.0357, -0.0287, -0.0220, -0.0309,  0.0266,\n",
      "         0.0243,  0.0217,  0.0100,  0.0016, -0.0203,  0.0123,  0.0227,  0.0021,\n",
      "        -0.0178, -0.0031, -0.0090, -0.0046,  0.0202,  0.0113,  0.0119, -0.0132,\n",
      "         0.0052,  0.0143,  0.0081, -0.0291,  0.0008, -0.0077,  0.0206,  0.0196,\n",
      "        -0.0288, -0.0023,  0.0042, -0.0240,  0.0072, -0.0244, -0.0081,  0.0136,\n",
      "        -0.0116, -0.0003,  0.0026, -0.0297, -0.0008,  0.0287, -0.0205,  0.0120,\n",
      "        -0.0015, -0.0281,  0.0022,  0.0179, -0.0334,  0.0064,  0.0041, -0.0223,\n",
      "         0.0030,  0.0100, -0.0205,  0.0179, -0.0113,  0.0135,  0.0126,  0.0103,\n",
      "         0.0056, -0.0184,  0.0285,  0.0061, -0.0231, -0.0196,  0.0229, -0.0077,\n",
      "        -0.0056, -0.0274,  0.0104, -0.0083,  0.0094,  0.0229,  0.0268, -0.0136,\n",
      "        -0.0252, -0.0324,  0.0123, -0.0144, -0.0220,  0.0072,  0.0290, -0.0258,\n",
      "        -0.0339,  0.0133,  0.0356, -0.0033, -0.0256,  0.0356, -0.0014, -0.0018,\n",
      "        -0.0081,  0.0161, -0.0121,  0.0231,  0.0037, -0.0110,  0.0239, -0.0113,\n",
      "         0.0128, -0.0035, -0.0234,  0.0160,  0.0221, -0.0176,  0.0193,  0.0161,\n",
      "        -0.0246, -0.0237, -0.0288, -0.0140,  0.0217, -0.0325, -0.0163, -0.0051,\n",
      "        -0.0052,  0.0264,  0.0263, -0.0335, -0.0029,  0.0034, -0.0280,  0.0124,\n",
      "        -0.0336, -0.0330, -0.0073,  0.0094,  0.0297, -0.0279,  0.0029,  0.0197,\n",
      "         0.0111, -0.0240, -0.0320, -0.0347, -0.0330,  0.0074,  0.0110, -0.0007,\n",
      "        -0.0330,  0.0158, -0.0263, -0.0013, -0.0156,  0.0171, -0.0165, -0.0276,\n",
      "         0.0139, -0.0225, -0.0101,  0.0291,  0.0244, -0.0097, -0.0343, -0.0262,\n",
      "         0.0331,  0.0188, -0.0322, -0.0241,  0.0087,  0.0099,  0.0142, -0.0205,\n",
      "        -0.0339,  0.0313,  0.0304,  0.0103,  0.0294, -0.0178, -0.0227,  0.0149,\n",
      "        -0.0257, -0.0248,  0.0128, -0.0294,  0.0352, -0.0058,  0.0345, -0.0167,\n",
      "        -0.0185,  0.0223, -0.0176, -0.0246, -0.0256, -0.0296, -0.0221, -0.0036,\n",
      "         0.0033, -0.0233, -0.0310,  0.0239, -0.0046,  0.0067,  0.0252,  0.0279,\n",
      "         0.0111, -0.0326, -0.0124,  0.0092, -0.0154, -0.0140, -0.0337, -0.0075,\n",
      "         0.0074, -0.0154,  0.0064, -0.0066,  0.0105, -0.0242, -0.0204,  0.0282,\n",
      "        -0.0189, -0.0132, -0.0162,  0.0308, -0.0301, -0.0010,  0.0017,  0.0090,\n",
      "        -0.0064, -0.0137,  0.0299,  0.0183,  0.0126, -0.0282,  0.0136, -0.0331,\n",
      "        -0.0261, -0.0207,  0.0078,  0.0248, -0.0017,  0.0134, -0.0185, -0.0289,\n",
      "         0.0269,  0.0301,  0.0023,  0.0141, -0.0148, -0.0295, -0.0333, -0.0320,\n",
      "        -0.0133, -0.0042,  0.0111, -0.0084,  0.0136,  0.0053,  0.0250,  0.0171,\n",
      "         0.0277,  0.0113,  0.0214,  0.0228, -0.0237,  0.0223, -0.0242,  0.0162,\n",
      "         0.0130,  0.0097, -0.0187, -0.0088,  0.0241,  0.0085, -0.0149, -0.0036,\n",
      "         0.0319,  0.0190, -0.0114, -0.0110, -0.0181, -0.0140, -0.0051, -0.0164,\n",
      "         0.0050,  0.0017,  0.0294,  0.0098, -0.0255, -0.0357,  0.0115,  0.0138,\n",
      "        -0.0223, -0.0144, -0.0083,  0.0305, -0.0286, -0.0213,  0.0295,  0.0154,\n",
      "        -0.0177, -0.0244, -0.0155,  0.0075, -0.0351,  0.0194, -0.0311, -0.0027,\n",
      "        -0.0023,  0.0207,  0.0242, -0.0084,  0.0122,  0.0145,  0.0150, -0.0245,\n",
      "        -0.0073, -0.0151, -0.0293,  0.0101, -0.0347, -0.0279, -0.0289,  0.0246,\n",
      "        -0.0255,  0.0144,  0.0152,  0.0099, -0.0033,  0.0205,  0.0096, -0.0038,\n",
      "         0.0144, -0.0131, -0.0291,  0.0325,  0.0161,  0.0325,  0.0173,  0.0023,\n",
      "         0.0121, -0.0212, -0.0331, -0.0197,  0.0009,  0.0161, -0.0262, -0.0099])), ('hidden_layers.1.weight', tensor([[ 0.0284, -0.0474,  0.0290,  ..., -0.0215,  0.0412,  0.0241],\n",
      "        [-0.0410,  0.0041,  0.0274,  ...,  0.0464,  0.0250,  0.0245],\n",
      "        [-0.0061,  0.0320, -0.0177,  ...,  0.0218,  0.0257, -0.0116],\n",
      "        ...,\n",
      "        [ 0.0066,  0.0015, -0.0307,  ..., -0.0354, -0.0135, -0.0096],\n",
      "        [-0.0185,  0.0177,  0.0243,  ...,  0.0192, -0.0397, -0.0354],\n",
      "        [-0.0404, -0.0419,  0.0285,  ...,  0.0423,  0.0447,  0.0075]])), ('hidden_layers.1.bias', tensor([ 0.0039, -0.0217, -0.0144, -0.0170,  0.0395,  0.0233,  0.0138, -0.0081,\n",
      "         0.0294,  0.0464,  0.0471,  0.0387, -0.0328, -0.0364,  0.0460, -0.0474,\n",
      "         0.0051,  0.0425,  0.0012,  0.0106,  0.0499,  0.0341,  0.0009, -0.0005,\n",
      "        -0.0323,  0.0268, -0.0453,  0.0244, -0.0073,  0.0198, -0.0362,  0.0385,\n",
      "        -0.0235, -0.0052,  0.0373,  0.0326,  0.0145, -0.0412,  0.0230,  0.0131,\n",
      "         0.0127,  0.0058,  0.0364, -0.0165,  0.0380,  0.0316,  0.0309, -0.0102,\n",
      "        -0.0025,  0.0289, -0.0410, -0.0242,  0.0105, -0.0184,  0.0011, -0.0043,\n",
      "        -0.0236,  0.0112, -0.0209, -0.0089, -0.0158,  0.0328, -0.0466,  0.0461,\n",
      "        -0.0183,  0.0078,  0.0216,  0.0042, -0.0438,  0.0411, -0.0418,  0.0322,\n",
      "        -0.0024,  0.0120, -0.0100,  0.0145,  0.0320,  0.0140, -0.0422,  0.0394,\n",
      "        -0.0006, -0.0469, -0.0039, -0.0112,  0.0479,  0.0245,  0.0201,  0.0017,\n",
      "         0.0073, -0.0283,  0.0325, -0.0276, -0.0048,  0.0491,  0.0171,  0.0130,\n",
      "         0.0400,  0.0185, -0.0470, -0.0496,  0.0036,  0.0415, -0.0153, -0.0463,\n",
      "         0.0197,  0.0144, -0.0141,  0.0293,  0.0352, -0.0243,  0.0293, -0.0361,\n",
      "         0.0088, -0.0375, -0.0448, -0.0164,  0.0039, -0.0332,  0.0183,  0.0302,\n",
      "         0.0108,  0.0395,  0.0467, -0.0457, -0.0349, -0.0107,  0.0155, -0.0136,\n",
      "        -0.0062,  0.0047,  0.0208,  0.0164, -0.0395,  0.0270,  0.0167, -0.0077,\n",
      "         0.0261, -0.0459,  0.0120, -0.0307, -0.0468,  0.0439,  0.0409, -0.0298,\n",
      "         0.0281, -0.0351, -0.0081, -0.0154,  0.0014,  0.0121, -0.0177,  0.0081,\n",
      "        -0.0357,  0.0294,  0.0349,  0.0289,  0.0373,  0.0232,  0.0060, -0.0088,\n",
      "         0.0286, -0.0441, -0.0431, -0.0446,  0.0164,  0.0267, -0.0391, -0.0340,\n",
      "        -0.0103,  0.0105, -0.0248, -0.0041, -0.0420,  0.0211, -0.0187, -0.0144,\n",
      "        -0.0024,  0.0484,  0.0198,  0.0069, -0.0445, -0.0031, -0.0050, -0.0182,\n",
      "         0.0079, -0.0308,  0.0247, -0.0295, -0.0429,  0.0101, -0.0356, -0.0014,\n",
      "         0.0403,  0.0279, -0.0247,  0.0088,  0.0498,  0.0328, -0.0155,  0.0161])), ('hidden_layers.2.weight', tensor([[ 0.0577,  0.0607,  0.0550,  ...,  0.0198, -0.0531,  0.0624],\n",
      "        [ 0.0347, -0.0067,  0.0527,  ...,  0.0287,  0.0636, -0.0382],\n",
      "        [-0.0276, -0.0033,  0.0531,  ...,  0.0165, -0.0097,  0.0240],\n",
      "        ...,\n",
      "        [ 0.0688,  0.0008,  0.0140,  ...,  0.0114, -0.0209, -0.0237],\n",
      "        [ 0.0524,  0.0137,  0.0612,  ..., -0.0008,  0.0475, -0.0095],\n",
      "        [ 0.0410,  0.0008, -0.0510,  ..., -0.0410, -0.0599, -0.0087]])), ('hidden_layers.2.bias', tensor([ 0.0701, -0.0433,  0.0481,  0.0481, -0.0051, -0.0545,  0.0401, -0.0702,\n",
      "        -0.0111,  0.0367, -0.0433,  0.0452, -0.0321,  0.0665,  0.0422, -0.0479,\n",
      "         0.0294,  0.0681, -0.0133, -0.0121,  0.0019, -0.0089, -0.0363, -0.0182,\n",
      "         0.0416,  0.0450, -0.0351, -0.0362, -0.0433, -0.0525,  0.0008, -0.0129,\n",
      "        -0.0513,  0.0259,  0.0344, -0.0260, -0.0106,  0.0260,  0.0676,  0.0013,\n",
      "        -0.0543, -0.0025, -0.0387,  0.0102, -0.0420, -0.0391,  0.0680, -0.0318,\n",
      "         0.0342,  0.0033,  0.0301, -0.0171,  0.0253,  0.0487,  0.0177, -0.0560,\n",
      "         0.0079,  0.0131, -0.0560, -0.0373,  0.0548, -0.0364,  0.0020,  0.0153,\n",
      "        -0.0581, -0.0252,  0.0374, -0.0086, -0.0116,  0.0042, -0.0144, -0.0477,\n",
      "         0.0162,  0.0256,  0.0506,  0.0414,  0.0168,  0.0326, -0.0562,  0.0196,\n",
      "         0.0473,  0.0469,  0.0514,  0.0080,  0.0253, -0.0292,  0.0599,  0.0085,\n",
      "        -0.0105,  0.0016,  0.0615, -0.0447,  0.0560,  0.0614,  0.0065, -0.0629,\n",
      "        -0.0222,  0.0055, -0.0100, -0.0464])), ('output.weight', tensor([[-0.0106,  0.0412,  0.0650,  0.0004,  0.0460, -0.0546,  0.0928,  0.0438,\n",
      "         -0.0414, -0.0801, -0.0423,  0.0708,  0.0587,  0.0664,  0.0667, -0.0883,\n",
      "          0.0138,  0.0673,  0.0946, -0.0407,  0.0540, -0.0952, -0.0067,  0.0179,\n",
      "         -0.0763,  0.0266, -0.0838,  0.0178, -0.0179,  0.0012, -0.0106,  0.0498,\n",
      "         -0.0685,  0.0193,  0.0322, -0.0517, -0.0115,  0.0451,  0.0755,  0.0119,\n",
      "         -0.0700, -0.0546,  0.0629,  0.0937, -0.0004, -0.0990,  0.0158, -0.0184,\n",
      "          0.0046,  0.0541, -0.0485,  0.0389, -0.0077, -0.0054,  0.0066,  0.0327,\n",
      "         -0.0611,  0.0444, -0.0538, -0.0698,  0.0501,  0.0867, -0.0619,  0.0141,\n",
      "         -0.0971,  0.0686,  0.0797, -0.0691, -0.0799,  0.0092, -0.0714,  0.0653,\n",
      "         -0.0289,  0.0748, -0.0666,  0.0248, -0.0815, -0.0349, -0.0579,  0.0136,\n",
      "          0.0157, -0.0381,  0.0506, -0.0805,  0.0275,  0.0472,  0.0576,  0.0809,\n",
      "         -0.0382, -0.0325,  0.0111, -0.0860, -0.0914,  0.0992, -0.0270, -0.0118,\n",
      "          0.0822, -0.0490, -0.0550, -0.0795],\n",
      "        [-0.0371,  0.0756,  0.0069,  0.0242, -0.0162, -0.0978,  0.0473, -0.0030,\n",
      "         -0.0094,  0.0951, -0.0311,  0.0868, -0.0827, -0.0606,  0.0085, -0.0908,\n",
      "         -0.0870, -0.0448, -0.0520,  0.0774,  0.0428, -0.0844,  0.0480,  0.0128,\n",
      "         -0.0465,  0.0469, -0.0332,  0.0838,  0.0758, -0.0063,  0.0973,  0.0625,\n",
      "          0.0464,  0.0338,  0.0596,  0.0096,  0.0924, -0.0264,  0.0322, -0.0115,\n",
      "         -0.0150,  0.0284,  0.0498,  0.0638, -0.0126,  0.0354, -0.0941, -0.0787,\n",
      "         -0.0508, -0.0756,  0.0709, -0.0503,  0.0484,  0.0538,  0.0125,  0.0176,\n",
      "          0.0902, -0.0443, -0.0248, -0.0953,  0.0401,  0.0775,  0.0198,  0.0201,\n",
      "          0.0543, -0.0426,  0.0456,  0.0269,  0.0087, -0.0620,  0.0226,  0.0298,\n",
      "          0.0925,  0.0625,  0.0621, -0.0179, -0.0905, -0.0006,  0.0474, -0.0387,\n",
      "          0.0995,  0.0687,  0.0244,  0.0742,  0.0478,  0.0838, -0.0984, -0.0501,\n",
      "          0.0810, -0.0348,  0.0819,  0.0611, -0.0050, -0.0231,  0.0568,  0.0434,\n",
      "          0.0899,  0.0259,  0.0722, -0.0463],\n",
      "        [-0.0979, -0.0924,  0.0004, -0.0559, -0.0324, -0.0827,  0.0333, -0.0616,\n",
      "         -0.0183,  0.0726,  0.0218,  0.0838,  0.0073, -0.0779,  0.0379,  0.0277,\n",
      "         -0.0835,  0.0523,  0.0142, -0.0969, -0.0584, -0.0368,  0.0767,  0.0575,\n",
      "         -0.0041,  0.0223,  0.0345, -0.0278,  0.0769, -0.0322, -0.0578,  0.0900,\n",
      "         -0.0301, -0.0484,  0.0668, -0.0331,  0.0632,  0.0025,  0.0826,  0.0510,\n",
      "          0.0074,  0.0410, -0.0677, -0.0991, -0.0492, -0.0697, -0.0128,  0.0681,\n",
      "          0.0013, -0.0745, -0.0515, -0.0148,  0.0943, -0.0038,  0.0108,  0.0974,\n",
      "         -0.0826, -0.0009,  0.0548,  0.0560,  0.0112,  0.0243, -0.0352,  0.0849,\n",
      "         -0.0813,  0.0398, -0.0270,  0.0395, -0.0215,  0.0743,  0.0976, -0.0492,\n",
      "          0.0724,  0.0259,  0.0328, -0.0582,  0.0958,  0.0259,  0.0064, -0.0147,\n",
      "          0.0602,  0.0650,  0.0000,  0.0752,  0.0240,  0.0457, -0.0673, -0.0770,\n",
      "         -0.0115,  0.0255, -0.0541, -0.0679,  0.0512, -0.0814,  0.0855,  0.0331,\n",
      "         -0.0201,  0.0561,  0.0023,  0.0016],\n",
      "        [ 0.0987,  0.0777,  0.0101,  0.0507, -0.0515,  0.0807,  0.0094,  0.0942,\n",
      "          0.0168, -0.0857, -0.0020, -0.0896,  0.0829, -0.0096,  0.0586,  0.0323,\n",
      "         -0.0040,  0.0134,  0.0532,  0.0081,  0.0736, -0.0923, -0.0884,  0.0305,\n",
      "          0.0475,  0.0250,  0.0168, -0.0347, -0.0029, -0.0537,  0.0084,  0.0344,\n",
      "         -0.0534,  0.0501,  0.0651,  0.0747, -0.0456, -0.0911, -0.0663, -0.0190,\n",
      "          0.0548, -0.0576,  0.0662,  0.0342, -0.0665, -0.0788,  0.0885,  0.0347,\n",
      "          0.0623, -0.0851,  0.0476,  0.0526, -0.0054,  0.0090, -0.0371, -0.0318,\n",
      "         -0.0391,  0.0123,  0.0222,  0.0732,  0.0761,  0.0649,  0.0314, -0.0646,\n",
      "          0.0368,  0.0422, -0.0514, -0.0365, -0.0130,  0.0325,  0.0369,  0.0412,\n",
      "          0.0720, -0.0405,  0.0784,  0.0084,  0.0609, -0.0084,  0.0905, -0.0449,\n",
      "         -0.0559, -0.0077,  0.0388, -0.0825,  0.0632,  0.0795, -0.0401,  0.0819,\n",
      "          0.0270, -0.0501, -0.0377,  0.0476,  0.0070, -0.0323, -0.0520,  0.0586,\n",
      "          0.0012, -0.0559,  0.0488,  0.0691],\n",
      "        [-0.0396, -0.0024, -0.0734,  0.0749, -0.0785,  0.0026,  0.0975,  0.0018,\n",
      "         -0.0361,  0.0081, -0.0519, -0.0272, -0.0026, -0.0214, -0.0136,  0.0305,\n",
      "          0.0336,  0.0744,  0.0003, -0.0462, -0.0656, -0.0754,  0.0306, -0.0727,\n",
      "         -0.0301, -0.0379, -0.0242,  0.0402, -0.0373, -0.0352,  0.0336, -0.0754,\n",
      "          0.0917,  0.0169,  0.0844, -0.0745, -0.0118,  0.0550, -0.0406,  0.0323,\n",
      "         -0.0726,  0.0654, -0.0122, -0.0343, -0.0798,  0.0221,  0.0361,  0.0704,\n",
      "          0.0528,  0.0537, -0.0890, -0.0148, -0.0881,  0.0034, -0.0702, -0.0190,\n",
      "          0.0881,  0.0317, -0.0422, -0.0365,  0.0112, -0.0059,  0.0749, -0.0764,\n",
      "         -0.0291,  0.0803, -0.0353, -0.0303, -0.0406,  0.0737, -0.0403, -0.0051,\n",
      "         -0.0984,  0.0059, -0.0136, -0.0154,  0.0309, -0.0052,  0.0459, -0.0013,\n",
      "         -0.0879,  0.0231,  0.0371, -0.0863,  0.0066,  0.0652,  0.0528, -0.0882,\n",
      "         -0.0814, -0.0318,  0.0753,  0.0060, -0.0106, -0.0042, -0.0527,  0.0927,\n",
      "          0.0524,  0.0116, -0.0318, -0.0409],\n",
      "        [-0.0843, -0.0677, -0.0003,  0.0433, -0.0643,  0.0028, -0.0351,  0.0196,\n",
      "         -0.0948,  0.0742,  0.0930,  0.0047, -0.0882,  0.0561,  0.0693,  0.0824,\n",
      "          0.0361, -0.0577, -0.0745, -0.0109, -0.0193, -0.0931, -0.0539,  0.0828,\n",
      "         -0.0979,  0.0101, -0.0098, -0.0299, -0.0099,  0.0420, -0.0786, -0.0850,\n",
      "         -0.0675, -0.0941, -0.0205, -0.0612,  0.0626,  0.0053,  0.0056,  0.0451,\n",
      "          0.0191,  0.0637, -0.0037, -0.0772, -0.0608,  0.0838,  0.0389, -0.0389,\n",
      "          0.0120, -0.0715,  0.0176,  0.0592, -0.0695,  0.0858,  0.0090,  0.0458,\n",
      "         -0.0501,  0.0468, -0.0581,  0.0044,  0.0047,  0.0836,  0.0422,  0.0397,\n",
      "          0.0674, -0.0765,  0.0331,  0.0482, -0.0963, -0.0253, -0.0120,  0.0252,\n",
      "          0.0099,  0.0566,  0.0439,  0.0756,  0.0362,  0.0665,  0.0691,  0.0546,\n",
      "          0.0889, -0.0831, -0.0645,  0.0832, -0.0218, -0.0208,  0.0326,  0.0946,\n",
      "         -0.0991, -0.0207, -0.0701, -0.0686, -0.0918, -0.0285,  0.0524, -0.0306,\n",
      "          0.0901, -0.0585, -0.0265,  0.0883],\n",
      "        [-0.0657, -0.0160, -0.0064, -0.0331, -0.0611,  0.0083,  0.0886, -0.0508,\n",
      "          0.0566, -0.0722, -0.0823,  0.0355, -0.0648, -0.0166, -0.0527,  0.0357,\n",
      "          0.0709,  0.0072,  0.0178,  0.0882, -0.0116, -0.0199,  0.0391, -0.0446,\n",
      "         -0.0862, -0.0527, -0.0311,  0.0551,  0.0216,  0.1000,  0.0566, -0.0060,\n",
      "         -0.0611,  0.0690, -0.0145,  0.0943, -0.0415,  0.0289,  0.0870,  0.0970,\n",
      "          0.0145,  0.0807,  0.0436,  0.0189, -0.0451,  0.0679,  0.0222,  0.0028,\n",
      "         -0.0941,  0.0673,  0.0584,  0.0701,  0.0356, -0.0743, -0.0083,  0.0120,\n",
      "          0.0015, -0.0828, -0.0179, -0.0166, -0.0112,  0.0743, -0.0794, -0.0393,\n",
      "         -0.0679,  0.0574, -0.0008,  0.0187, -0.0738, -0.0146,  0.0310,  0.0416,\n",
      "         -0.0188, -0.0857, -0.0260, -0.0596, -0.0971, -0.0524, -0.0566, -0.0331,\n",
      "         -0.0609, -0.0564,  0.0233,  0.0398, -0.0844,  0.0088, -0.0770,  0.0314,\n",
      "          0.0477,  0.0782, -0.0289,  0.0855, -0.0544, -0.0116, -0.0233, -0.0377,\n",
      "          0.0618, -0.0491, -0.0351,  0.0857],\n",
      "        [-0.0833, -0.0612, -0.0088, -0.0302, -0.0214,  0.0671, -0.0292, -0.0519,\n",
      "         -0.0473, -0.0500,  0.0181,  0.0385, -0.0273,  0.0026, -0.0950, -0.0330,\n",
      "         -0.0685, -0.0370, -0.0691, -0.0201, -0.0208,  0.0509, -0.0370,  0.0535,\n",
      "          0.0446,  0.0939,  0.0993, -0.0259,  0.0044, -0.0143, -0.0237,  0.0880,\n",
      "         -0.0963, -0.0225,  0.0111, -0.0699, -0.0945,  0.0186, -0.0763,  0.0008,\n",
      "          0.0193,  0.0272, -0.0664,  0.0097,  0.0237, -0.0872, -0.0865,  0.0150,\n",
      "          0.0980, -0.0891, -0.0936,  0.0135,  0.0976, -0.0341, -0.0775,  0.0896,\n",
      "          0.0611,  0.0135,  0.0595,  0.0943,  0.0790, -0.0539, -0.0667, -0.0738,\n",
      "         -0.0465,  0.0220, -0.0207,  0.0023, -0.0903,  0.0387,  0.0626, -0.0373,\n",
      "         -0.0521, -0.0539, -0.0831,  0.0387, -0.0454,  0.0138,  0.0749, -0.0898,\n",
      "          0.0067,  0.0482,  0.0310,  0.0553, -0.0739, -0.0836,  0.0023,  0.0436,\n",
      "          0.0734,  0.0680, -0.0984,  0.0438, -0.0207,  0.0883, -0.0157, -0.0162,\n",
      "         -0.0008,  0.0754, -0.0782, -0.0497],\n",
      "        [-0.0285,  0.0794, -0.0012,  0.0872, -0.0902, -0.0476,  0.0451,  0.0076,\n",
      "          0.0175,  0.0315, -0.0441, -0.0106,  0.0400,  0.0560,  0.0836,  0.0601,\n",
      "         -0.0625, -0.0940, -0.0141,  0.0250, -0.0063,  0.0680, -0.0024,  0.0162,\n",
      "         -0.0006,  0.0947,  0.0607, -0.0232,  0.0875, -0.0728,  0.0243,  0.0770,\n",
      "          0.0039,  0.0469,  0.0317,  0.0233, -0.0170, -0.0033,  0.0184, -0.0219,\n",
      "         -0.0230, -0.0708, -0.0240,  0.0665,  0.0874,  0.0299,  0.0130, -0.0641,\n",
      "          0.0600, -0.0248, -0.0641, -0.0072, -0.0234,  0.0567,  0.0998, -0.0416,\n",
      "         -0.0526, -0.0585,  0.0594, -0.0049,  0.0232, -0.0478, -0.0702, -0.0828,\n",
      "          0.0895, -0.0708, -0.0898, -0.0956, -0.0732,  0.0195, -0.0101, -0.0478,\n",
      "          0.0279,  0.0473,  0.0302, -0.0599, -0.0388, -0.0463, -0.0637,  0.0659,\n",
      "         -0.0335,  0.0098, -0.0667,  0.0856, -0.0349, -0.0907,  0.0518,  0.0546,\n",
      "          0.0854,  0.0340,  0.0918, -0.0849,  0.0046, -0.0535,  0.0222,  0.0898,\n",
      "         -0.0043,  0.0927,  0.0309, -0.0677],\n",
      "        [-0.0466, -0.0572,  0.0098, -0.0424, -0.0626,  0.0831,  0.0047, -0.0642,\n",
      "          0.0831,  0.0299, -0.0448, -0.0878,  0.0663,  0.0574, -0.0338,  0.0096,\n",
      "         -0.0565, -0.0806,  0.0115,  0.0561, -0.0419, -0.0228, -0.0757, -0.0890,\n",
      "          0.0624,  0.0272,  0.0409, -0.0891, -0.0516,  0.0318,  0.0250,  0.0967,\n",
      "          0.0275,  0.0892, -0.0534, -0.0994,  0.0848, -0.0386, -0.0708, -0.0689,\n",
      "         -0.0729,  0.0934, -0.0309, -0.0359,  0.0726, -0.0205, -0.0827, -0.0139,\n",
      "         -0.0072, -0.0580, -0.0519,  0.0139, -0.0513, -0.0342,  0.0038,  0.0397,\n",
      "          0.0559, -0.0611,  0.0187,  0.0039, -0.0291, -0.0511, -0.0422, -0.0010,\n",
      "         -0.0062, -0.0540,  0.0285, -0.0686,  0.0524,  0.0095,  0.0088,  0.0806,\n",
      "         -0.0154,  0.0987, -0.0890,  0.0974,  0.0453, -0.0894,  0.0300, -0.0555,\n",
      "          0.0767, -0.0050, -0.0749, -0.0534,  0.0508, -0.0615,  0.0169,  0.0775,\n",
      "         -0.0528,  0.0986,  0.0510,  0.0032, -0.0681, -0.0616,  0.0225, -0.0190,\n",
      "         -0.0287,  0.0357,  0.0143,  0.0098]])), ('output.bias', tensor([-0.0826, -0.2735,  0.0066,  0.0935, -0.0448,  0.0526, -0.0245, -0.0378,\n"
     ]
    },
    {
     "name": "stdout",
     "output_type": "stream",
     "text": [
      "        -0.0119, -0.0242]))])}\n"
     ]
    }
   ],
   "source": [
    "checkpoint = {'input_size': 784,\n",
    "              'output_size': 10,\n",
    "              'hidden_layers': [each.out_features for each in model.hidden_layers],\n",
    "              'state_dict': model.state_dict()}\n",
    "\n",
    "torch.save(checkpoint, 'checkpoint.pth')\n",
    "print(checkpoint)"
   ]
  },
  {
   "cell_type": "markdown",
   "metadata": {},
   "source": [
    "Now the checkpoint has all the necessary information to rebuild the trained model. You can easily make that a function if you want. Similarly, we can write a function to load checkpoints. "
   ]
  },
  {
   "cell_type": "code",
   "execution_count": 13,
   "metadata": {},
   "outputs": [],
   "source": [
    "def load_checkpoint(filepath):\n",
    "    checkpoint = torch.load(filepath)\n",
    "    model = fc_model.Network(checkpoint['input_size'],\n",
    "                             checkpoint['output_size'],\n",
    "                             checkpoint['hidden_layers'])\n",
    "    model.load_state_dict(checkpoint['state_dict'])\n",
    "    \n",
    "    return model"
   ]
  },
  {
   "cell_type": "code",
   "execution_count": 14,
   "metadata": {},
   "outputs": [
    {
     "name": "stdout",
     "output_type": "stream",
     "text": [
      "Network(\n",
      "  (hidden_layers): ModuleList(\n",
      "    (0): Linear(in_features=784, out_features=400, bias=True)\n",
      "    (1): Linear(in_features=400, out_features=200, bias=True)\n",
      "    (2): Linear(in_features=200, out_features=100, bias=True)\n",
      "  )\n",
      "  (output): Linear(in_features=100, out_features=10, bias=True)\n",
      "  (dropout): Dropout(p=0.5)\n",
      ")\n"
     ]
    }
   ],
   "source": [
    "model = load_checkpoint('checkpoint.pth')\n",
    "print(model)"
   ]
  },
  {
   "cell_type": "code",
   "execution_count": null,
   "metadata": {},
   "outputs": [],
   "source": []
  }
 ],
 "metadata": {
  "kernelspec": {
   "display_name": "Python 3",
   "language": "python",
   "name": "python3"
  },
  "language_info": {
   "codemirror_mode": {
    "name": "ipython",
    "version": 3
   },
   "file_extension": ".py",
   "mimetype": "text/x-python",
   "name": "python",
   "nbconvert_exporter": "python",
   "pygments_lexer": "ipython3",
   "version": "3.6.6"
  }
 },
 "nbformat": 4,
 "nbformat_minor": 2
}
